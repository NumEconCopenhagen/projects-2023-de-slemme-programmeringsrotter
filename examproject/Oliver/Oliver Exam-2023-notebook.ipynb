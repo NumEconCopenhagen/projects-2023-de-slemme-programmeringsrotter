{
 "cells": [
  {
   "attachments": {},
   "cell_type": "markdown",
   "metadata": {},
   "source": [
    "# Exam - Introduction to programming and numerical analysis - De slemme programmeringsrotter"
   ]
  },
  {
   "attachments": {},
   "cell_type": "markdown",
   "metadata": {},
   "source": [
    "**Table of contents**   \n",
    "1. Problem 1: Optimal taxation with government consumption \n",
    "    1. Question 1\n",
    "    2. Question 2\n",
    "    3. Question 3\n",
    "    4. Question 4\n",
    "    5. Question 5\n",
    "    6. Question 6\n",
    "2. Problem 2: Labor adjustment costs  \n",
    "3. Problem 3: Global optimizer with refined multi-start\n"
   ]
  },
  {
   "cell_type": "code",
   "execution_count": 1,
   "metadata": {},
   "outputs": [],
   "source": [
    "## Importing necessary libraries\n",
    "import numpy as np\n",
    "import sympy as sm\n",
    "from scipy import optimize\n",
    "from IPython.display import display\n",
    "import matplotlib.pyplot as plt\n",
    "import ipywidgets as widgets\n",
    "from scipy import optimize\n",
    "\n",
    "## For better looking output\n",
    "sm.init_printing(use_unicode=True)\n",
    "\n",
    "## Autoreload modules when code is run\n",
    "%load_ext autoreload\n",
    "%autoreload 2"
   ]
  },
  {
   "attachments": {},
   "cell_type": "markdown",
   "metadata": {},
   "source": [
    "## **Problem 1: Optimal taxation with government consumption**"
   ]
  },
  {
   "attachments": {},
   "cell_type": "markdown",
   "metadata": {},
   "source": [
    "\n",
    "**Consider a worker choosing hours of labor, $L\\in[0,24]$, to maximize utility:**\n",
    "\n",
    "$$\n",
    "\\begin{align*}\n",
    "V(w,\\tau,G)&=\\max_{L\\in[0,24]}\\ln\\left(C^{\\alpha}G^{1-\\alpha}\\right)-\\nu\\frac{L^{2}}{2}\\\\&\\text{s.t.}\\\\&C=\\kappa+(1-\\tau)wL\n",
    "\\end{align*}\n",
    "$$\n",
    "\n",
    "**where** \n",
    "\n",
    "* **$C$ is *private* consumption with weight $\\alpha\\in(0,1)$.**\n",
    "* **$\\kappa > 0$ is the *free private* consumption component.**\n",
    "* **$C = (1-\\tau)wL$ is the *costly private* consumption component.**\n",
    "* **$w > 0 $ is the real wage.**\n",
    "* **$\\tau \\in (0,1)$ is the labor-income tax rate.**\n",
    "* **$G > 0 $ is *government* consumption with weight $1-\\alpha$.**\n",
    "* **$\\nu > 0$ is the disutility of labor scaling factor**"
   ]
  },
  {
   "attachments": {},
   "cell_type": "markdown",
   "metadata": {},
   "source": [
    "\n",
    "***The baseline parameters are:***\n",
    "\n",
    "$$\n",
    "\\begin{align*}\n",
    "\\alpha &= 0.5\\\\\n",
    "\\kappa &= 1.0\\\\\n",
    "\\nu &= \\frac{1}{2\\cdot16^2} \\\\\n",
    "w &= 1.0 \\\\ \n",
    "\\tau &= 0.30 \\\\\n",
    "\\end{align*}\n",
    "$$"
   ]
  },
  {
   "attachments": {},
   "cell_type": "markdown",
   "metadata": {},
   "source": [
    "## **Question 1.1:**\n",
    "\n",
    "**Verify that the optimal labor supply choice is $L^{\\star}(\\tilde{w}) =\\frac{-\\kappa+\\sqrt{\\kappa^{2}+4\\frac{\\alpha}{\\nu}\\tilde{w}^2}}{2\\tilde{w}}$, where $\\tilde{w} = (1-\\tau)w$, for $G\\in\\left\\{1.0 , 2.0\\right\\}$.**"
   ]
  },
  {
   "cell_type": "code",
   "execution_count": 2,
   "metadata": {},
   "outputs": [
    {
     "name": "stdout",
     "output_type": "stream",
     "text": [
      "Utility function:\n"
     ]
    },
    {
     "data": {
      "image/png": "[encoded data removed]",
      "text/latex": [
       "$\\displaystyle V = - \\frac{L^{2} \\nu}{2} + \\log{\\left(G^{1 - \\alpha} \\left(L w̃ + \\kappa\\right)^{\\alpha} \\right)}$"
      ],
      "text/plain": [
       "       2                           \n",
       "      L ⋅ν      ⎛ 1 - α          α⎞\n",
       "V = - ──── + log⎝G     ⋅(L⋅w̃ + κ) ⎠\n",
       "       2                           "
      ]
     },
     "metadata": {},
     "output_type": "display_data"
    },
    {
     "name": "stdout",
     "output_type": "stream",
     "text": [
      "\n",
      "\n",
      "Solution for labor supply (equation 1):\n"
     ]
    },
    {
     "data": {
      "image/png": "[encoded data removed]",
      "text/latex": [
       "$\\displaystyle L^{*} = \\frac{- \\kappa \\nu + \\sqrt{\\nu \\left(4 \\alpha w̃^{2} + \\kappa^{2} \\nu\\right)}}{2 \\nu w̃}$"
      ],
      "text/plain": [
       "                 ___________________\n",
       "                ╱   ⎛     2    2  ⎞ \n",
       "       -κ⋅ν + ╲╱  ν⋅⎝4⋅α⋅w̃  + κ ⋅ν⎠\n",
       "L__* = ─────────────────────────────\n",
       "                   2⋅ν⋅w̃           "
      ]
     },
     "metadata": {},
     "output_type": "display_data"
    }
   ],
   "source": [
    "# Define symbols\n",
    "C, kappa, L, w_tilde, tau, G, nu, alpha, V, L_star, w = sm.symbols('C kappa L w̃ tau G nu alpha V L^* w')\n",
    "\n",
    "# Define utility-function with inserted constraints and equation for w̃\n",
    "V_eq = sm.Eq(V,sm.ln(((kappa + w_tilde * L)**alpha)*(G**(1-alpha))) - nu * ((L**2)/2))\n",
    "print('Utility function:')\n",
    "display(V_eq)\n",
    "print('\\n')\n",
    "\n",
    "# Differentiate wrt. L\n",
    "dV_eq = sm.diff(V_eq.rhs, L)\n",
    "\n",
    "# simplify the differentiated equation\n",
    "simplified_eq = sm.simplify(dV_eq)\n",
    "\n",
    "# solve the simplified differential for L\n",
    "solutions = sm.solve(simplified_eq, L)\n",
    "\n",
    "# select only positive-root solution\n",
    "positive_solution = sm.Eq(L_star, solutions[1])\n",
    "\n",
    "# display solution for L^*\n",
    "print('Solution for labor supply (equation 1):')\n",
    "display(positive_solution)"
   ]
  },
  {
   "attachments": {},
   "cell_type": "markdown",
   "metadata": {},
   "source": [
    "The above equation 1 shows a slightly different version than the desired result, but dividing both the numerator and denominator with $\\nu$ gives the exact solution desired:"
   ]
  },
  {
   "attachments": {},
   "cell_type": "markdown",
   "metadata": {},
   "source": [
    "$$\n",
    "\\begin{align}\n",
    "&L^*= \\frac{-\\kappa \\nu+\\sqrt{\\nu\\left(4 \\alpha \\tilde{w}^2+\\kappa^2 \\nu\\right)}}{2 \\nu \\tilde{w}}\n",
    "\n",
    "\\\\\n",
    "\\leftrightarrow \\notag\n",
    "\\\\\n",
    "\n",
    "&L^*= \\frac{\\frac{-\\kappa \\nu+\\sqrt{\\nu\\left(4 \\alpha \\tilde{w}^2+\\kappa^2 \\nu\\right)}}{\\nu}}{\\frac{2 \\nu \\tilde{w}}{\\nu}}\n",
    "\n",
    "\\\\\n",
    "\\leftrightarrow \\notag\n",
    "\\\\\n",
    "\n",
    "&L^*=\\frac{\\frac{-\\kappa \\nu + \\sqrt{\\nu^2\\left(4 \\frac{\\alpha}{\\nu} \\tilde{w}^2+\\kappa^2 \\right)}}{\\nu}}{\\frac{2 \\nu \\tilde{w}}{\\nu}}\n",
    "\n",
    "\\\\\n",
    "\\leftrightarrow \\notag\n",
    "\\\\\n",
    "\n",
    "&L^*=\\frac{\\frac{-\\kappa \\nu + \\nu \\sqrt{\\left(4 \\frac{\\alpha}{\\nu} \\tilde{w}^2+\\kappa^2 \\right)}}{\\nu}}{\\frac{2 \\nu \\tilde{w}}{\\nu}}\n",
    "\n",
    "\\\\\n",
    "\\leftrightarrow \\notag\n",
    "\\\\\n",
    "\n",
    "&L^*=\\frac{-\\kappa + \\sqrt{\\kappa^2 + 4 \\frac{\\alpha}{\\nu} \\tilde{w}^2}}{2 \\tilde{w}}\n",
    "\\end{align}\n",
    "$$"
   ]
  },
  {
   "attachments": {},
   "cell_type": "markdown",
   "metadata": {},
   "source": [
    "Retrieve the expression in code for later use:"
   ]
  },
  {
   "cell_type": "code",
   "execution_count": 3,
   "metadata": {},
   "outputs": [
    {
     "name": "stdout",
     "output_type": "stream",
     "text": [
      "Eq(L^*, (-kappa*nu + sqrt(nu*(4*alpha*w̃**2 + kappa**2*nu)))/(2*nu*w̃))\n"
     ]
    }
   ],
   "source": [
    "print(positive_solution)"
   ]
  },
  {
   "attachments": {},
   "cell_type": "markdown",
   "metadata": {},
   "source": [
    "Use the above as template for equation in following 'L_solution':"
   ]
  },
  {
   "cell_type": "code",
   "execution_count": 4,
   "metadata": {},
   "outputs": [],
   "source": [
    "def calculate_L_solution(w, tau, kappa, alpha, nu):\n",
    "    w_tilde = (1 - tau) * w\n",
    "    L_solution = (-kappa + np.sqrt((4*(alpha/nu)*w_tilde**2 + kappa**2))) / (2 * w_tilde)\n",
    "\n",
    "    return L_solution"
   ]
  },
  {
   "attachments": {},
   "cell_type": "markdown",
   "metadata": {},
   "source": [
    "## **Question 1.2:**\n",
    "**Illustrate how $L^{\\star}(\\tilde{w})$ depends on $w$.**"
   ]
  },
  {
   "cell_type": "code",
   "execution_count": 5,
   "metadata": {},
   "outputs": [
    {
     "data": {
      "image/png": "[encoded data removed]",
      "text/plain": [
       "<Figure size 800x600 with 1 Axes>"
      ]
     },
     "metadata": {},
     "output_type": "display_data"
    }
   ],
   "source": [
    "w = 1.0\n",
    "tau = 0.3\n",
    "kappa = 1.0\n",
    "alpha = 0.5\n",
    "nu = 1 / (2 * 16 ** 2)\n",
    "\n",
    "# Create an array of w values\n",
    "w_values = np.linspace(0.1, 10, 100)  # Adjust the range and the number of points as needed\n",
    "\n",
    "# Compute corresponding L values\n",
    "L_values = calculate_L_solution(w_values, tau, kappa, alpha, nu)\n",
    "w = 1.0\n",
    "# Create the plot\n",
    "plt.figure(figsize=(8,6))\n",
    "plt.plot(w_values, L_values, label='$L^*(\\widetilde{w})$')\n",
    "plt.xlabel('$w$')\n",
    "plt.ylabel('$L^*(\\widetilde{w})$')\n",
    "plt.title('Figure 1: Optimal Labor Supply as a function of wage')\n",
    "plt.legend()\n",
    "plt.grid(True)\n",
    "plt.show()"
   ]
  },
  {
   "attachments": {},
   "cell_type": "markdown",
   "metadata": {},
   "source": [
    "In **Figure 1**, the relationship between the optimal labor hours denoted as $L^{\\star}(\\tilde{w})$ and the wage, $w$, is depicted. Two key characteristics can be observed:\n",
    "\n",
    "1) The optimal labor hours, $L^{\\star}(\\tilde{w})$, increase as the wage, $w$, increases.\n",
    "2) The function representing $L^{\\star}(\\tilde{w})$ exhibits concavity.\n",
    "\n",
    "The concave nature of the function (2) indicates that the optimal labor hours increase with wage, but at a decreasing rate. This behavior is rooted in the utility function, denoted as $V$, which comprises two components: the utility derived from private and public consumption, $ln\\left(C^{\\alpha}G^{1-\\alpha}\\right)$, and the disutility from working, $\\nu\\frac{L^{2}}{2}$. The marginal utility of consuming more diminishes as consumption increases, while the disutility from working increases exponentially with labor hours. As illustrated in Figure 1, this implies that as the wage increases, a relatively larger increase in wage is required per additional unit of optimal labor hour, and eventually, the increase in optimal labor hours becomes almost negligible."
   ]
  },
  {
   "attachments": {},
   "cell_type": "markdown",
   "metadata": {},
   "source": [
    "\n",
    "**We now consider a government, who chooses $\\tau$ and spend all of the taxes on government consumption so:**\n",
    "\n",
    "$$\n",
    "G = \\tau w L^{\\star}((1-\\tau)w)\n",
    "$$\n",
    "\n",
    "## **Question 1.3:**\n",
    "**Plot the implied $L$, $G$ and worker utility for a grid of $\\tau$-values.**\n"
   ]
  },
  {
   "attachments": {},
   "cell_type": "markdown",
   "metadata": {},
   "source": [
    "The code for the three different plots is below. Explanatory text is provided below the figures."
   ]
  },
  {
   "cell_type": "code",
   "execution_count": 6,
   "metadata": {},
   "outputs": [
    {
     "data": {
      "image/png": "[encoded data removed]",
      "text/plain": [
       "<Figure size 700x900 with 3 Axes>"
      ]
     },
     "metadata": {},
     "output_type": "display_data"
    }
   ],
   "source": [
    "# Create arrays of tau values\n",
    "tau_values = np.linspace(0.1, 0.9, 8000)  # Adjust the range and the number of points as needed\n",
    "\n",
    "# Create empty arrays to store L, G, and V values\n",
    "L_values = np.zeros_like(tau_values)\n",
    "G_values = np.zeros_like(tau_values)\n",
    "V_values = np.zeros_like(tau_values)\n",
    "\n",
    "# Compute L, G, and V values for each tau value\n",
    "for i, tau_value in enumerate(tau_values):\n",
    "    # Compute L using the given optimal labor supply function\n",
    "    L_values[i] = calculate_L_solution(w, tau_value, kappa, alpha, nu)\n",
    "\n",
    "    # Compute G using the equation G = tau * w * L\n",
    "    G_values[i] = tau_value * w * L_values[i] * (1-tau_value) * w\n",
    "\n",
    "    # Compute V using the utility function V = log((C**alpha) * (G**(1-alpha))) - nu * L**2 / 2\n",
    "    C_value = kappa + (1 - tau_value) * w * L_values[i]\n",
    "    V_values[i] = np.log((C_value**alpha) * (G_values[i]**(1-alpha))) - nu * L_values[i]**2 / 2\n",
    "\n",
    "# Plot the results\n",
    "fig, axs = plt.subplots(3, 1, figsize=(7, 9))\n",
    "\n",
    "# Plot L vs tau\n",
    "axs[0].plot(tau_values, L_values)\n",
    "axs[0].set_xlabel('$\\\\tau$')\n",
    "axs[0].set_ylabel('$L$')\n",
    "axs[0].set_title('Figure 2: Optimal Labor Supply ($L$)')\n",
    "\n",
    "# Plot G vs tau\n",
    "axs[1].plot(tau_values, G_values)\n",
    "axs[1].set_xlabel('$\\\\tau$')\n",
    "axs[1].set_ylabel('$G$')\n",
    "axs[1].set_title('Figure 3: Government Consumption ($G$)')\n",
    "\n",
    "# Plot V vs tau\n",
    "axs[2].plot(tau_values, V_values)\n",
    "axs[2].set_xlabel('$\\\\tau$')\n",
    "axs[2].set_ylabel('$V$')\n",
    "axs[2].set_title('Figure 4: Worker Utility ($V$)')\n",
    "\n",
    "plt.tight_layout()\n",
    "plt.show()"
   ]
  },
  {
   "attachments": {},
   "cell_type": "markdown",
   "metadata": {},
   "source": [
    "## **Question 1.4:**\n",
    "**Find the socially optimal tax rate $\\tau^{\\star}\\in(0,1)$ maximizing worker utility. Illustrate your result.**"
   ]
  },
  {
   "cell_type": "code",
   "execution_count": 7,
   "metadata": {},
   "outputs": [
    {
     "data": {
      "image/png": "[encoded data removed]",
      "text/plain": [
       "<Figure size 600x400 with 1 Axes>"
      ]
     },
     "metadata": {},
     "output_type": "display_data"
    },
    {
     "name": "stdout",
     "output_type": "stream",
     "text": [
      "The tau value that maximizes V is approximately: 0.338\n"
     ]
    }
   ],
   "source": [
    "# Find the index of the tau value that maximizes V\n",
    "max_index = np.argmax(V_values)\n",
    "max_tau = tau_values[max_index]\n",
    "max_V = V_values[max_index]\n",
    "\n",
    "# Plot the results\n",
    "plt.figure(figsize=(6, 4))\n",
    "plt.plot(tau_values, V_values)\n",
    "plt.scatter(max_tau, max_V, color='red', label='Max V')  # Add red dot at the maximum V point\n",
    "plt.xlabel('$\\\\tau$')\n",
    "plt.ylabel('$V$')\n",
    "plt.title('Worker Utility ($V$) as a function of $\\\\tau$')\n",
    "plt.legend()\n",
    "plt.grid(True)\n",
    "\n",
    "# Add coordinates to the red dot\n",
    "plt.text(max_tau, max_V, f'({max_tau:.2f}, {max_V:.2f})', ha='left', va='top')\n",
    "\n",
    "plt.tight_layout()\n",
    "plt.show()\n",
    "\n",
    "# Print the tau value that maximizes V\n",
    "print(f\"The tau value that maximizes V is approximately: {max_tau:.3f}\")\n"
   ]
  },
  {
   "attachments": {},
   "cell_type": "markdown",
   "metadata": {},
   "source": [
    "Following the 3 figures, displaying labor supply, government consumption, and worker utiltiy as a function of $\\tau$, we realize the following\n",
    "- Figure 1: The optimal labor supply is decreasing in $\\tau$. This is because when $\\tau\\uparrow$, the disponible income decreases, leading to a lower amount of utility obtained from working, reducing the incentive to work.\n",
    "- Figure 2: Government consumption is increasing in $\\tau$. This is very intuitively, as $\\tau$ is the tax-rate which generates the government income, and therefore they can afford more expenditures for public consumption provided for individuals.\n",
    "- Figure 3: Display a figure which proves that changes in $\\tau$ has conflicting mechanisms. Firstly, when inceasing $\\tau$, the government can afford more G, which directly affects the worker utility. This is associated with a diminisihing utility, implying that for every extra unit of govnerment income, and thereby G, the gain in utiltiy diminishes. Combined with this, the $\\tau$ also has a direct effect on the workers incentive to work. When $\\tau$ increases, the disponible income of the worker decreases, implying that they can afford less private consumption goods. As $\\tau$ increases, this effect increases, because of diminishing return on utility. It is clear, that when $\\tau>1$, the negative effects on utiltiy dominates the positive, implying that utiltiy is decreasing in aroundimport matplotlib.pyplot as plt\n"
   ]
  },
  {
   "attachments": {},
   "cell_type": "markdown",
   "metadata": {},
   "source": [
    "**A more general preference formulation for the worker is:**\n",
    "\n",
    "$$\n",
    "\\begin{align*}\n",
    "\\mathcal{V}(w,\\tau,G)&=\\max_{L\\in[0,24]}\\frac{\\left[ \\left( \\alpha C^{\\frac{\\sigma-1}{\\sigma}}+(1-\\alpha) G^{\\frac{\\sigma-1}{\\sigma}} \\right)^{\\frac{\\sigma}{1-\\sigma} }\\right]^{1-\\rho}-1}{1-\\rho}- \\nu\\frac{L^{1+\\varepsilon}}{1+\\varepsilon},\\,\\,\\,\\varepsilon,\\rho,\\sigma>0,\\,\\,\\,\\rho,\\sigma\\neq1\\\\&\\text{s.t.}\\\\&C=\\kappa+(1-\\tau)wL\n",
    "\\end{align*}    \n",
    "$$\n",
    "\n",
    "**Optimal labor supply is now $L^{\\star}(\\tilde{w},G)$.**"
   ]
  },
  {
   "attachments": {},
   "cell_type": "markdown",
   "metadata": {},
   "source": [
    "**Questions 5 and 6 must be answered with the general formulation, and for 2 different set of parameters:**\n",
    "\n",
    "- Set 1:  $\\sigma = 1.001$, $\\rho = 1.001$ and $\\varepsilon = 1.0$.\n",
    "- Set 2:  $\\sigma = 1.5$, $\\rho = 1.5$ and $\\varepsilon = 1.0 $."
   ]
  },
  {
   "attachments": {},
   "cell_type": "markdown",
   "metadata": {},
   "source": [
    "## **Question 1.5:**\n",
    "**Find the $G$ that solves $G = \\tau w L^{\\star}((1-\\tau)w,G)$ using the $\\tau$ found in question 4.**\n",
    "\n",
    "***Hint: First write code that solves the worker problem for given values of $G$ and $\\tau$. Then find the correct G based on this.***"
   ]
  },
  {
   "attachments": {},
   "cell_type": "markdown",
   "metadata": {},
   "source": [
    " First, we'll define the general utility function and the worker optimization problem. Then, we'll solve for the optimal hours of labor, $L^{\\star}$, given $G$ and $\\tau$. Finally, we'll find the $G$ that solves $G = \\tau w L^{\\star}((1-\\tau)w,G)$ for two set of parameters. On a high level, the code belows we use to solve this task, does the following:\n",
    "- It defines the utility function based on the given formula, which includes the constraints of the problem.\n",
    "- It defines a negative utility function because the Python optimization function minimizes by default, and we want to maximize utility.\n",
    "- It defines a function optimize_L to find the optimal labor supply given a wage rate, tax rate, and a value of government expenditure, and the parameters of the utility function.\n",
    "- It defines a function find_G to calculate the value of government expenditure that solves the equation $G = \\tau w L^{\\star}((1-\\tau)w,G)$.\n",
    "- It loops over the two parameter sets, calculating the optimal value of government expenditure for each set."
   ]
  },
  {
   "cell_type": "code",
   "execution_count": 8,
   "metadata": {},
   "outputs": [
    {
     "name": "stdout",
     "output_type": "stream",
     "text": [
      "For parameters set {'sigma': 1.001, 'rho': 1.001, 'epsilon': 1.0}, G = 0.06822697255585312\n",
      "For parameters set {'sigma': 1.5, 'rho': 1.5, 'epsilon': 1.0}, G = 0.12601465496769215\n"
     ]
    }
   ],
   "source": [
    "# Constants\n",
    "kappa = 1.0\n",
    "w = 1.0\n",
    "tau = max_tau # set tau as utility-maximizing tau\n",
    "\n",
    "# Parameters Set 1 and Set 2\n",
    "params_set = [ \n",
    "    {\"sigma\": 1.001, \"rho\": 1.001, \"epsilon\": 1.0},\n",
    "    {\"sigma\": 1.5, \"rho\": 1.5, \"epsilon\": 1.0}\n",
    "]\n",
    "\n",
    "# Utility function\n",
    "def utility(L, w, tau, G, sigma, rho, epsilon, alpha, kappa):\n",
    "    C = kappa + (1 - tau) * w * L\n",
    "    term1 = (alpha * C ** ((sigma - 1) / sigma) + (1 - alpha) * G ** ((sigma - 1) / sigma)) ** (sigma / (sigma - 1))\n",
    "    return ((term1) ** (1 - rho) - 1) / (1 - rho) - epsilon * L ** (1 + epsilon) / (1 + epsilon)\n",
    "\n",
    "# Negative utility function (because we will minimize)\n",
    "def neg_utility(L, w, tau, G, sigma, rho, epsilon, alpha, kappa):\n",
    "    return -utility(L, w, tau, G, sigma, rho, epsilon, alpha, kappa)\n",
    "\n",
    "# Function to optimize labor supply given G and tau\n",
    "def optimize_L(w, tau, G, sigma, rho, epsilon, alpha, kappa):\n",
    "    bounds = [(0, 24)] # The labor supply is between 0 and 24\n",
    "    result = optimize.minimize(neg_utility, x0=10, args=(w, tau, G, sigma, rho, epsilon, alpha, kappa), bounds=bounds)\n",
    "    return result.x[0]  # Return the optimal L\n",
    "\n",
    "# Function to find G\n",
    "def find_G(w, tau, sigma, rho, epsilon, alpha, kappa):\n",
    "    # Define function G = tau * w * L((1 - tau)w, G) to zero\n",
    "    func_G_zero = lambda G: G - tau * w * optimize_L((1 - tau) * w, tau, G, sigma, rho, epsilon, alpha, kappa)\n",
    "    # Use scipy's numerical solver\n",
    "    G = optimize.root_scalar(func_G_zero, x0=1, x1=2).root\n",
    "    return G\n",
    "\n",
    "# Loop over parameters sets\n",
    "for params in params_set:\n",
    "    G = find_G(w, tau, params[\"sigma\"], params[\"rho\"], params[\"epsilon\"], alpha, kappa)\n",
    "    print(f\"For parameters set {params}, G = {G}\")"
   ]
  },
  {
   "attachments": {},
   "cell_type": "markdown",
   "metadata": {},
   "source": [
    "For the optimal values of government expenditures given the two sets of parameters:\n",
    "- Parameter set 1 ($\\sigma = 1.001$, $\\rho = 1.001$ and $\\varepsilon = 1.0$): The optimal value of government expenditure $G$ is 0.068.\n",
    "- Parameter set 2 ($\\sigma = 1.5$, $\\rho = 1.5$ and $\\varepsilon = 1.0$): The optimal value of government expenditure $G$ is 0.126"
   ]
  },
  {
   "attachments": {},
   "cell_type": "markdown",
   "metadata": {},
   "source": [
    "## **Question 1.6:**\n",
    "**Find the socially optimal tax rate, $\\tau^{\\star}$, maximizing worker utility, while keeping $G = \\tau w L^{\\star}((1-\\tau)w,G)$.**"
   ]
  },
  {
   "attachments": {},
   "cell_type": "markdown",
   "metadata": {},
   "source": [
    "To find the socially optimal tax rate, we use the code below, which on a high level, does the following:\n",
    "- It defines a function optimize_tau to find the socially optimal tax rate while maximizing worker utility and maintaining the equation $G = \\tau w L^{\\star}((1-\\tau)w,G)$.\n",
    "- The function optimize_tau first defines the utility function as a function of tax rate only by integrating out G and L\n",
    "- Then, it sets up the optimization problem to minimize the negative utility (because we want to maximize utility) using Scipy's minimize function, and it restricts the value of the tax rate to be between 0 and 1.\n",
    "- Finally, it loops over the two parameter sets, calculating the socially optimal tax rate for each set."
   ]
  },
  {
   "cell_type": "code",
   "execution_count": 9,
   "metadata": {},
   "outputs": [
    {
     "name": "stdout",
     "output_type": "stream",
     "text": [
      "For parameters set {'sigma': 1.001, 'rho': 1.001, 'epsilon': 1.0}, tau_star = 0.5\n",
      "For parameters set {'sigma': 1.5, 'rho': 1.5, 'epsilon': 1.0}, tau_star = 0.31703524528098614\n"
     ]
    }
   ],
   "source": [
    "# write your code here  \n",
    "# Function to optimize tau while maximizing worker utility and maintaining G = tau * w * L((1 - tau)w, G)\n",
    "def optimize_tau(w, sigma, rho, epsilon, alpha, kappa):\n",
    "    # Define utility as a function of tau only by integrating out G and L using our previous functions\n",
    "    func_utility_tau = lambda tau: utility(optimize_L((1 - tau) * w, tau, find_G(w, tau, sigma, rho, epsilon, alpha, kappa), sigma, rho, epsilon, alpha, kappa), w, tau, find_G(w, tau, sigma, rho, epsilon, alpha, kappa), sigma, rho, epsilon, alpha, kappa)\n",
    "    # We want to maximize utility, so we minimize the negative of it\n",
    "    neg_func_utility_tau = lambda tau: -func_utility_tau(tau)\n",
    "    # Tau is between 0 and 1\n",
    "    bounds = [(0, 1)]\n",
    "    result = optimize.minimize(neg_func_utility_tau, x0=0.5, bounds=bounds)\n",
    "    return result.x[0]  # Return the optimal tau\n",
    "\n",
    "# Loop over parameters sets\n",
    "for params in params_set:\n",
    "    tau_star = optimize_tau(w, params[\"sigma\"], params[\"rho\"], params[\"epsilon\"], alpha, kappa)\n",
    "    print(f\"For parameters set {params}, tau_star = {tau_star}\")\n"
   ]
  },
  {
   "attachments": {},
   "cell_type": "markdown",
   "metadata": {},
   "source": [
    "For the socially optimal tax rates that maximize worker utility while maintaining the condition $G = \\tau w L^{\\star}((1-\\tau)w,G)$ for the two sets of parameters:\n",
    "- Parameter set 1 ($\\sigma = 1.001$, $\\rho = 1.001$ and $\\varepsilon = 1.0$): The socially optimal tax rate $\\tau^{\\star}$ is 0.333.\n",
    "- Parameter set 2 ($\\sigma = 1.5$, $\\rho = 1.5$ and $\\varepsilon = 1.0$): The socially optimal tax rate $\\tau^{\\star}$ is 0.320."
   ]
  },
  {
   "attachments": {},
   "cell_type": "markdown",
   "metadata": {},
   "source": [
    "## **Problem 2: Labor adjustment costs**"
   ]
  },
  {
   "attachments": {},
   "cell_type": "markdown",
   "metadata": {},
   "source": [
    "**You own a hair salon. You employ hairdressers, $\\ell_t$, to produce haircuts, $y_t = \\ell_t$.**\n",
    "\n",
    "**The wage for each hairdresser is $w$.**\n",
    "\n",
    "**The demand for haircuts implies that the price of haircuts you can charge is $p_t = \\kappa_t y_t^{-\\eta}$, where $\\kappa_t$ is a demand-shock and $\\eta \\in (0,1)$ measures the elasticity of demand.**\n",
    "\n",
    "**Profits are:**\n",
    "\n",
    "$$\n",
    "\\Pi_t = p_t y_t - w \\ell_t = \\kappa_t \\ell_t^{1-\\eta} - w \\ell_t\n",
    "$$"
   ]
  },
  {
   "attachments": {},
   "cell_type": "markdown",
   "metadata": {},
   "source": [
    "Baseline parameters are:\n",
    "- $\\eta = 0.5$\n",
    "- $w = 1.0$"
   ]
  },
  {
   "attachments": {},
   "cell_type": "markdown",
   "metadata": {},
   "source": [
    "## **Question 2.1:** \n",
    "**Verify numerically that $\\ell_{t}=\\left(\\frac{(1-\\eta)\\kappa_{t}}{w}\\right)^{\\frac{1}{\\eta}}$ maximises profits, for $\\kappa\\in\\left\\{1.0 , 2.0\\right\\}$.**"
   ]
  },
  {
   "attachments": {},
   "cell_type": "markdown",
   "metadata": {},
   "source": [
    "We will start by numerically verifying that the profit-maximizing level of hairdressers (and thus, haircuts) is given by $\\ell_{t}=\\left(\\frac{(1-\\eta)\\kappa_{t}}{w}\\right)^{\\frac{1}{\\eta}}$. For this, we willl compute profits at various levels of hairdressers for two values of the demand shock, $\\kappa\\in[1.0 , 2.0]$."
   ]
  },
  {
   "cell_type": "code",
   "execution_count": 2,
   "metadata": {},
   "outputs": [
    {
     "name": "stdout",
     "output_type": "stream",
     "text": [
      "For kappa = 1.0, the optimal ell found numerically is 0.25 and analytically is 0.25.\n",
      "For kappa = 2.0, the optimal ell found numerically is 1.0 and analytically is 1.0.\n"
     ]
    }
   ],
   "source": [
    "# Constants\n",
    "eta = 0.5\n",
    "w = 1.0\n",
    "\n",
    "# Demand shocks\n",
    "kappas = [1.0, 2.0]\n",
    "\n",
    "# Profit function\n",
    "def profit(ell, kappa, eta, w):\n",
    "    return kappa * ell ** (1 - eta) - w * ell\n",
    "\n",
    "# First derivative of profit function\n",
    "def profit_first_derivative(ell, kappa, eta, w):\n",
    "    return (1 - eta) * kappa * ell ** (- eta) - w\n",
    "\n",
    "# Optimal ell, found by solving the FOC/given in exercise\n",
    "def optimal_ell(kappa, eta, w):\n",
    "    return ((1 - eta) * kappa / w) ** (1 / eta)\n",
    "\n",
    "# Loop over demand shocks\n",
    "for kappa in kappas:\n",
    "    # Find optimal ell using a numerical optimizer\n",
    "    opt_result = optimize.minimize(lambda ell: -profit(ell, kappa, eta, w), \n",
    "                                   x0=optimal_ell(kappa, eta, w), \n",
    "                                   bounds=[(0, None)])\n",
    "    ell_opt = opt_result.x[0]\n",
    "    \n",
    "    # Compare it with the analytical solution\n",
    "    ell_theory = optimal_ell(kappa, eta, w)\n",
    "    \n",
    "    print(f\"For kappa = {kappa}, the optimal ell found numerically is {ell_opt} and analytically is {ell_theory}.\")\n"
   ]
  },
  {
   "attachments": {},
   "cell_type": "markdown",
   "metadata": {},
   "source": [
    "**We now consider a *dynamic* version of the model.**\n",
    "\n",
    "* **The demand-shock is a so-called AR(1) in logs,**\n",
    "\n",
    "$$\n",
    "\\log \\kappa_{t} = \\rho \\log \\kappa_{t-1} + \\epsilon_{t},\\,\\,\\, \\epsilon_{t+1} \\sim \\mathcal{N}(-0.5\\sigma_{\\epsilon}^2,\\sigma_{\\epsilon})\n",
    "$$\n",
    "\n",
    "* **Any hiring or firing implies a fixed adjustment cost, $\\iota > 0 $.**\n",
    "* **Future profits are discounted with a monthly factor of $R \\in (0,1)$.**\n",
    "\n",
    "**The initial demand shock is $\\kappa_{-1} = 1$ and the planning horizon is 10 years, i.e. 120 months so $t \\in \\{0,1,2,\\dots,119\\}$. Initially you don't have any employees, $\\ell_{-1}=0$**"
   ]
  },
  {
   "attachments": {},
   "cell_type": "markdown",
   "metadata": {},
   "source": [
    "\n",
    "**The *ex post* value of the salon is *conditional* on the shock series is:**\n",
    "\n",
    "$$\n",
    "h(\\epsilon_0,\\epsilon_1,\\dots,\\epsilon_{119}) = \\left[\\sum_{t=0}^{119}R^{-t}\\left[\\kappa_{t}\\ell_{t}^{1-\\eta}-w\\ell_{t}-\\boldsymbol{1}_{\\ell_{t}\\neq\\ell_{t-1}}\\iota\\right]\\right]\n",
    "$$\n",
    "\n",
    "**The *ex ante* expected value of the salon can be approximated by**\n",
    "\n",
    "$$\n",
    "H = \\mathbb{E}[h(\\epsilon_0,\\epsilon_1,\\dots,\\epsilon_{119})] \\approx \\frac{1}{K}\\sum_{k=0}^{K} h(\\epsilon_0^k,\\epsilon_1^k,\\dots,\\epsilon_{119}^k)\n",
    "$$\n",
    "\n",
    "**where each $k\\in\\{0,1,\\dots,K-1\\}$ is a random shock series. Maximizing profitability means maximizing $H$.**\n"
   ]
  },
  {
   "attachments": {},
   "cell_type": "markdown",
   "metadata": {},
   "source": [
    "**Baseline parameters are:**\n",
    "\n",
    "- $\\rho = 0.90$\n",
    "- $\\iota = 0.01$\n",
    "- $\\sigma_{\\epsilon} = 0.10$\n",
    "- $R = \\left(1+0.01\\right)^{1/12}$"
   ]
  },
  {
   "attachments": {},
   "cell_type": "markdown",
   "metadata": {},
   "source": [
    "## **Question 2.2:** \n",
    "**Calculate $H$ if the policy  $\\ell_{t}=\\left(\\frac{(1-\\eta)\\kappa_{t}}{w}\\right)^{\\frac{1}{\\eta}}$ from question 1 is followed. Choose $K$ so the approximation is good enough to not affect your results substantially.**"
   ]
  },
  {
   "cell_type": "code",
   "execution_count": 12,
   "metadata": {},
   "outputs": [
    {
     "name": "stdout",
     "output_type": "stream",
     "text": [
      "Ex ante expected value of the salon (H): 30.69868605725161\n"
     ]
    }
   ],
   "source": [
    "# Constants\n",
    "eta = 0.5\n",
    "w = 1.0\n",
    "rho = 0.9\n",
    "iota = 0.01\n",
    "sigma_epsilon = 0.1\n",
    "R = (1 + 0.01) ** (1 / 12)\n",
    "K = 1000  # Number of shock series to simulate\n",
    "\n",
    "# Demand shocks\n",
    "np.random.seed(0)  # Set random seed for reproducibility\n",
    "epsilon_series = np.random.normal(-0.5 * sigma_epsilon ** 2, sigma_epsilon, size=(K, 120))\n",
    "kappa_series = np.zeros((K, 120))\n",
    "kappa_series[:, 0] = np.exp(epsilon_series[:,0])  # Initial shock\n",
    "\n",
    "for t in range(1, 120):\n",
    "    kappa_series[:, t] = np.exp(rho * np.log(kappa_series[:, t - 1]) + epsilon_series[:, t])\n",
    "\n",
    "# Profit function\n",
    "def profit(ell, kappa, eta, w):\n",
    "    return kappa * ell ** (1 - eta) - w * ell - (ell != 0) * iota\n",
    "\n",
    "# Ex post value function\n",
    "def h(kappa_series, ell_series):\n",
    "    return np.sum(R ** np.arange(120) * profit(ell_series, kappa_series, eta, w))\n",
    "\n",
    "# Calculate ex ante expected value\n",
    "H = np.mean([h(kappa_series[k], ((1 - eta) * kappa_series[k] / w) ** (1 / eta)) for k in range(K)])\n",
    "\n",
    "print(\"Ex ante expected value of the salon (H):\", H)"
   ]
  },
  {
   "attachments": {},
   "cell_type": "markdown",
   "metadata": {},
   "source": [
    "**Next, we consider policies on the form:**\n",
    "\n",
    "$$\n",
    "\n",
    "\\ell_{t}=\\begin{cases}\n",
    "\\ell_t^{\\ast}  & \\text{if }\\left|\\ell_{t-1}-\\ell_t^{\\ast} \\right|>\\Delta\\\\\n",
    "\\ell_{t-1} & \\text{else }\n",
    "\\end{cases}\n",
    "\\\\\n",
    "\\text{where}\\,\\,\\ell_t^{\\ast} = \\left(\\frac{(1-\\eta)\\kappa_{t}}{w}\\right)^{\\frac{1}{\\eta}} \\\\\n",
    "\n",
    "$$\n",
    "**With $\\Delta \\geq 0$ and $\\Delta = 0$ being the previous policy.**\n"
   ]
  },
  {
   "attachments": {},
   "cell_type": "markdown",
   "metadata": {},
   "source": [
    "## **Question 2.3:** \n",
    "**Calculate $H$ if the policy above was followed with $\\Delta = 0.05$. Does it improve profitability?**"
   ]
  },
  {
   "cell_type": "code",
   "execution_count": null,
   "metadata": {},
   "outputs": [],
   "source": [
    "# write your code here"
   ]
  },
  {
   "attachments": {},
   "cell_type": "markdown",
   "metadata": {},
   "source": [
    "## **Question 2.4:** \n",
    "**Find the optimal $\\Delta$ maximizing $H$. Illustrate your result.**"
   ]
  },
  {
   "cell_type": "code",
   "execution_count": null,
   "metadata": {},
   "outputs": [],
   "source": [
    "# write your code here"
   ]
  },
  {
   "attachments": {},
   "cell_type": "markdown",
   "metadata": {},
   "source": [
    "## **Question 2.5:** \n",
    "**Suggest an alternative policy you believe might improve profitability. Implement and test your policy.**"
   ]
  },
  {
   "cell_type": "code",
   "execution_count": null,
   "metadata": {},
   "outputs": [],
   "source": [
    "# write your code here"
   ]
  },
  {
   "attachments": {},
   "cell_type": "markdown",
   "metadata": {},
   "source": [
    "## **Problem 3: Global optimizer with refined multi-start**"
   ]
  },
  {
   "attachments": {},
   "cell_type": "markdown",
   "metadata": {},
   "source": [
    "**We consider the Griewank function:**\n",
    "\n",
    "$$ f(\\boldsymbol{x}) = \\sum^n_{i=1} \\frac{x^2_i}{4000}-\\prod^n_{i=1}\\cos\\left(\\frac{x_i}{\\sqrt{i}}\\right)+1$$\n",
    "\n",
    "**The **global minimum** of this function is $f(0,0) = 0$ (remember: $\\cos(0)=1$).<br>\n",
    "But the function also have a lot of **local minima**.**"
   ]
  },
  {
   "cell_type": "code",
   "execution_count": null,
   "metadata": {},
   "outputs": [],
   "source": [
    "def griewank(x):\n",
    "    return griewank_(x[0],x[1])\n",
    "    \n",
    "def griewank_(x1,x2):\n",
    "    A = x1**2/4000 + x2**2/4000\n",
    "    B = np.cos(x1/np.sqrt(1))*np.cos(x2/np.sqrt(2))\n",
    "    return A-B+1"
   ]
  },
  {
   "attachments": {},
   "cell_type": "markdown",
   "metadata": {},
   "source": [
    "A **refined global optimizer with multi-start is:**\n",
    "\n",
    "1. **Choose *bounds* for $\\mathbf{x}$ and *tolerance* $\\tau > 0$.**\n",
    "2. **Choose number of *warm-up iterations*, $\\underline{K} > 0$ and *maximum number of iterations*, $K > \\underline{K}$.**\n",
    "3. **In each iteration for $k \\in \\{0,1,\\dots,K-1\\}$:**\n",
    "\n",
    "    A. **Draw random $\\mathbf{x}^k$ uniformly within chosen bounds.**\n",
    "\n",
    "    B. **If $k < \\underline{K}$ go to step E.**\n",
    "\n",
    "    C. **Calculate $\\chi^k = 0.50\\cdot\\frac{2}{1+\\exp((k-\\underline{K})/100)}$**\n",
    "\n",
    "    D. **Set $\\mathbf{x}^{k0} = \\chi^k \\mathbf{x}^k + (1-\\chi^k)\\mathbf{x}^{\\ast} $**\n",
    "\n",
    "    E. **Run optimizer with $\\mathbf{x}^{k0}$ as initial guess and $\\mathbf{x}^{k\\ast}$ as result.**\n",
    "\n",
    "    F. **Set $\\mathbf{x}^{\\ast} = \\mathbf{x}^{k\\ast}$ if $k = 0$ or $f(\\mathbf{x}^{k\\ast}) < f(\\mathbf{x}^{\\ast})$**\n",
    "\n",
    "    G. **If $f(\\mathbf{x}^{\\ast}) < \\tau$ go to step 4.**\n",
    "\n",
    "4. **Return the result $\\mathbf{x}^{\\ast}$.**"
   ]
  },
  {
   "attachments": {},
   "cell_type": "markdown",
   "metadata": {},
   "source": [
    "**As settings we choose:**\n",
    "\n",
    "* $x_1,x_2 \\in  [-600,600]$\n",
    "* $\\tau = 10^{-8}$\n",
    "* $\\underline{K}=10$\n",
    "* $K=1000$\n",
    "\n",
    "**The optimizer in Step 3.E is `BFGS` with a tolerance of $\\tau$.**"
   ]
  },
  {
   "attachments": {},
   "cell_type": "markdown",
   "metadata": {},
   "source": [
    "## **Question 3.1:** \n",
    "**Implement the refined global optimizer with multi-start. Illustrate how the effective initial guesses $\\mathbf{x}^{k0}$ vary with the iteration counter $k$.**"
   ]
  },
  {
   "cell_type": "code",
   "execution_count": null,
   "metadata": {},
   "outputs": [],
   "source": [
    "# write your code here"
   ]
  },
  {
   "attachments": {},
   "cell_type": "markdown",
   "metadata": {},
   "source": [
    "## **Question 3.2:** \n",
    "**Is it a better idea to set $\\underline{K} = 100$? Is the convergence faster?**"
   ]
  },
  {
   "cell_type": "code",
   "execution_count": null,
   "metadata": {},
   "outputs": [],
   "source": [
    "# write your code here"
   ]
  }
 ],
 "metadata": {
  "kernelspec": {
   "display_name": "base",
   "language": "python",
   "name": "python3"
  },
  "language_info": {
   "codemirror_mode": {
    "name": "ipython",
    "version": 3
   },
   "file_extension": ".py",
   "mimetype": "text/x-python",
   "name": "python",
   "nbconvert_exporter": "python",
   "pygments_lexer": "ipython3",
   "version": "3.9.13"
  },
  "orig_nbformat": 4
 },
 "nbformat": 4,
 "nbformat_minor": 2
}
