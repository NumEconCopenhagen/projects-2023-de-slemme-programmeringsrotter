{
 "cells": [
  {
   "attachments": {},
   "cell_type": "markdown",
   "metadata": {},
   "source": [
    "# Data project - Group: De Slemme Programmeringsrotter"
   ]
  },
  {
   "cell_type": "markdown",
   "metadata": {},
   "source": [
    "Imports and set magics:"
   ]
  },
  {
   "cell_type": "code",
   "execution_count": 1,
   "metadata": {},
   "outputs": [
    {
     "name": "stderr",
     "output_type": "stream",
     "text": [
      "C:\\Users\\olive\\AppData\\Local\\Temp\\ipykernel_4424\\1003518396.py:10: MatplotlibDeprecationWarning: The seaborn styles shipped by Matplotlib are deprecated since 3.6, as they no longer correspond to the styles shipped by seaborn. However, they will remain available as 'seaborn-v0_8-<style>'. Alternatively, directly use the seaborn API instead.\n",
      "  plt.style.use('seaborn-whitegrid')\n"
     ]
    }
   ],
   "source": [
    "# uncomment below if you need to install \n",
    "#%pip install git+https://github.com/alemartinello/dstapi\n",
    "#%pip install pandas-datareader\n",
    "\n",
    "# Import modules\n",
    "import numpy as np\n",
    "import pandas as pd\n",
    "import datetime\n",
    "import matplotlib.pyplot as plt\n",
    "plt.style.use('seaborn-whitegrid')\n",
    "\n",
    "import pandas_datareader # install with `pip install pandas-datareader`\n",
    "from dstapi import DstApi # install with `pip install git+https://github.com/alemartinello/dstapi`\n",
    "\n",
    "# autoreload modules when code is run\n",
    "%load_ext autoreload\n",
    "%autoreload 2\n",
    "\n",
    "# user written modules\n",
    "import Oliver"
   ]
  },
  {
   "cell_type": "markdown",
   "metadata": {},
   "source": [
    "# Read and clean data"
   ]
  },
  {
   "cell_type": "code",
   "execution_count": 2,
   "metadata": {},
   "outputs": [
    {
     "name": "stdout",
     "output_type": "stream",
     "text": [
      "Table FODIE: Live births by region, mothers ancestry, mothers country of origin, mothers citizenship, age of mother, sex of child and time\n",
      "Last update: 2023-02-10T08:00:00\n",
      "OMRÅDE:\n"
     ]
    },
    {
     "data": {
      "text/html": [
       "<div>\n",
       "<style scoped>\n",
       "    .dataframe tbody tr th:only-of-type {\n",
       "        vertical-align: middle;\n",
       "    }\n",
       "\n",
       "    .dataframe tbody tr th {\n",
       "        vertical-align: top;\n",
       "    }\n",
       "\n",
       "    .dataframe thead th {\n",
       "        text-align: right;\n",
       "    }\n",
       "</style>\n",
       "<table border=\"1\" class=\"dataframe\">\n",
       "  <thead>\n",
       "    <tr style=\"text-align: right;\">\n",
       "      <th></th>\n",
       "      <th>id</th>\n",
       "      <th>text</th>\n",
       "    </tr>\n",
       "  </thead>\n",
       "  <tbody>\n",
       "    <tr>\n",
       "      <th>0</th>\n",
       "      <td>000</td>\n",
       "      <td>All Denmark</td>\n",
       "    </tr>\n",
       "    <tr>\n",
       "      <th>1</th>\n",
       "      <td>084</td>\n",
       "      <td>Region Hovedstaden</td>\n",
       "    </tr>\n",
       "    <tr>\n",
       "      <th>2</th>\n",
       "      <td>101</td>\n",
       "      <td>Copenhagen</td>\n",
       "    </tr>\n",
       "    <tr>\n",
       "      <th>3</th>\n",
       "      <td>147</td>\n",
       "      <td>Frederiksberg</td>\n",
       "    </tr>\n",
       "    <tr>\n",
       "      <th>4</th>\n",
       "      <td>155</td>\n",
       "      <td>Dragør</td>\n",
       "    </tr>\n",
       "    <tr>\n",
       "      <th>...</th>\n",
       "      <td>...</td>\n",
       "      <td>...</td>\n",
       "    </tr>\n",
       "    <tr>\n",
       "      <th>100</th>\n",
       "      <td>773</td>\n",
       "      <td>Morsø</td>\n",
       "    </tr>\n",
       "    <tr>\n",
       "      <th>101</th>\n",
       "      <td>840</td>\n",
       "      <td>Rebild</td>\n",
       "    </tr>\n",
       "    <tr>\n",
       "      <th>102</th>\n",
       "      <td>787</td>\n",
       "      <td>Thisted</td>\n",
       "    </tr>\n",
       "    <tr>\n",
       "      <th>103</th>\n",
       "      <td>820</td>\n",
       "      <td>Vesthimmerlands</td>\n",
       "    </tr>\n",
       "    <tr>\n",
       "      <th>104</th>\n",
       "      <td>851</td>\n",
       "      <td>Aalborg</td>\n",
       "    </tr>\n",
       "  </tbody>\n",
       "</table>\n",
       "<p>105 rows × 2 columns</p>\n",
       "</div>"
      ],
      "text/plain": [
       "      id                text\n",
       "0    000         All Denmark\n",
       "1    084  Region Hovedstaden\n",
       "2    101          Copenhagen\n",
       "3    147       Frederiksberg\n",
       "4    155              Dragør\n",
       "..   ...                 ...\n",
       "100  773               Morsø\n",
       "101  840              Rebild\n",
       "102  787             Thisted\n",
       "103  820     Vesthimmerlands\n",
       "104  851             Aalborg\n",
       "\n",
       "[105 rows x 2 columns]"
      ]
     },
     "metadata": {},
     "output_type": "display_data"
    },
    {
     "name": "stdout",
     "output_type": "stream",
     "text": [
      "MOHERK:\n"
     ]
    },
    {
     "data": {
      "text/html": [
       "<div>\n",
       "<style scoped>\n",
       "    .dataframe tbody tr th:only-of-type {\n",
       "        vertical-align: middle;\n",
       "    }\n",
       "\n",
       "    .dataframe tbody tr th {\n",
       "        vertical-align: top;\n",
       "    }\n",
       "\n",
       "    .dataframe thead th {\n",
       "        text-align: right;\n",
       "    }\n",
       "</style>\n",
       "<table border=\"1\" class=\"dataframe\">\n",
       "  <thead>\n",
       "    <tr style=\"text-align: right;\">\n",
       "      <th></th>\n",
       "      <th>id</th>\n",
       "      <th>text</th>\n",
       "    </tr>\n",
       "  </thead>\n",
       "  <tbody>\n",
       "    <tr>\n",
       "      <th>0</th>\n",
       "      <td>5</td>\n",
       "      <td>Persons of Danish origin</td>\n",
       "    </tr>\n",
       "    <tr>\n",
       "      <th>1</th>\n",
       "      <td>4</td>\n",
       "      <td>Immigrants</td>\n",
       "    </tr>\n",
       "    <tr>\n",
       "      <th>2</th>\n",
       "      <td>3</td>\n",
       "      <td>Descendant</td>\n",
       "    </tr>\n",
       "    <tr>\n",
       "      <th>3</th>\n",
       "      <td>0</td>\n",
       "      <td>Unknown origin</td>\n",
       "    </tr>\n",
       "  </tbody>\n",
       "</table>\n",
       "</div>"
      ],
      "text/plain": [
       "  id                      text\n",
       "0  5  Persons of Danish origin\n",
       "1  4                Immigrants\n",
       "2  3                Descendant\n",
       "3  0            Unknown origin"
      ]
     },
     "metadata": {},
     "output_type": "display_data"
    },
    {
     "name": "stdout",
     "output_type": "stream",
     "text": [
      "MOOPRIND:\n"
     ]
    },
    {
     "data": {
      "text/html": [
       "<div>\n",
       "<style scoped>\n",
       "    .dataframe tbody tr th:only-of-type {\n",
       "        vertical-align: middle;\n",
       "    }\n",
       "\n",
       "    .dataframe tbody tr th {\n",
       "        vertical-align: top;\n",
       "    }\n",
       "\n",
       "    .dataframe thead th {\n",
       "        text-align: right;\n",
       "    }\n",
       "</style>\n",
       "<table border=\"1\" class=\"dataframe\">\n",
       "  <thead>\n",
       "    <tr style=\"text-align: right;\">\n",
       "      <th></th>\n",
       "      <th>id</th>\n",
       "      <th>text</th>\n",
       "    </tr>\n",
       "  </thead>\n",
       "  <tbody>\n",
       "    <tr>\n",
       "      <th>0</th>\n",
       "      <td>5100</td>\n",
       "      <td>Denmark</td>\n",
       "    </tr>\n",
       "    <tr>\n",
       "      <th>1</th>\n",
       "      <td>5122</td>\n",
       "      <td>Albania</td>\n",
       "    </tr>\n",
       "    <tr>\n",
       "      <th>2</th>\n",
       "      <td>5124</td>\n",
       "      <td>Andorra</td>\n",
       "    </tr>\n",
       "    <tr>\n",
       "      <th>3</th>\n",
       "      <td>5706</td>\n",
       "      <td>Belarus</td>\n",
       "    </tr>\n",
       "    <tr>\n",
       "      <th>4</th>\n",
       "      <td>5126</td>\n",
       "      <td>Belgium</td>\n",
       "    </tr>\n",
       "    <tr>\n",
       "      <th>...</th>\n",
       "      <td>...</td>\n",
       "      <td>...</td>\n",
       "    </tr>\n",
       "    <tr>\n",
       "      <th>236</th>\n",
       "      <td>5275</td>\n",
       "      <td>Vanuatu</td>\n",
       "    </tr>\n",
       "    <tr>\n",
       "      <th>237</th>\n",
       "      <td>5532</td>\n",
       "      <td>East Timor</td>\n",
       "    </tr>\n",
       "    <tr>\n",
       "      <th>238</th>\n",
       "      <td>5599</td>\n",
       "      <td>Pacific Islands</td>\n",
       "    </tr>\n",
       "    <tr>\n",
       "      <th>239</th>\n",
       "      <td>5103</td>\n",
       "      <td>Stateless</td>\n",
       "    </tr>\n",
       "    <tr>\n",
       "      <th>240</th>\n",
       "      <td>5999</td>\n",
       "      <td>Not stated</td>\n",
       "    </tr>\n",
       "  </tbody>\n",
       "</table>\n",
       "<p>241 rows × 2 columns</p>\n",
       "</div>"
      ],
      "text/plain": [
       "       id             text\n",
       "0    5100          Denmark\n",
       "1    5122          Albania\n",
       "2    5124          Andorra\n",
       "3    5706          Belarus\n",
       "4    5126          Belgium\n",
       "..    ...              ...\n",
       "236  5275          Vanuatu\n",
       "237  5532       East Timor\n",
       "238  5599  Pacific Islands\n",
       "239  5103        Stateless\n",
       "240  5999       Not stated\n",
       "\n",
       "[241 rows x 2 columns]"
      ]
     },
     "metadata": {},
     "output_type": "display_data"
    },
    {
     "name": "stdout",
     "output_type": "stream",
     "text": [
      "MOSTAT:\n"
     ]
    },
    {
     "data": {
      "text/html": [
       "<div>\n",
       "<style scoped>\n",
       "    .dataframe tbody tr th:only-of-type {\n",
       "        vertical-align: middle;\n",
       "    }\n",
       "\n",
       "    .dataframe tbody tr th {\n",
       "        vertical-align: top;\n",
       "    }\n",
       "\n",
       "    .dataframe thead th {\n",
       "        text-align: right;\n",
       "    }\n",
       "</style>\n",
       "<table border=\"1\" class=\"dataframe\">\n",
       "  <thead>\n",
       "    <tr style=\"text-align: right;\">\n",
       "      <th></th>\n",
       "      <th>id</th>\n",
       "      <th>text</th>\n",
       "    </tr>\n",
       "  </thead>\n",
       "  <tbody>\n",
       "    <tr>\n",
       "      <th>0</th>\n",
       "      <td>5100</td>\n",
       "      <td>Denmark</td>\n",
       "    </tr>\n",
       "    <tr>\n",
       "      <th>1</th>\n",
       "      <td>5122</td>\n",
       "      <td>Albania</td>\n",
       "    </tr>\n",
       "    <tr>\n",
       "      <th>2</th>\n",
       "      <td>5124</td>\n",
       "      <td>Andorra</td>\n",
       "    </tr>\n",
       "    <tr>\n",
       "      <th>3</th>\n",
       "      <td>5706</td>\n",
       "      <td>Belarus</td>\n",
       "    </tr>\n",
       "    <tr>\n",
       "      <th>4</th>\n",
       "      <td>5126</td>\n",
       "      <td>Belgium</td>\n",
       "    </tr>\n",
       "    <tr>\n",
       "      <th>...</th>\n",
       "      <td>...</td>\n",
       "      <td>...</td>\n",
       "    </tr>\n",
       "    <tr>\n",
       "      <th>236</th>\n",
       "      <td>5275</td>\n",
       "      <td>Vanuatu</td>\n",
       "    </tr>\n",
       "    <tr>\n",
       "      <th>237</th>\n",
       "      <td>5532</td>\n",
       "      <td>East Timor</td>\n",
       "    </tr>\n",
       "    <tr>\n",
       "      <th>238</th>\n",
       "      <td>5599</td>\n",
       "      <td>Pacific Islands</td>\n",
       "    </tr>\n",
       "    <tr>\n",
       "      <th>239</th>\n",
       "      <td>5103</td>\n",
       "      <td>Stateless</td>\n",
       "    </tr>\n",
       "    <tr>\n",
       "      <th>240</th>\n",
       "      <td>5999</td>\n",
       "      <td>Not stated</td>\n",
       "    </tr>\n",
       "  </tbody>\n",
       "</table>\n",
       "<p>241 rows × 2 columns</p>\n",
       "</div>"
      ],
      "text/plain": [
       "       id             text\n",
       "0    5100          Denmark\n",
       "1    5122          Albania\n",
       "2    5124          Andorra\n",
       "3    5706          Belarus\n",
       "4    5126          Belgium\n",
       "..    ...              ...\n",
       "236  5275          Vanuatu\n",
       "237  5532       East Timor\n",
       "238  5599  Pacific Islands\n",
       "239  5103        Stateless\n",
       "240  5999       Not stated\n",
       "\n",
       "[241 rows x 2 columns]"
      ]
     },
     "metadata": {},
     "output_type": "display_data"
    },
    {
     "name": "stdout",
     "output_type": "stream",
     "text": [
      "MODERSALDER:\n"
     ]
    },
    {
     "data": {
      "text/html": [
       "<div>\n",
       "<style scoped>\n",
       "    .dataframe tbody tr th:only-of-type {\n",
       "        vertical-align: middle;\n",
       "    }\n",
       "\n",
       "    .dataframe tbody tr th {\n",
       "        vertical-align: top;\n",
       "    }\n",
       "\n",
       "    .dataframe thead th {\n",
       "        text-align: right;\n",
       "    }\n",
       "</style>\n",
       "<table border=\"1\" class=\"dataframe\">\n",
       "  <thead>\n",
       "    <tr style=\"text-align: right;\">\n",
       "      <th></th>\n",
       "      <th>id</th>\n",
       "      <th>text</th>\n",
       "    </tr>\n",
       "  </thead>\n",
       "  <tbody>\n",
       "    <tr>\n",
       "      <th>0</th>\n",
       "      <td>10</td>\n",
       "      <td>10 years</td>\n",
       "    </tr>\n",
       "    <tr>\n",
       "      <th>1</th>\n",
       "      <td>11</td>\n",
       "      <td>11 years</td>\n",
       "    </tr>\n",
       "    <tr>\n",
       "      <th>2</th>\n",
       "      <td>12</td>\n",
       "      <td>12 years</td>\n",
       "    </tr>\n",
       "    <tr>\n",
       "      <th>3</th>\n",
       "      <td>13</td>\n",
       "      <td>13 years</td>\n",
       "    </tr>\n",
       "    <tr>\n",
       "      <th>4</th>\n",
       "      <td>14</td>\n",
       "      <td>14 years</td>\n",
       "    </tr>\n",
       "    <tr>\n",
       "      <th>5</th>\n",
       "      <td>15</td>\n",
       "      <td>15 years</td>\n",
       "    </tr>\n",
       "    <tr>\n",
       "      <th>6</th>\n",
       "      <td>16</td>\n",
       "      <td>16 years</td>\n",
       "    </tr>\n",
       "    <tr>\n",
       "      <th>7</th>\n",
       "      <td>17</td>\n",
       "      <td>17 years</td>\n",
       "    </tr>\n",
       "    <tr>\n",
       "      <th>8</th>\n",
       "      <td>18</td>\n",
       "      <td>18 years</td>\n",
       "    </tr>\n",
       "    <tr>\n",
       "      <th>9</th>\n",
       "      <td>19</td>\n",
       "      <td>19 years</td>\n",
       "    </tr>\n",
       "    <tr>\n",
       "      <th>10</th>\n",
       "      <td>20</td>\n",
       "      <td>20 years</td>\n",
       "    </tr>\n",
       "    <tr>\n",
       "      <th>11</th>\n",
       "      <td>21</td>\n",
       "      <td>21 years</td>\n",
       "    </tr>\n",
       "    <tr>\n",
       "      <th>12</th>\n",
       "      <td>22</td>\n",
       "      <td>22 years</td>\n",
       "    </tr>\n",
       "    <tr>\n",
       "      <th>13</th>\n",
       "      <td>23</td>\n",
       "      <td>23 years</td>\n",
       "    </tr>\n",
       "    <tr>\n",
       "      <th>14</th>\n",
       "      <td>24</td>\n",
       "      <td>24 years</td>\n",
       "    </tr>\n",
       "    <tr>\n",
       "      <th>15</th>\n",
       "      <td>25</td>\n",
       "      <td>25 years</td>\n",
       "    </tr>\n",
       "    <tr>\n",
       "      <th>16</th>\n",
       "      <td>26</td>\n",
       "      <td>26 years</td>\n",
       "    </tr>\n",
       "    <tr>\n",
       "      <th>17</th>\n",
       "      <td>27</td>\n",
       "      <td>27 years</td>\n",
       "    </tr>\n",
       "    <tr>\n",
       "      <th>18</th>\n",
       "      <td>28</td>\n",
       "      <td>28 years</td>\n",
       "    </tr>\n",
       "    <tr>\n",
       "      <th>19</th>\n",
       "      <td>29</td>\n",
       "      <td>29 years</td>\n",
       "    </tr>\n",
       "    <tr>\n",
       "      <th>20</th>\n",
       "      <td>30</td>\n",
       "      <td>30 years</td>\n",
       "    </tr>\n",
       "    <tr>\n",
       "      <th>21</th>\n",
       "      <td>31</td>\n",
       "      <td>31 years</td>\n",
       "    </tr>\n",
       "    <tr>\n",
       "      <th>22</th>\n",
       "      <td>32</td>\n",
       "      <td>32 years</td>\n",
       "    </tr>\n",
       "    <tr>\n",
       "      <th>23</th>\n",
       "      <td>33</td>\n",
       "      <td>33 years</td>\n",
       "    </tr>\n",
       "    <tr>\n",
       "      <th>24</th>\n",
       "      <td>34</td>\n",
       "      <td>34 years</td>\n",
       "    </tr>\n",
       "    <tr>\n",
       "      <th>25</th>\n",
       "      <td>35</td>\n",
       "      <td>35 years</td>\n",
       "    </tr>\n",
       "    <tr>\n",
       "      <th>26</th>\n",
       "      <td>36</td>\n",
       "      <td>36 years</td>\n",
       "    </tr>\n",
       "    <tr>\n",
       "      <th>27</th>\n",
       "      <td>37</td>\n",
       "      <td>37 years</td>\n",
       "    </tr>\n",
       "    <tr>\n",
       "      <th>28</th>\n",
       "      <td>38</td>\n",
       "      <td>38 years</td>\n",
       "    </tr>\n",
       "    <tr>\n",
       "      <th>29</th>\n",
       "      <td>39</td>\n",
       "      <td>39 years</td>\n",
       "    </tr>\n",
       "    <tr>\n",
       "      <th>30</th>\n",
       "      <td>40</td>\n",
       "      <td>40 years</td>\n",
       "    </tr>\n",
       "    <tr>\n",
       "      <th>31</th>\n",
       "      <td>41</td>\n",
       "      <td>41 years</td>\n",
       "    </tr>\n",
       "    <tr>\n",
       "      <th>32</th>\n",
       "      <td>42</td>\n",
       "      <td>42 years</td>\n",
       "    </tr>\n",
       "    <tr>\n",
       "      <th>33</th>\n",
       "      <td>43</td>\n",
       "      <td>43 years</td>\n",
       "    </tr>\n",
       "    <tr>\n",
       "      <th>34</th>\n",
       "      <td>44</td>\n",
       "      <td>44 years</td>\n",
       "    </tr>\n",
       "    <tr>\n",
       "      <th>35</th>\n",
       "      <td>45</td>\n",
       "      <td>45 years</td>\n",
       "    </tr>\n",
       "    <tr>\n",
       "      <th>36</th>\n",
       "      <td>46</td>\n",
       "      <td>46 years</td>\n",
       "    </tr>\n",
       "    <tr>\n",
       "      <th>37</th>\n",
       "      <td>47</td>\n",
       "      <td>47 years</td>\n",
       "    </tr>\n",
       "    <tr>\n",
       "      <th>38</th>\n",
       "      <td>48</td>\n",
       "      <td>48 years</td>\n",
       "    </tr>\n",
       "    <tr>\n",
       "      <th>39</th>\n",
       "      <td>49</td>\n",
       "      <td>49 years</td>\n",
       "    </tr>\n",
       "    <tr>\n",
       "      <th>40</th>\n",
       "      <td>50</td>\n",
       "      <td>50 years</td>\n",
       "    </tr>\n",
       "    <tr>\n",
       "      <th>41</th>\n",
       "      <td>51</td>\n",
       "      <td>51 years</td>\n",
       "    </tr>\n",
       "    <tr>\n",
       "      <th>42</th>\n",
       "      <td>52</td>\n",
       "      <td>52 years</td>\n",
       "    </tr>\n",
       "    <tr>\n",
       "      <th>43</th>\n",
       "      <td>53</td>\n",
       "      <td>53 years</td>\n",
       "    </tr>\n",
       "    <tr>\n",
       "      <th>44</th>\n",
       "      <td>54</td>\n",
       "      <td>54 years</td>\n",
       "    </tr>\n",
       "    <tr>\n",
       "      <th>45</th>\n",
       "      <td>55</td>\n",
       "      <td>55 years</td>\n",
       "    </tr>\n",
       "    <tr>\n",
       "      <th>46</th>\n",
       "      <td>56</td>\n",
       "      <td>56 years</td>\n",
       "    </tr>\n",
       "    <tr>\n",
       "      <th>47</th>\n",
       "      <td>57</td>\n",
       "      <td>57 years</td>\n",
       "    </tr>\n",
       "    <tr>\n",
       "      <th>48</th>\n",
       "      <td>58</td>\n",
       "      <td>58 years</td>\n",
       "    </tr>\n",
       "    <tr>\n",
       "      <th>49</th>\n",
       "      <td>59</td>\n",
       "      <td>59 years</td>\n",
       "    </tr>\n",
       "    <tr>\n",
       "      <th>50</th>\n",
       "      <td>60</td>\n",
       "      <td>60 years</td>\n",
       "    </tr>\n",
       "    <tr>\n",
       "      <th>51</th>\n",
       "      <td>61</td>\n",
       "      <td>61 years</td>\n",
       "    </tr>\n",
       "    <tr>\n",
       "      <th>52</th>\n",
       "      <td>62</td>\n",
       "      <td>62 years</td>\n",
       "    </tr>\n",
       "    <tr>\n",
       "      <th>53</th>\n",
       "      <td>63</td>\n",
       "      <td>63 years</td>\n",
       "    </tr>\n",
       "    <tr>\n",
       "      <th>54</th>\n",
       "      <td>64</td>\n",
       "      <td>64 years</td>\n",
       "    </tr>\n",
       "  </tbody>\n",
       "</table>\n",
       "</div>"
      ],
      "text/plain": [
       "    id      text\n",
       "0   10  10 years\n",
       "1   11  11 years\n",
       "2   12  12 years\n",
       "3   13  13 years\n",
       "4   14  14 years\n",
       "5   15  15 years\n",
       "6   16  16 years\n",
       "7   17  17 years\n",
       "8   18  18 years\n",
       "9   19  19 years\n",
       "10  20  20 years\n",
       "11  21  21 years\n",
       "12  22  22 years\n",
       "13  23  23 years\n",
       "14  24  24 years\n",
       "15  25  25 years\n",
       "16  26  26 years\n",
       "17  27  27 years\n",
       "18  28  28 years\n",
       "19  29  29 years\n",
       "20  30  30 years\n",
       "21  31  31 years\n",
       "22  32  32 years\n",
       "23  33  33 years\n",
       "24  34  34 years\n",
       "25  35  35 years\n",
       "26  36  36 years\n",
       "27  37  37 years\n",
       "28  38  38 years\n",
       "29  39  39 years\n",
       "30  40  40 years\n",
       "31  41  41 years\n",
       "32  42  42 years\n",
       "33  43  43 years\n",
       "34  44  44 years\n",
       "35  45  45 years\n",
       "36  46  46 years\n",
       "37  47  47 years\n",
       "38  48  48 years\n",
       "39  49  49 years\n",
       "40  50  50 years\n",
       "41  51  51 years\n",
       "42  52  52 years\n",
       "43  53  53 years\n",
       "44  54  54 years\n",
       "45  55  55 years\n",
       "46  56  56 years\n",
       "47  57  57 years\n",
       "48  58  58 years\n",
       "49  59  59 years\n",
       "50  60  60 years\n",
       "51  61  61 years\n",
       "52  62  62 years\n",
       "53  63  63 years\n",
       "54  64  64 years"
      ]
     },
     "metadata": {},
     "output_type": "display_data"
    },
    {
     "name": "stdout",
     "output_type": "stream",
     "text": [
      "BARNKON:\n"
     ]
    },
    {
     "data": {
      "text/html": [
       "<div>\n",
       "<style scoped>\n",
       "    .dataframe tbody tr th:only-of-type {\n",
       "        vertical-align: middle;\n",
       "    }\n",
       "\n",
       "    .dataframe tbody tr th {\n",
       "        vertical-align: top;\n",
       "    }\n",
       "\n",
       "    .dataframe thead th {\n",
       "        text-align: right;\n",
       "    }\n",
       "</style>\n",
       "<table border=\"1\" class=\"dataframe\">\n",
       "  <thead>\n",
       "    <tr style=\"text-align: right;\">\n",
       "      <th></th>\n",
       "      <th>id</th>\n",
       "      <th>text</th>\n",
       "    </tr>\n",
       "  </thead>\n",
       "  <tbody>\n",
       "    <tr>\n",
       "      <th>0</th>\n",
       "      <td>D</td>\n",
       "      <td>Boys</td>\n",
       "    </tr>\n",
       "    <tr>\n",
       "      <th>1</th>\n",
       "      <td>P</td>\n",
       "      <td>Girls</td>\n",
       "    </tr>\n",
       "  </tbody>\n",
       "</table>\n",
       "</div>"
      ],
      "text/plain": [
       "  id   text\n",
       "0  D   Boys\n",
       "1  P  Girls"
      ]
     },
     "metadata": {},
     "output_type": "display_data"
    },
    {
     "name": "stdout",
     "output_type": "stream",
     "text": [
      "Tid:\n"
     ]
    },
    {
     "data": {
      "text/html": [
       "<div>\n",
       "<style scoped>\n",
       "    .dataframe tbody tr th:only-of-type {\n",
       "        vertical-align: middle;\n",
       "    }\n",
       "\n",
       "    .dataframe tbody tr th {\n",
       "        vertical-align: top;\n",
       "    }\n",
       "\n",
       "    .dataframe thead th {\n",
       "        text-align: right;\n",
       "    }\n",
       "</style>\n",
       "<table border=\"1\" class=\"dataframe\">\n",
       "  <thead>\n",
       "    <tr style=\"text-align: right;\">\n",
       "      <th></th>\n",
       "      <th>id</th>\n",
       "      <th>text</th>\n",
       "    </tr>\n",
       "  </thead>\n",
       "  <tbody>\n",
       "    <tr>\n",
       "      <th>0</th>\n",
       "      <td>2007</td>\n",
       "      <td>2007</td>\n",
       "    </tr>\n",
       "    <tr>\n",
       "      <th>1</th>\n",
       "      <td>2008</td>\n",
       "      <td>2008</td>\n",
       "    </tr>\n",
       "    <tr>\n",
       "      <th>2</th>\n",
       "      <td>2009</td>\n",
       "      <td>2009</td>\n",
       "    </tr>\n",
       "    <tr>\n",
       "      <th>3</th>\n",
       "      <td>2010</td>\n",
       "      <td>2010</td>\n",
       "    </tr>\n",
       "    <tr>\n",
       "      <th>4</th>\n",
       "      <td>2011</td>\n",
       "      <td>2011</td>\n",
       "    </tr>\n",
       "    <tr>\n",
       "      <th>5</th>\n",
       "      <td>2012</td>\n",
       "      <td>2012</td>\n",
       "    </tr>\n",
       "    <tr>\n",
       "      <th>6</th>\n",
       "      <td>2013</td>\n",
       "      <td>2013</td>\n",
       "    </tr>\n",
       "    <tr>\n",
       "      <th>7</th>\n",
       "      <td>2014</td>\n",
       "      <td>2014</td>\n",
       "    </tr>\n",
       "    <tr>\n",
       "      <th>8</th>\n",
       "      <td>2015</td>\n",
       "      <td>2015</td>\n",
       "    </tr>\n",
       "    <tr>\n",
       "      <th>9</th>\n",
       "      <td>2016</td>\n",
       "      <td>2016</td>\n",
       "    </tr>\n",
       "    <tr>\n",
       "      <th>10</th>\n",
       "      <td>2017</td>\n",
       "      <td>2017</td>\n",
       "    </tr>\n",
       "    <tr>\n",
       "      <th>11</th>\n",
       "      <td>2018</td>\n",
       "      <td>2018</td>\n",
       "    </tr>\n",
       "    <tr>\n",
       "      <th>12</th>\n",
       "      <td>2019</td>\n",
       "      <td>2019</td>\n",
       "    </tr>\n",
       "    <tr>\n",
       "      <th>13</th>\n",
       "      <td>2020</td>\n",
       "      <td>2020</td>\n",
       "    </tr>\n",
       "    <tr>\n",
       "      <th>14</th>\n",
       "      <td>2021</td>\n",
       "      <td>2021</td>\n",
       "    </tr>\n",
       "    <tr>\n",
       "      <th>15</th>\n",
       "      <td>2022</td>\n",
       "      <td>2022</td>\n",
       "    </tr>\n",
       "  </tbody>\n",
       "</table>\n",
       "</div>"
      ],
      "text/plain": [
       "      id  text\n",
       "0   2007  2007\n",
       "1   2008  2008\n",
       "2   2009  2009\n",
       "3   2010  2010\n",
       "4   2011  2011\n",
       "5   2012  2012\n",
       "6   2013  2013\n",
       "7   2014  2014\n",
       "8   2015  2015\n",
       "9   2016  2016\n",
       "10  2017  2017\n",
       "11  2018  2018\n",
       "12  2019  2019\n",
       "13  2020  2020\n",
       "14  2021  2021\n",
       "15  2022  2022"
      ]
     },
     "metadata": {},
     "output_type": "display_data"
    }
   ],
   "source": [
    "# Load data\n",
    "ind = DstApi('FODIE') \n",
    "tabsum = ind.tablesummary(language='en')\n",
    "\n",
    "# Quick overview of data. \n",
    "for variable in tabsum['variable name']:\n",
    "   print(variable+':')\n",
    "   display(ind.variable_levels(variable, language='en'))"
   ]
  },
  {
   "attachments": {},
   "cell_type": "markdown",
   "metadata": {},
   "source": [
    "We notice that 'OMRÅDE' can take the value 'All Denmark', the regions as well as the individual municipialities. We keep this in mind when further investigating, thus to not get duplicates across the categories (as a birth will be registered in both a municipiality, a region and all of Denmark)."
   ]
  },
  {
   "cell_type": "code",
   "execution_count": 3,
   "metadata": {},
   "outputs": [
    {
     "data": {
      "text/plain": [
       "{'table': 'fodie',\n",
       " 'format': 'BULK',\n",
       " 'lang': 'en',\n",
       " 'variables': [{'code': 'OMRÅDE', 'values': ['*']},\n",
       "  {'code': 'MOHERK', 'values': ['*']},\n",
       "  {'code': 'MOOPRIND', 'values': ['*']},\n",
       "  {'code': 'MOSTAT', 'values': ['*']},\n",
       "  {'code': 'MODERSALDER', 'values': ['*']},\n",
       "  {'code': 'BARNKON', 'values': ['*']},\n",
       "  {'code': 'Tid', 'values': ['*']}]}"
      ]
     },
     "execution_count": 3,
     "metadata": {},
     "output_type": "execute_result"
    }
   ],
   "source": [
    "# The _define_base_params -method gives us a nice template (selects all available data)\n",
    "params = ind._define_base_params(language='en')\n",
    "params"
   ]
  },
  {
   "cell_type": "code",
   "execution_count": 4,
   "metadata": {},
   "outputs": [],
   "source": [
    "inc_api =pd.DataFrame(ind.get_data(params=params))\n",
    "inc_api.sort_values(by=['TID', 'OMRÅDE', 'MODERSALDER', 'MOOPRIND', 'BARNKON'], inplace=True)"
   ]
  },
  {
   "cell_type": "markdown",
   "metadata": {},
   "source": [
    "## Explore each data set"
   ]
  },
  {
   "attachments": {},
   "cell_type": "markdown",
   "metadata": {},
   "source": [
    "First examine how large the dataframe is:"
   ]
  },
  {
   "cell_type": "code",
   "execution_count": 5,
   "metadata": {},
   "outputs": [
    {
     "name": "stdout",
     "output_type": "stream",
     "text": [
      "(412674, 8)\n"
     ]
    }
   ],
   "source": [
    "print(inc_api.shape)"
   ]
  },
  {
   "attachments": {},
   "cell_type": "markdown",
   "metadata": {},
   "source": [
    "There seems to be 412674 rows (observations) and 8 columns (variables). The 7 rows are of course the groups as seem in section 'Read and clean data'. But what is the 8th?\n",
    "\n",
    "First we would simply like to see a the data as a dataframe and what a row could look like:"
   ]
  },
  {
   "cell_type": "code",
   "execution_count": 6,
   "metadata": {},
   "outputs": [
    {
     "data": {
      "text/html": [
       "<div>\n",
       "<style scoped>\n",
       "    .dataframe tbody tr th:only-of-type {\n",
       "        vertical-align: middle;\n",
       "    }\n",
       "\n",
       "    .dataframe tbody tr th {\n",
       "        vertical-align: top;\n",
       "    }\n",
       "\n",
       "    .dataframe thead th {\n",
       "        text-align: right;\n",
       "    }\n",
       "</style>\n",
       "<table border=\"1\" class=\"dataframe\">\n",
       "  <thead>\n",
       "    <tr style=\"text-align: right;\">\n",
       "      <th></th>\n",
       "      <th>OMRÅDE</th>\n",
       "      <th>MOHERK</th>\n",
       "      <th>MOOPRIND</th>\n",
       "      <th>MOSTAT</th>\n",
       "      <th>MODERSALDER</th>\n",
       "      <th>BARNKON</th>\n",
       "      <th>TID</th>\n",
       "      <th>INDHOLD</th>\n",
       "    </tr>\n",
       "  </thead>\n",
       "  <tbody>\n",
       "    <tr>\n",
       "      <th>300530</th>\n",
       "      <td>Aabenraa</td>\n",
       "      <td>Descendant</td>\n",
       "      <td>Germany</td>\n",
       "      <td>Denmark</td>\n",
       "      <td>17 years</td>\n",
       "      <td>Boys</td>\n",
       "      <td>2007</td>\n",
       "      <td>1</td>\n",
       "    </tr>\n",
       "    <tr>\n",
       "      <th>283911</th>\n",
       "      <td>Aabenraa</td>\n",
       "      <td>Immigrants</td>\n",
       "      <td>Armenia</td>\n",
       "      <td>Armenia</td>\n",
       "      <td>18 years</td>\n",
       "      <td>Girls</td>\n",
       "      <td>2007</td>\n",
       "      <td>1</td>\n",
       "    </tr>\n",
       "    <tr>\n",
       "      <th>280142</th>\n",
       "      <td>Aabenraa</td>\n",
       "      <td>Persons of Danish origin</td>\n",
       "      <td>Denmark</td>\n",
       "      <td>Denmark</td>\n",
       "      <td>18 years</td>\n",
       "      <td>Boys</td>\n",
       "      <td>2007</td>\n",
       "      <td>2</td>\n",
       "    </tr>\n",
       "    <tr>\n",
       "      <th>296304</th>\n",
       "      <td>Aabenraa</td>\n",
       "      <td>Persons of Danish origin</td>\n",
       "      <td>Denmark</td>\n",
       "      <td>Denmark</td>\n",
       "      <td>18 years</td>\n",
       "      <td>Girls</td>\n",
       "      <td>2007</td>\n",
       "      <td>2</td>\n",
       "    </tr>\n",
       "    <tr>\n",
       "      <th>300536</th>\n",
       "      <td>Aabenraa</td>\n",
       "      <td>Immigrants</td>\n",
       "      <td>Iraq</td>\n",
       "      <td>Iraq</td>\n",
       "      <td>18 years</td>\n",
       "      <td>Boys</td>\n",
       "      <td>2007</td>\n",
       "      <td>1</td>\n",
       "    </tr>\n",
       "  </tbody>\n",
       "</table>\n",
       "</div>"
      ],
      "text/plain": [
       "          OMRÅDE                    MOHERK MOOPRIND   MOSTAT MODERSALDER  \\\n",
       "300530  Aabenraa                Descendant  Germany  Denmark    17 years   \n",
       "283911  Aabenraa                Immigrants  Armenia  Armenia    18 years   \n",
       "280142  Aabenraa  Persons of Danish origin  Denmark  Denmark    18 years   \n",
       "296304  Aabenraa  Persons of Danish origin  Denmark  Denmark    18 years   \n",
       "300536  Aabenraa                Immigrants     Iraq     Iraq    18 years   \n",
       "\n",
       "       BARNKON   TID  INDHOLD  \n",
       "300530    Boys  2007        1  \n",
       "283911   Girls  2007        1  \n",
       "280142    Boys  2007        2  \n",
       "296304   Girls  2007        2  \n",
       "300536    Boys  2007        1  "
      ]
     },
     "execution_count": 6,
     "metadata": {},
     "output_type": "execute_result"
    }
   ],
   "source": [
    "inc_api.head(5)"
   ]
  },
  {
   "cell_type": "code",
   "execution_count": 7,
   "metadata": {},
   "outputs": [
    {
     "data": {
      "text/html": [
       "<div>\n",
       "<style scoped>\n",
       "    .dataframe tbody tr th:only-of-type {\n",
       "        vertical-align: middle;\n",
       "    }\n",
       "\n",
       "    .dataframe tbody tr th {\n",
       "        vertical-align: top;\n",
       "    }\n",
       "\n",
       "    .dataframe thead th {\n",
       "        text-align: right;\n",
       "    }\n",
       "</style>\n",
       "<table border=\"1\" class=\"dataframe\">\n",
       "  <thead>\n",
       "    <tr style=\"text-align: right;\">\n",
       "      <th></th>\n",
       "      <th>OMRÅDE</th>\n",
       "      <th>MOHERK</th>\n",
       "      <th>MOOPRIND</th>\n",
       "      <th>MOSTAT</th>\n",
       "      <th>MODERSALDER</th>\n",
       "      <th>BARNKON</th>\n",
       "      <th>TID</th>\n",
       "      <th>INDHOLD</th>\n",
       "    </tr>\n",
       "  </thead>\n",
       "  <tbody>\n",
       "    <tr>\n",
       "      <th>393298</th>\n",
       "      <td>Ærø</td>\n",
       "      <td>Immigrants</td>\n",
       "      <td>Germany</td>\n",
       "      <td>Germany</td>\n",
       "      <td>36 years</td>\n",
       "      <td>Girls</td>\n",
       "      <td>2022</td>\n",
       "      <td>1</td>\n",
       "    </tr>\n",
       "    <tr>\n",
       "      <th>393313</th>\n",
       "      <td>Ærø</td>\n",
       "      <td>Persons of Danish origin</td>\n",
       "      <td>Denmark</td>\n",
       "      <td>Denmark</td>\n",
       "      <td>38 years</td>\n",
       "      <td>Girls</td>\n",
       "      <td>2022</td>\n",
       "      <td>1</td>\n",
       "    </tr>\n",
       "    <tr>\n",
       "      <th>393314</th>\n",
       "      <td>Ærø</td>\n",
       "      <td>Persons of Danish origin</td>\n",
       "      <td>Denmark</td>\n",
       "      <td>Denmark</td>\n",
       "      <td>41 years</td>\n",
       "      <td>Girls</td>\n",
       "      <td>2022</td>\n",
       "      <td>2</td>\n",
       "    </tr>\n",
       "    <tr>\n",
       "      <th>393315</th>\n",
       "      <td>Ærø</td>\n",
       "      <td>Persons of Danish origin</td>\n",
       "      <td>Denmark</td>\n",
       "      <td>Denmark</td>\n",
       "      <td>42 years</td>\n",
       "      <td>Boys</td>\n",
       "      <td>2022</td>\n",
       "      <td>1</td>\n",
       "    </tr>\n",
       "    <tr>\n",
       "      <th>393316</th>\n",
       "      <td>Ærø</td>\n",
       "      <td>Persons of Danish origin</td>\n",
       "      <td>Denmark</td>\n",
       "      <td>Denmark</td>\n",
       "      <td>44 years</td>\n",
       "      <td>Girls</td>\n",
       "      <td>2022</td>\n",
       "      <td>1</td>\n",
       "    </tr>\n",
       "  </tbody>\n",
       "</table>\n",
       "</div>"
      ],
      "text/plain": [
       "       OMRÅDE                    MOHERK MOOPRIND   MOSTAT MODERSALDER BARNKON  \\\n",
       "393298    Ærø                Immigrants  Germany  Germany    36 years   Girls   \n",
       "393313    Ærø  Persons of Danish origin  Denmark  Denmark    38 years   Girls   \n",
       "393314    Ærø  Persons of Danish origin  Denmark  Denmark    41 years   Girls   \n",
       "393315    Ærø  Persons of Danish origin  Denmark  Denmark    42 years    Boys   \n",
       "393316    Ærø  Persons of Danish origin  Denmark  Denmark    44 years   Girls   \n",
       "\n",
       "         TID  INDHOLD  \n",
       "393298  2022        1  \n",
       "393313  2022        1  \n",
       "393314  2022        2  \n",
       "393315  2022        1  \n",
       "393316  2022        1  "
      ]
     },
     "execution_count": 7,
     "metadata": {},
     "output_type": "execute_result"
    }
   ],
   "source": [
    "inc_api.tail(5)"
   ]
  },
  {
   "attachments": {},
   "cell_type": "markdown",
   "metadata": {},
   "source": [
    "It seems the 8th the column (variable) is 'INDHOLD'. 'INDHOLD' seems to show the amount of births in the specific category of the other 7 variables. \n",
    "\n",
    "If we try to sort by 'INDHOLD' to examine the rows where 'INDHOLD' is large, we would expect to see the categories of 'Persons of Danish origin' and a age of the mother of roughly late twenties. We examine this:"
   ]
  },
  {
   "cell_type": "code",
   "execution_count": 8,
   "metadata": {},
   "outputs": [
    {
     "data": {
      "text/html": [
       "<div>\n",
       "<style scoped>\n",
       "    .dataframe tbody tr th:only-of-type {\n",
       "        vertical-align: middle;\n",
       "    }\n",
       "\n",
       "    .dataframe tbody tr th {\n",
       "        vertical-align: top;\n",
       "    }\n",
       "\n",
       "    .dataframe thead th {\n",
       "        text-align: right;\n",
       "    }\n",
       "</style>\n",
       "<table border=\"1\" class=\"dataframe\">\n",
       "  <thead>\n",
       "    <tr style=\"text-align: right;\">\n",
       "      <th></th>\n",
       "      <th>OMRÅDE</th>\n",
       "      <th>MOHERK</th>\n",
       "      <th>MOOPRIND</th>\n",
       "      <th>MOSTAT</th>\n",
       "      <th>MODERSALDER</th>\n",
       "      <th>BARNKON</th>\n",
       "      <th>TID</th>\n",
       "      <th>INDHOLD</th>\n",
       "    </tr>\n",
       "  </thead>\n",
       "  <tbody>\n",
       "    <tr>\n",
       "      <th>320700</th>\n",
       "      <td>All Denmark</td>\n",
       "      <td>Persons of Danish origin</td>\n",
       "      <td>Denmark</td>\n",
       "      <td>Denmark</td>\n",
       "      <td>29 years</td>\n",
       "      <td>Boys</td>\n",
       "      <td>2007</td>\n",
       "      <td>2359</td>\n",
       "    </tr>\n",
       "    <tr>\n",
       "      <th>314591</th>\n",
       "      <td>All Denmark</td>\n",
       "      <td>Persons of Danish origin</td>\n",
       "      <td>Denmark</td>\n",
       "      <td>Denmark</td>\n",
       "      <td>31 years</td>\n",
       "      <td>Girls</td>\n",
       "      <td>2007</td>\n",
       "      <td>2361</td>\n",
       "    </tr>\n",
       "    <tr>\n",
       "      <th>235054</th>\n",
       "      <td>All Denmark</td>\n",
       "      <td>Persons of Danish origin</td>\n",
       "      <td>Denmark</td>\n",
       "      <td>Denmark</td>\n",
       "      <td>29 years</td>\n",
       "      <td>Boys</td>\n",
       "      <td>2021</td>\n",
       "      <td>2371</td>\n",
       "    </tr>\n",
       "    <tr>\n",
       "      <th>303059</th>\n",
       "      <td>All Denmark</td>\n",
       "      <td>Persons of Danish origin</td>\n",
       "      <td>Denmark</td>\n",
       "      <td>Denmark</td>\n",
       "      <td>31 years</td>\n",
       "      <td>Boys</td>\n",
       "      <td>2007</td>\n",
       "      <td>2400</td>\n",
       "    </tr>\n",
       "    <tr>\n",
       "      <th>303060</th>\n",
       "      <td>All Denmark</td>\n",
       "      <td>Persons of Danish origin</td>\n",
       "      <td>Denmark</td>\n",
       "      <td>Denmark</td>\n",
       "      <td>30 years</td>\n",
       "      <td>Boys</td>\n",
       "      <td>2007</td>\n",
       "      <td>2410</td>\n",
       "    </tr>\n",
       "  </tbody>\n",
       "</table>\n",
       "</div>"
      ],
      "text/plain": [
       "             OMRÅDE                    MOHERK MOOPRIND   MOSTAT MODERSALDER  \\\n",
       "320700  All Denmark  Persons of Danish origin  Denmark  Denmark    29 years   \n",
       "314591  All Denmark  Persons of Danish origin  Denmark  Denmark    31 years   \n",
       "235054  All Denmark  Persons of Danish origin  Denmark  Denmark    29 years   \n",
       "303059  All Denmark  Persons of Danish origin  Denmark  Denmark    31 years   \n",
       "303060  All Denmark  Persons of Danish origin  Denmark  Denmark    30 years   \n",
       "\n",
       "       BARNKON   TID  INDHOLD  \n",
       "320700    Boys  2007     2359  \n",
       "314591   Girls  2007     2361  \n",
       "235054    Boys  2021     2371  \n",
       "303059    Boys  2007     2400  \n",
       "303060    Boys  2007     2410  "
      ]
     },
     "execution_count": 8,
     "metadata": {},
     "output_type": "execute_result"
    }
   ],
   "source": [
    "inc_api.sort_values(by=['INDHOLD'], inplace=True)\n",
    "inc_api.tail(5)"
   ]
  },
  {
   "attachments": {},
   "cell_type": "markdown",
   "metadata": {},
   "source": [
    "As seen above that is what we found. Thus it seems that 'INDHOLD' is the birth count for the category.\n",
    "\n",
    "We now have a dataset we can analyze."
   ]
  },
  {
   "cell_type": "markdown",
   "metadata": {},
   "source": [
    "# Analysis"
   ]
  },
  {
   "attachments": {},
   "cell_type": "markdown",
   "metadata": {},
   "source": [
    "Now we would like to analyze the data. First let us investigate amount of children born in a specific year, the gender of them and the origin of the mother. Let us use year 2008 as an example. See code below:"
   ]
  },
  {
   "cell_type": "code",
   "execution_count": 9,
   "metadata": {},
   "outputs": [
    {
     "name": "stdout",
     "output_type": "stream",
     "text": [
      "BARNKON  MOHERK                  \n",
      "Boys     Descendant                   1156\n",
      "         Immigrants                   5781\n",
      "         Persons of Danish origin    24582\n",
      "Girls    Descendant                   1037\n",
      "         Immigrants                   5430\n",
      "         Persons of Danish origin    23181\n",
      "Name: INDHOLD, dtype: int64\n"
     ]
    }
   ],
   "source": [
    "# Select only the category 'All Denmark' from the area in which the child was born.\n",
    "# One should either choose 'All Denmark' or all of the individual municipialities when analyzing the data to get the levels correct, as a child is registered in both categories.\n",
    "all_denmark_data = inc_api[inc_api['OMRÅDE'] == 'All Denmark']\n",
    "\n",
    "# Select the data for the year 2008\n",
    "all_denmark_data2 = all_denmark_data.set_index('TID')\n",
    "year_data = all_denmark_data2.loc[all_denmark_data2.index.get_level_values('TID') == 2019]\n",
    "\n",
    "# Group data by gender of child and origin of mother. \n",
    "grouped_data = year_data.groupby(['BARNKON', 'MOHERK'])['INDHOLD'].sum()\n",
    "\n",
    "# check data out\n",
    "print(grouped_data)"
   ]
  },
  {
   "attachments": {},
   "cell_type": "markdown",
   "metadata": {},
   "source": [
    "Lets check if this is realistic. We then have total amount of live births in Denmark in 2019:"
   ]
  },
  {
   "cell_type": "code",
   "execution_count": 10,
   "metadata": {},
   "outputs": [
    {
     "name": "stdout",
     "output_type": "stream",
     "text": [
      "The total amount of live births in Denmark in 2019 was: 61167\n"
     ]
    }
   ],
   "source": [
    "sum = grouped_data.sum()\n",
    "print(\"The total amount of live births in Denmark in 2019 was: \" + str(sum)) "
   ]
  },
  {
   "attachments": {},
   "cell_type": "markdown",
   "metadata": {},
   "source": [
    " A quick check on the [DST website](https://www.dst.dk/en/Statistik/emner/borgere/befolkning/foedsler) shows that the amount of live births in Denmark in 2019 was 61167. It uses the same table as us, but this shows us that we have aggregated the categories correctly. Now to investigate amount of children born in a specific year, the gender of them and the origin of the mother. See code below:"
   ]
  },
  {
   "cell_type": "code",
   "execution_count": 11,
   "metadata": {},
   "outputs": [
    {
     "data": {
      "application/vnd.jupyter.widget-view+json": {
       "model_id": "90fec47212c142eda4b487aeed63cb0e",
       "version_major": 2,
       "version_minor": 0
      },
      "text/plain": [
       "interactive(children=(IntSlider(value=2019, continuous_update=False, description='Year', max=2021, min=2008), …"
      ]
     },
     "metadata": {},
     "output_type": "display_data"
    },
    {
     "data": {
      "text/plain": [
       "<function __main__.update_plot(year)>"
      ]
     },
     "execution_count": 11,
     "metadata": {},
     "output_type": "execute_result"
    }
   ],
   "source": [
    "import ipywidgets as widgets\n",
    "\n",
    "# Define a function to update the plot based on the selected year\n",
    "def update_plot(year):\n",
    "\n",
    "    # Select the data for the selected year\n",
    "    year_data = all_denmark_data.loc[all_denmark_data['TID'] == year]\n",
    "\n",
    "    # Group data by gender of child and origin of mother.\n",
    "    grouped_data = year_data.groupby(['MOHERK', 'BARNKON'])['INDHOLD'].sum()\n",
    "\n",
    "    # Transform the data into a format suitable for a stacked bar chart\n",
    "    stacked_data = grouped_data.unstack(level=0)\n",
    "\n",
    "    # Create the stacked bar chart\n",
    "    ax = stacked_data.plot(kind='bar', stacked=True)\n",
    "\n",
    "    # Move the legend to the right of the plot\n",
    "    ax.legend(loc='center left', bbox_to_anchor=(1.0, 0.5))\n",
    "\n",
    "    # Add chart labels and title\n",
    "    plt.title(f'Number of Children Born in Denmark in {year} by Mother Origin and Gender')\n",
    "    plt.xlabel('Mother Origin')\n",
    "    plt.ylabel('Number of Children Born')\n",
    "\n",
    "    # Add labels to the stacked bars\n",
    "    for container in ax.containers:\n",
    "        for i, bar in enumerate(container):\n",
    "            height = bar.get_height()\n",
    "            ax.text(bar.get_x() + bar.get_width() / 2, height / 2, int(height), ha='center', va='center', color='black', fontsize=12)\n",
    "\n",
    "widgets.interact(update_plot,\n",
    "                 year=widgets.IntSlider(value=2019, min=2008, max=2021, step=1, description='Year', continuous_update=False),\n",
    ")"
   ]
  },
  {
   "attachments": {},
   "cell_type": "markdown",
   "metadata": {},
   "source": [
    "From the interactive plot above we can easily see that in general, more boys are born than girls. Furthermore, by far the largest part of births are by mothers of danish origin. Then by immigrants and then by descendants."
   ]
  },
  {
   "cell_type": "markdown",
   "metadata": {},
   "source": [
    "# Merge data sets"
   ]
  },
  {
   "attachments": {},
   "cell_type": "markdown",
   "metadata": {},
   "source": [
    "We would now like to create a interactive map of denmark where the total number of births show in each municipiality as a heatmap. \n",
    "\n",
    "To achieve this first find and load geodata of Denmark and municipalities. To do this use the package 'GeoPandas' and load a gml-dataset from Dataforsyningen - \"ADMINISTRATIVE ENHEDER' from link: https://dataforsyningen.dk/data/992"
   ]
  },
  {
   "cell_type": "code",
   "execution_count": 12,
   "metadata": {},
   "outputs": [
    {
     "data": {
      "text/plain": [
       "<AxesSubplot: >"
      ]
     },
     "execution_count": 12,
     "metadata": {},
     "output_type": "execute_result"
    },
    {
     "data": {
      "image/png": "[encoded data removed]",
      "text/plain": [
       "<Figure size 640x480 with 1 Axes>"
      ]
     },
     "metadata": {},
     "output_type": "display_data"
    }
   ],
   "source": [
    "import geopandas as gpd\n",
    "\n",
    "# Load the data into a GeoDataFrame\n",
    "gdf = gpd.read_file(\"DK_AdministrativeUnit.gml\")\n",
    "\n",
    "# Visualize the data\n",
    "gdf.plot()\n"
   ]
  },
  {
   "attachments": {},
   "cell_type": "markdown",
   "metadata": {},
   "source": [
    "Looks like we have correctly gotten data for denmark. Lets see what the data looks like:"
   ]
  },
  {
   "cell_type": "code",
   "execution_count": 13,
   "metadata": {},
   "outputs": [
    {
     "data": {
      "text/html": [
       "<div>\n",
       "<style scoped>\n",
       "    .dataframe tbody tr th:only-of-type {\n",
       "        vertical-align: middle;\n",
       "    }\n",
       "\n",
       "    .dataframe tbody tr th {\n",
       "        vertical-align: top;\n",
       "    }\n",
       "\n",
       "    .dataframe thead th {\n",
       "        text-align: right;\n",
       "    }\n",
       "</style>\n",
       "<table border=\"1\" class=\"dataframe\">\n",
       "  <thead>\n",
       "    <tr style=\"text-align: right;\">\n",
       "      <th></th>\n",
       "      <th>gml_id</th>\n",
       "      <th>identifier</th>\n",
       "      <th>nationalCode</th>\n",
       "      <th>localId</th>\n",
       "      <th>namespace</th>\n",
       "      <th>versionId</th>\n",
       "      <th>LocalisedCharacterString</th>\n",
       "      <th>language</th>\n",
       "      <th>sourceOfName</th>\n",
       "      <th>pronunciation</th>\n",
       "      <th>text</th>\n",
       "      <th>script</th>\n",
       "      <th>residenceOfAuthority</th>\n",
       "      <th>beginLifespanVersion</th>\n",
       "      <th>boundary</th>\n",
       "      <th>upperLevelUnit</th>\n",
       "      <th>geometry</th>\n",
       "    </tr>\n",
       "  </thead>\n",
       "  <tbody>\n",
       "    <tr>\n",
       "      <th>0</th>\n",
       "      <td>dk.au.389120</td>\n",
       "      <td>dk.au.389120</td>\n",
       "      <td>187</td>\n",
       "      <td>389120</td>\n",
       "      <td>https://geo.data.gov.dk/dataset/50f84f74-a55a-...</td>\n",
       "      <td>2018-01-22T09:00:00</td>\n",
       "      <td>Kommune</td>\n",
       "      <td>dan</td>\n",
       "      <td>None</td>\n",
       "      <td>None</td>\n",
       "      <td>Vallensbæk</td>\n",
       "      <td>Latn</td>\n",
       "      <td>None</td>\n",
       "      <td>2018-01-22T09:00:00</td>\n",
       "      <td>None</td>\n",
       "      <td>None</td>\n",
       "      <td>MULTIPOLYGON (((710270.910 6171295.650, 710273...</td>\n",
       "    </tr>\n",
       "  </tbody>\n",
       "</table>\n",
       "</div>"
      ],
      "text/plain": [
       "         gml_id    identifier  nationalCode  localId  \\\n",
       "0  dk.au.389120  dk.au.389120           187   389120   \n",
       "\n",
       "                                           namespace            versionId  \\\n",
       "0  https://geo.data.gov.dk/dataset/50f84f74-a55a-...  2018-01-22T09:00:00   \n",
       "\n",
       "  LocalisedCharacterString language sourceOfName pronunciation        text  \\\n",
       "0                  Kommune      dan         None          None  Vallensbæk   \n",
       "\n",
       "  script residenceOfAuthority beginLifespanVersion boundary upperLevelUnit  \\\n",
       "0   Latn                 None  2018-01-22T09:00:00     None           None   \n",
       "\n",
       "                                            geometry  \n",
       "0  MULTIPOLYGON (((710270.910 6171295.650, 710273...  "
      ]
     },
     "execution_count": 13,
     "metadata": {},
     "output_type": "execute_result"
    }
   ],
   "source": [
    "gdf.head(1)"
   ]
  },
  {
   "cell_type": "code",
   "execution_count": 14,
   "metadata": {},
   "outputs": [
    {
     "data": {
      "text/html": [
       "<div>\n",
       "<style scoped>\n",
       "    .dataframe tbody tr th:only-of-type {\n",
       "        vertical-align: middle;\n",
       "    }\n",
       "\n",
       "    .dataframe tbody tr th {\n",
       "        vertical-align: top;\n",
       "    }\n",
       "\n",
       "    .dataframe thead th {\n",
       "        text-align: right;\n",
       "    }\n",
       "</style>\n",
       "<table border=\"1\" class=\"dataframe\">\n",
       "  <thead>\n",
       "    <tr style=\"text-align: right;\">\n",
       "      <th></th>\n",
       "      <th>gml_id</th>\n",
       "      <th>identifier</th>\n",
       "      <th>nationalCode</th>\n",
       "      <th>localId</th>\n",
       "      <th>namespace</th>\n",
       "      <th>versionId</th>\n",
       "      <th>LocalisedCharacterString</th>\n",
       "      <th>language</th>\n",
       "      <th>sourceOfName</th>\n",
       "      <th>pronunciation</th>\n",
       "      <th>text</th>\n",
       "      <th>script</th>\n",
       "      <th>residenceOfAuthority</th>\n",
       "      <th>beginLifespanVersion</th>\n",
       "      <th>boundary</th>\n",
       "      <th>upperLevelUnit</th>\n",
       "      <th>geometry</th>\n",
       "    </tr>\n",
       "  </thead>\n",
       "  <tbody>\n",
       "    <tr>\n",
       "      <th>103</th>\n",
       "      <td>dk.au.389204</td>\n",
       "      <td>dk.au.389204</td>\n",
       "      <td>840</td>\n",
       "      <td>389204</td>\n",
       "      <td>https://geo.data.gov.dk/dataset/50f84f74-a55a-...</td>\n",
       "      <td>2018-01-22T09:00:00</td>\n",
       "      <td>Kommune</td>\n",
       "      <td>dan</td>\n",
       "      <td>None</td>\n",
       "      <td>None</td>\n",
       "      <td>Rebild</td>\n",
       "      <td>Latn</td>\n",
       "      <td>None</td>\n",
       "      <td>2018-01-22T09:00:00</td>\n",
       "      <td>None</td>\n",
       "      <td>None</td>\n",
       "      <td>MULTIPOLYGON (((538851.620 6300672.150, 538851...</td>\n",
       "    </tr>\n",
       "  </tbody>\n",
       "</table>\n",
       "</div>"
      ],
      "text/plain": [
       "           gml_id    identifier  nationalCode  localId  \\\n",
       "103  dk.au.389204  dk.au.389204           840   389204   \n",
       "\n",
       "                                             namespace            versionId  \\\n",
       "103  https://geo.data.gov.dk/dataset/50f84f74-a55a-...  2018-01-22T09:00:00   \n",
       "\n",
       "    LocalisedCharacterString language sourceOfName pronunciation    text  \\\n",
       "103                  Kommune      dan         None          None  Rebild   \n",
       "\n",
       "    script residenceOfAuthority beginLifespanVersion boundary upperLevelUnit  \\\n",
       "103   Latn                 None  2018-01-22T09:00:00     None           None   \n",
       "\n",
       "                                              geometry  \n",
       "103  MULTIPOLYGON (((538851.620 6300672.150, 538851...  "
      ]
     },
     "execution_count": 14,
     "metadata": {},
     "output_type": "execute_result"
    }
   ],
   "source": [
    "gdf.tail(1)"
   ]
  },
  {
   "attachments": {},
   "cell_type": "markdown",
   "metadata": {},
   "source": [
    "It seems that 'nationalCode' is the municipality-ID to match the 'text' column that shows the municipality name. The geodata-polygon seems to be located in the 'geometry' column.\n",
    "\n",
    "We clean up the dataset by only keeping those variables:"
   ]
  },
  {
   "cell_type": "code",
   "execution_count": 15,
   "metadata": {},
   "outputs": [
    {
     "data": {
      "text/html": [
       "<div>\n",
       "<style scoped>\n",
       "    .dataframe tbody tr th:only-of-type {\n",
       "        vertical-align: middle;\n",
       "    }\n",
       "\n",
       "    .dataframe tbody tr th {\n",
       "        vertical-align: top;\n",
       "    }\n",
       "\n",
       "    .dataframe thead th {\n",
       "        text-align: right;\n",
       "    }\n",
       "</style>\n",
       "<table border=\"1\" class=\"dataframe\">\n",
       "  <thead>\n",
       "    <tr style=\"text-align: right;\">\n",
       "      <th></th>\n",
       "      <th>nationalCode</th>\n",
       "      <th>text</th>\n",
       "      <th>geometry</th>\n",
       "    </tr>\n",
       "  </thead>\n",
       "  <tbody>\n",
       "    <tr>\n",
       "      <th>0</th>\n",
       "      <td>187</td>\n",
       "      <td>Vallensbæk</td>\n",
       "      <td>MULTIPOLYGON (((710270.910 6171295.650, 710273...</td>\n",
       "    </tr>\n",
       "    <tr>\n",
       "      <th>1</th>\n",
       "      <td>147</td>\n",
       "      <td>Frederiksberg</td>\n",
       "      <td>MULTIPOLYGON (((721665.510 6177836.640, 721620...</td>\n",
       "    </tr>\n",
       "    <tr>\n",
       "      <th>2</th>\n",
       "      <td>175</td>\n",
       "      <td>Rødovre</td>\n",
       "      <td>MULTIPOLYGON (((716883.100 6174216.660, 716885...</td>\n",
       "    </tr>\n",
       "    <tr>\n",
       "      <th>3</th>\n",
       "      <td>161</td>\n",
       "      <td>Glostrup</td>\n",
       "      <td>MULTIPOLYGON (((715545.380 6175968.680, 715547...</td>\n",
       "    </tr>\n",
       "    <tr>\n",
       "      <th>4</th>\n",
       "      <td>153</td>\n",
       "      <td>Brøndby</td>\n",
       "      <td>MULTIPOLYGON (((716885.550 6174191.990, 716883...</td>\n",
       "    </tr>\n",
       "    <tr>\n",
       "      <th>...</th>\n",
       "      <td>...</td>\n",
       "      <td>...</td>\n",
       "      <td>...</td>\n",
       "    </tr>\n",
       "    <tr>\n",
       "      <th>99</th>\n",
       "      <td>1082</td>\n",
       "      <td>Region Midtjylland</td>\n",
       "      <td>MULTIPOLYGON (((548297.190 6268767.710, 548292...</td>\n",
       "    </tr>\n",
       "    <tr>\n",
       "      <th>100</th>\n",
       "      <td>1081</td>\n",
       "      <td>Region Nordjylland</td>\n",
       "      <td>MULTIPOLYGON (((476091.820 6285490.440, 476088...</td>\n",
       "    </tr>\n",
       "    <tr>\n",
       "      <th>101</th>\n",
       "      <td>1085</td>\n",
       "      <td>Region Sjælland</td>\n",
       "      <td>MULTIPOLYGON (((670291.600 6178301.520, 670291...</td>\n",
       "    </tr>\n",
       "    <tr>\n",
       "      <th>102</th>\n",
       "      <td>1083</td>\n",
       "      <td>Region Syddanmark</td>\n",
       "      <td>MULTIPOLYGON (((548131.600 6089172.750, 548130...</td>\n",
       "    </tr>\n",
       "    <tr>\n",
       "      <th>103</th>\n",
       "      <td>840</td>\n",
       "      <td>Rebild</td>\n",
       "      <td>MULTIPOLYGON (((538851.620 6300672.150, 538851...</td>\n",
       "    </tr>\n",
       "  </tbody>\n",
       "</table>\n",
       "<p>104 rows × 3 columns</p>\n",
       "</div>"
      ],
      "text/plain": [
       "     nationalCode                text  \\\n",
       "0             187          Vallensbæk   \n",
       "1             147       Frederiksberg   \n",
       "2             175             Rødovre   \n",
       "3             161            Glostrup   \n",
       "4             153             Brøndby   \n",
       "..            ...                 ...   \n",
       "99           1082  Region Midtjylland   \n",
       "100          1081  Region Nordjylland   \n",
       "101          1085     Region Sjælland   \n",
       "102          1083   Region Syddanmark   \n",
       "103           840              Rebild   \n",
       "\n",
       "                                              geometry  \n",
       "0    MULTIPOLYGON (((710270.910 6171295.650, 710273...  \n",
       "1    MULTIPOLYGON (((721665.510 6177836.640, 721620...  \n",
       "2    MULTIPOLYGON (((716883.100 6174216.660, 716885...  \n",
       "3    MULTIPOLYGON (((715545.380 6175968.680, 715547...  \n",
       "4    MULTIPOLYGON (((716885.550 6174191.990, 716883...  \n",
       "..                                                 ...  \n",
       "99   MULTIPOLYGON (((548297.190 6268767.710, 548292...  \n",
       "100  MULTIPOLYGON (((476091.820 6285490.440, 476088...  \n",
       "101  MULTIPOLYGON (((670291.600 6178301.520, 670291...  \n",
       "102  MULTIPOLYGON (((548131.600 6089172.750, 548130...  \n",
       "103  MULTIPOLYGON (((538851.620 6300672.150, 538851...  \n",
       "\n",
       "[104 rows x 3 columns]"
      ]
     },
     "execution_count": 15,
     "metadata": {},
     "output_type": "execute_result"
    }
   ],
   "source": [
    "gdf = gdf.loc[:, ['nationalCode', 'text', 'geometry']]\n",
    "gdf\n"
   ]
  },
  {
   "attachments": {},
   "cell_type": "markdown",
   "metadata": {},
   "source": [
    "From the above we can see that there also exists data for the different Regions. We are not interested in this data as for now and will therefore remove them such that rows are only for munipalities. To remove them start by investigating how many values from 'text' start with 'Region':"
   ]
  },
  {
   "cell_type": "code",
   "execution_count": 16,
   "metadata": {},
   "outputs": [
    {
     "name": "stdout",
     "output_type": "stream",
     "text": [
      "Region Hovedstaden\n",
      "Region Midtjylland\n",
      "Region Nordjylland\n",
      "Region Sjælland\n",
      "Region Syddanmark\n",
      "['Region Hovedstaden', 'Region Midtjylland', 'Region Nordjylland', 'Region Sjælland', 'Region Syddanmark']\n"
     ]
    }
   ],
   "source": [
    "def unique(list):\n",
    "    # initialize a null list\n",
    "    unique_list = []\n",
    " \n",
    "    # traverse for all elements\n",
    "    for x in list:\n",
    "        # check if the element starts with \"Region\" and if it exists in unique_list or not\n",
    "        if x.startswith(\"Region\") and x not in unique_list:\n",
    "            unique_list.append(x)\n",
    "    \n",
    "    # print list\n",
    "    for x in unique_list:\n",
    "        print(x)\n",
    "\n",
    "\n",
    "    return unique_list\n",
    "        \n",
    "\n",
    "list1 = gdf['text']\n",
    "uniq = unique(list1)\n",
    "print(uniq)\n"
   ]
  },
  {
   "attachments": {},
   "cell_type": "markdown",
   "metadata": {},
   "source": [
    "This is as expected. We know that Denmark has 5 regions. Now remove these regions from the dataset:"
   ]
  },
  {
   "cell_type": "code",
   "execution_count": 17,
   "metadata": {},
   "outputs": [
    {
     "data": {
      "text/html": [
       "<div>\n",
       "<style scoped>\n",
       "    .dataframe tbody tr th:only-of-type {\n",
       "        vertical-align: middle;\n",
       "    }\n",
       "\n",
       "    .dataframe tbody tr th {\n",
       "        vertical-align: top;\n",
       "    }\n",
       "\n",
       "    .dataframe thead th {\n",
       "        text-align: right;\n",
       "    }\n",
       "</style>\n",
       "<table border=\"1\" class=\"dataframe\">\n",
       "  <thead>\n",
       "    <tr style=\"text-align: right;\">\n",
       "      <th></th>\n",
       "      <th>nationalCode</th>\n",
       "      <th>text</th>\n",
       "      <th>geometry</th>\n",
       "    </tr>\n",
       "  </thead>\n",
       "  <tbody>\n",
       "    <tr>\n",
       "      <th>0</th>\n",
       "      <td>187</td>\n",
       "      <td>Vallensbæk</td>\n",
       "      <td>MULTIPOLYGON (((710270.910 6171295.650, 710273...</td>\n",
       "    </tr>\n",
       "    <tr>\n",
       "      <th>1</th>\n",
       "      <td>147</td>\n",
       "      <td>Frederiksberg</td>\n",
       "      <td>MULTIPOLYGON (((721665.510 6177836.640, 721620...</td>\n",
       "    </tr>\n",
       "    <tr>\n",
       "      <th>2</th>\n",
       "      <td>175</td>\n",
       "      <td>Rødovre</td>\n",
       "      <td>MULTIPOLYGON (((716883.100 6174216.660, 716885...</td>\n",
       "    </tr>\n",
       "    <tr>\n",
       "      <th>3</th>\n",
       "      <td>161</td>\n",
       "      <td>Glostrup</td>\n",
       "      <td>MULTIPOLYGON (((715545.380 6175968.680, 715547...</td>\n",
       "    </tr>\n",
       "    <tr>\n",
       "      <th>4</th>\n",
       "      <td>153</td>\n",
       "      <td>Brøndby</td>\n",
       "      <td>MULTIPOLYGON (((716885.550 6174191.990, 716883...</td>\n",
       "    </tr>\n",
       "    <tr>\n",
       "      <th>...</th>\n",
       "      <td>...</td>\n",
       "      <td>...</td>\n",
       "      <td>...</td>\n",
       "    </tr>\n",
       "    <tr>\n",
       "      <th>94</th>\n",
       "      <td>851</td>\n",
       "      <td>Aalborg</td>\n",
       "      <td>MULTIPOLYGON (((563346.420 6325579.150, 563336...</td>\n",
       "    </tr>\n",
       "    <tr>\n",
       "      <th>95</th>\n",
       "      <td>376</td>\n",
       "      <td>Guldborgsund</td>\n",
       "      <td>MULTIPOLYGON (((688764.820 6051969.090, 688758...</td>\n",
       "    </tr>\n",
       "    <tr>\n",
       "      <th>96</th>\n",
       "      <td>390</td>\n",
       "      <td>Vordingborg</td>\n",
       "      <td>MULTIPOLYGON (((710006.200 6101733.040, 710010...</td>\n",
       "    </tr>\n",
       "    <tr>\n",
       "      <th>97</th>\n",
       "      <td>400</td>\n",
       "      <td>Bornholm</td>\n",
       "      <td>MULTIPOLYGON (((891862.380 6126874.580, 891863...</td>\n",
       "    </tr>\n",
       "    <tr>\n",
       "      <th>103</th>\n",
       "      <td>840</td>\n",
       "      <td>Rebild</td>\n",
       "      <td>MULTIPOLYGON (((538851.620 6300672.150, 538851...</td>\n",
       "    </tr>\n",
       "  </tbody>\n",
       "</table>\n",
       "<p>99 rows × 3 columns</p>\n",
       "</div>"
      ],
      "text/plain": [
       "     nationalCode           text  \\\n",
       "0             187     Vallensbæk   \n",
       "1             147  Frederiksberg   \n",
       "2             175        Rødovre   \n",
       "3             161       Glostrup   \n",
       "4             153        Brøndby   \n",
       "..            ...            ...   \n",
       "94            851        Aalborg   \n",
       "95            376   Guldborgsund   \n",
       "96            390    Vordingborg   \n",
       "97            400       Bornholm   \n",
       "103           840         Rebild   \n",
       "\n",
       "                                              geometry  \n",
       "0    MULTIPOLYGON (((710270.910 6171295.650, 710273...  \n",
       "1    MULTIPOLYGON (((721665.510 6177836.640, 721620...  \n",
       "2    MULTIPOLYGON (((716883.100 6174216.660, 716885...  \n",
       "3    MULTIPOLYGON (((715545.380 6175968.680, 715547...  \n",
       "4    MULTIPOLYGON (((716885.550 6174191.990, 716883...  \n",
       "..                                                 ...  \n",
       "94   MULTIPOLYGON (((563346.420 6325579.150, 563336...  \n",
       "95   MULTIPOLYGON (((688764.820 6051969.090, 688758...  \n",
       "96   MULTIPOLYGON (((710006.200 6101733.040, 710010...  \n",
       "97   MULTIPOLYGON (((891862.380 6126874.580, 891863...  \n",
       "103  MULTIPOLYGON (((538851.620 6300672.150, 538851...  \n",
       "\n",
       "[99 rows x 3 columns]"
      ]
     },
     "execution_count": 17,
     "metadata": {},
     "output_type": "execute_result"
    }
   ],
   "source": [
    "remove_list = ['Region Hovedstaden', 'Region Syddanmark']\n",
    "\n",
    "# remove rows where text is in the remove_list using boolean indexing with ~ operator\n",
    "gdf = gdf[~gdf['text'].isin(uniq)]\n",
    "gdf"
   ]
  },
  {
   "attachments": {},
   "cell_type": "markdown",
   "metadata": {},
   "source": [
    "Thus we now have 99 rows. In Denmark there are currently only 98 *real* municipalities, but this is because the map contains geodata for 'Christiansø' which is a special administrative incident.\n",
    "\n",
    "We now wish to *join* the births data onto this geodata. First prepare the births data:"
   ]
  },
  {
   "cell_type": "code",
   "execution_count": 18,
   "metadata": {},
   "outputs": [
    {
     "name": "stdout",
     "output_type": "stream",
     "text": [
      "Region Hovedstaden\n",
      "Region Sjælland\n",
      "Region Syddanmark\n",
      "Region Nordjylland\n",
      "Region Midtjylland\n",
      "['Region Hovedstaden', 'Region Sjælland', 'Region Syddanmark', 'Region Nordjylland', 'Region Midtjylland', 'All Denmark']\n"
     ]
    }
   ],
   "source": [
    "# Select OMRÅDE column from the births data\n",
    "list2 = inc_api['OMRÅDE']\n",
    "\n",
    "# Find unique values in the births data that start with 'Region'\n",
    "uniq2 = unique(list2)\n",
    "\n",
    "# Append the category 'All Denmark' to the list.\n",
    "uniq2.append('All Denmark')\n",
    "print(uniq2)"
   ]
  },
  {
   "attachments": {},
   "cell_type": "markdown",
   "metadata": {},
   "source": [
    "As seen above the list 'uniq2' now contains all the valeus that are not municipalities from the births data dataset. Thus, we expect that there should now be 99 unique values for 'OMRÅDE' in the births dataset when removing the values from 'uniq2':"
   ]
  },
  {
   "cell_type": "code",
   "execution_count": 19,
   "metadata": {},
   "outputs": [
    {
     "name": "stdout",
     "output_type": "stream",
     "text": [
      "Amount of unique values when not removing 'Regions%' and 'All Denmark':  105\n",
      "Amount of unique values when removing 'Regions%' and 'All Denmark':      99\n",
      "Where '%' indicates an arbitrary string following 'Region'.\n"
     ]
    }
   ],
   "source": [
    "inc_api2 = inc_api[~inc_api['OMRÅDE'].isin(uniq2)]\n",
    "unique_områder = inc_api['OMRÅDE'].nunique()\n",
    "unique_områder2 = inc_api2['OMRÅDE'].nunique()\n",
    "print(\"Amount of unique values when not removing 'Regions%' and 'All Denmark':  \" + str(unique_områder))\n",
    "print(\"Amount of unique values when removing 'Regions%' and 'All Denmark':      \" + str(unique_områder2))\n",
    "print(\"Where '%' indicates an arbitrary string following 'Region'.\")\n"
   ]
  },
  {
   "attachments": {},
   "cell_type": "markdown",
   "metadata": {},
   "source": [
    "As expected. Now aggregate the births data into categories; Births, Municipality, Year so that we can properly merge it with the map data."
   ]
  },
  {
   "cell_type": "code",
   "execution_count": 20,
   "metadata": {},
   "outputs": [
    {
     "name": "stdout",
     "output_type": "stream",
     "text": [
      "The total amount of live births in Denmark in 2019 was: 61167\n"
     ]
    }
   ],
   "source": [
    "# Group data by gender of child and origin of mother. \n",
    "births = inc_api2.groupby(['OMRÅDE','TID'])['INDHOLD'].sum()\n",
    "births_df = births.reset_index()\n",
    "\n",
    "# A quick check tells us that aggregating for 2019 like earlier gives us the same amount of births\n",
    "year_data = births.loc[births.index.get_level_values('TID') == 2019]\n",
    "\n",
    "sum_births = grouped_data.sum()\n",
    "print(\"The total amount of live births in Denmark in 2019 was: \" + str(sum_births))\n"
   ]
  },
  {
   "attachments": {},
   "cell_type": "markdown",
   "metadata": {},
   "source": [
    "Now merge the births data onto the geodata. First we are interested in seeing if any values do not have a match between 'text' and 'OMRÅDE'. As the string is not give nas e.g. a code we expect there might be differences."
   ]
  },
  {
   "cell_type": "code",
   "execution_count": 21,
   "metadata": {},
   "outputs": [
    {
     "name": "stdout",
     "output_type": "stream",
     "text": [
      "['Copenhagen']\n"
     ]
    }
   ],
   "source": [
    "merged_data = pd.merge(gdf, births_df[['OMRÅDE', 'TID', 'INDHOLD']], left_on='text', right_on='OMRÅDE', how='outer', indicator=True)\n",
    "\n",
    "# Select the rows where _merge is equal to 'right_only'\n",
    "unmatched_values = merged_data.loc[merged_data['_merge'] == 'right_only', 'OMRÅDE']\n",
    "\n",
    "# Select only the unique non-matching values\n",
    "unique_unmatched_values = unmatched_values.unique()\n",
    "\n",
    "print(unique_unmatched_values)\n"
   ]
  },
  {
   "attachments": {},
   "cell_type": "markdown",
   "metadata": {},
   "source": [
    "Thus it seems that for some reason the municipality for Copenhagen in the births data is written in english and not danish like the rest of the municipalities. This is fixed in the before the merge below:"
   ]
  },
  {
   "cell_type": "code",
   "execution_count": 22,
   "metadata": {},
   "outputs": [
    {
     "name": "stdout",
     "output_type": "stream",
     "text": [
      "[]\n"
     ]
    }
   ],
   "source": [
    "births_df['OMRÅDE'] = births_df['OMRÅDE'].replace('Copenhagen', 'København')\n",
    "merged_data = pd.merge(gdf, births_df[['OMRÅDE', 'TID', 'INDHOLD']], left_on='text', right_on='OMRÅDE', how='outer', indicator=True)\n",
    "\n",
    "# Select the rows where _merge is equal to 'right_only'\n",
    "unmatched_values = merged_data.loc[merged_data['_merge'] == 'right_only', 'OMRÅDE']\n",
    "\n",
    "# Select only the unique non-matching values\n",
    "unique_unmatched_values = unmatched_values.unique()\n",
    "\n",
    "print(unique_unmatched_values)\n"
   ]
  },
  {
   "attachments": {},
   "cell_type": "markdown",
   "metadata": {},
   "source": [
    "As seen above now we do not have any non-matched values."
   ]
  },
  {
   "attachments": {},
   "cell_type": "markdown",
   "metadata": {},
   "source": [
    "Now before making a map select investigate the size of the data for different years:"
   ]
  },
  {
   "cell_type": "code",
   "execution_count": 23,
   "metadata": {},
   "outputs": [
    {
     "name": "stdout",
     "output_type": "stream",
     "text": [
      "Number of rows and columns for year 2005: (0, 6)\n",
      "Number of rows and columns for year 2008: (99, 6)\n",
      "Number of rows and columns for year 2010: (99, 6)\n",
      "Number of rows and columns for year 2015: (98, 6)\n",
      "Number of rows and columns for year 2019: (98, 6)\n",
      "Number of rows and columns for year 2022: (99, 6)\n"
     ]
    }
   ],
   "source": [
    "years = [2005, 2008, 2010, 2015, 2019, 2022]\n",
    "\n",
    "merged_data2 = merged_data.set_index('TID')\n",
    "\n",
    "for year in years:\n",
    "    subset = merged_data2[merged_data2.index.get_level_values('TID') == year]\n",
    "    print(\"Number of rows and columns for year {}: {}\".format(year, subset.shape))"
   ]
  },
  {
   "attachments": {},
   "cell_type": "markdown",
   "metadata": {},
   "source": [
    "Notice only 98 rows. This is likely as Christiansø has very few births (1 birth in 2022 and 0 in 2019). We see the difference beetween the values:"
   ]
  },
  {
   "cell_type": "code",
   "execution_count": 24,
   "metadata": {},
   "outputs": [
    {
     "name": "stdout",
     "output_type": "stream",
     "text": [
      "Unique values in 2022 but not 2019: {'Christiansø'}\n"
     ]
    }
   ],
   "source": [
    "subset_2019 = merged_data2[merged_data2.index.get_level_values('TID') == 2019]\n",
    "subset_2022 = merged_data2[merged_data2.index.get_level_values('TID') == 2022]\n",
    "\n",
    "unique_2019 = set(subset_2019['text'].unique())\n",
    "unique_2022 = set(subset_2022['text'].unique())\n",
    "\n",
    "difference = unique_2022 - unique_2019\n",
    "\n",
    "print(\"Unique values in 2022 but not 2019:\", difference)\n"
   ]
  },
  {
   "attachments": {},
   "cell_type": "markdown",
   "metadata": {},
   "source": [
    "Thus we have found the *anomaly* - and that it is nothing to worry about. Now we are going to make the map with geopandas and make it interactable such that one can choose year."
   ]
  },
  {
   "attachments": {},
   "cell_type": "markdown",
   "metadata": {},
   "source": [
    "Before mapping we are going to create intervals for number of births for better display in a choropleth plot:"
   ]
  },
  {
   "cell_type": "code",
   "execution_count": 54,
   "metadata": {},
   "outputs": [
    {
     "data": {
      "text/plain": [
       "<AxesSubplot: >"
      ]
     },
     "execution_count": 54,
     "metadata": {},
     "output_type": "execute_result"
    },
    {
     "data": {
      "image/png": "[encoded data removed]",
      "text/plain": [
       "<Figure size 1000x800 with 1 Axes>"
      ]
     },
     "metadata": {},
     "output_type": "display_data"
    }
   ],
   "source": [
    "# Define the intervals and labels\n",
    "bins = [0, 100, 500, 1000, 5000, 1000000]\n",
    "labels = ['0-100', '100-500', '500-1000', '1000-5000', '5000+']\n"
   ]
  },
  {
   "cell_type": "code",
   "execution_count": 75,
   "metadata": {},
   "outputs": [
    {
     "data": {
      "application/vnd.jupyter.widget-view+json": {
       "model_id": "eac493d8a80a4ce5b81e2070bfa03289",
       "version_major": 2,
       "version_minor": 0
      },
      "text/plain": [
       "interactive(children=(IntSlider(value=2019, continuous_update=False, description='Year', layout=Layout(width='…"
      ]
     },
     "metadata": {},
     "output_type": "display_data"
    },
    {
     "data": {
      "text/plain": [
       "<function __main__.update_cholo(year)>"
      ]
     },
     "execution_count": 75,
     "metadata": {},
     "output_type": "execute_result"
    }
   ],
   "source": [
    "import ipywidgets as widgets\n",
    "\n",
    "# Define a function to update the plot based on the selected year\n",
    "def update_cholo(year):\n",
    "\n",
    "    # Use cut() to assign labels to intervals\n",
    "    subset_year =  merged_data2[merged_data2.index.get_level_values('TID') == year]\n",
    "\n",
    "    subset = subset_year.copy()\n",
    "    subset.loc[:, 'intervals'] = pd.cut(subset['INDHOLD'], bins=bins, labels=labels)\n",
    "    \n",
    "    ax = subset.plot(\"intervals\",cmap='OrRd', legend = True, figsize=(14, 8), edgecolor='black')\n",
    "    ax.axis('off')\n",
    "    ax.set_title(f'Amount of live born children in {year}')\n",
    "    \n",
    "    # Adjust the legend size and position\n",
    "    legend = ax.get_legend()\n",
    "    legend.set_bbox_to_anchor((0.85, 0.8))\n",
    "    legend.prop.set_size(30)\n",
    "    \n",
    "    # Increase marker size in legend and add black border\n",
    "    for line in legend.get_lines():\n",
    "        line.set_markersize(15)\n",
    "        line.set_markeredgewidth(1.5)\n",
    "        line.set_markeredgecolor('black')\n",
    "    \n",
    "    # Set font size for all legend labels\n",
    "    for label in legend.get_texts():\n",
    "        label.set_fontsize(16)\n",
    "    \n",
    "    plt.show()\n",
    "    plt.close()\n",
    "\n",
    "\n",
    "widgets.interact(update_cholo,\n",
    "                 year=widgets.IntSlider(value=2019, min=2008, max=2021, step=1, description='Year', continuous_update=False, layout=widgets.Layout(width='30%')),\n",
    ")\n",
    "\n"
   ]
  },
  {
   "cell_type": "markdown",
   "metadata": {},
   "source": [
    "# Conclusion"
   ]
  }
 ],
 "metadata": {
  "kernelspec": {
   "display_name": "base",
   "language": "python",
   "name": "python3"
  },
  "language_info": {
   "codemirror_mode": {
    "name": "ipython",
    "version": 3
   },
   "file_extension": ".py",
   "mimetype": "text/x-python",
   "name": "python",
   "nbconvert_exporter": "python",
   "pygments_lexer": "ipython3",
   "version": "3.9.16"
  },
  "toc-autonumbering": true,
  "vscode": {
   "interpreter": {
    "hash": "68e77a2019630c844ad2ed089cfeaa1ff41081e574fef0e7734cace63a14be5f"
   }
  }
 },
 "nbformat": 4,
 "nbformat_minor": 4
}
