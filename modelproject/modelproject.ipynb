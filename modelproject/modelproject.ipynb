{
 "cells": [
  {
   "attachments": {},
   "cell_type": "markdown",
   "metadata": {},
   "source": [
    "# Investing in Human Capital: The Key to Economic Growth - Insights from the Solow Model"
   ]
  },
  {
   "attachments": {},
   "cell_type": "markdown",
   "metadata": {},
   "source": [
    "**Motivation for our model project**\n",
    "\n",
    "Investment in human capital has been shown to have a potential cross effect on physical capital investment, as an increase in investment in human capital can lead to a rise in the productivity of workers, leading to a larger income, which in turn can stimulate investment in physical capital. To investigate this relationship and its implications for economic growth, we need to first solve the basic Solow model, which only considers physical capital, and then extend it to incorporate human capital.\n",
    "\n",
    "By developing the Solow model with human capital, we can gain a more complete understanding of the relationship between human and physical capital and how investment in these two factors can promote sustainable economic growth. This can contribute with insights beneficial for policy design."
   ]
  },
  {
   "attachments": {},
   "cell_type": "markdown",
   "metadata": {},
   "source": [
    "Imports and set magics:"
   ]
  },
  {
   "cell_type": "code",
   "execution_count": 1,
   "metadata": {},
   "outputs": [],
   "source": [
    "## Importing necessary libraries\n",
    "import numpy as np\n",
    "import sympy as sm\n",
    "from scipy import optimize\n",
    "from IPython.display import display\n",
    "import matplotlib.pyplot as plt\n",
    "import ipywidgets as widgets\n",
    "\n",
    "## For better looking output\n",
    "sm.init_printing(use_unicode=True)\n",
    "\n",
    "## Autoreload modules when code is run\n",
    "%load_ext autoreload\n",
    "%autoreload 2"
   ]
  },
  {
   "attachments": {},
   "cell_type": "markdown",
   "metadata": {},
   "source": [
    "# The Basic Solow Model"
   ]
  },
  {
   "attachments": {},
   "cell_type": "markdown",
   "metadata": {},
   "source": [
    "The basic Solow model consists of production, labour, capital, a rate on labour (wage) and a rate on capital (interest). Furthermore the model is dynamic, meaning that levels in the economy in a period t is determined and influenced by levels in period t-1. Below we list the equations included in the basic Solow model in discrete time as specified in chapter 3 of Introduction to Advanced Macroeconomics by Sørensen and Whitta-Jacobsen. "
   ]
  },
  {
   "attachments": {},
   "cell_type": "markdown",
   "metadata": {},
   "source": [
    "$$\n",
    "\\begin{align}\n",
    "Y_t=BK_t^{\\alpha}L_t^{1-\\alpha} \\tag{1} \\\\\n",
    "r_t=\\alpha B\\left(\\frac{K_t}{L_t}\\right)^{\\alpha-1} \\tag{2} \\\\\n",
    "w_t=(1-\\alpha) B\\left(\\frac{K_t}{L_t}\\right)^{\\alpha} \\tag{3} \\\\\n",
    "S_t=sY_t \\tag{4} \\\\\n",
    "K_{t+1}-K_t=S_t-\\delta K_t \\tag{5} \\\\\n",
    "L_{t+1}=(1+n)L_t \\tag{6} \\\\\n",
    "\\end{align}\n",
    "$$\n",
    "\n",
    "Where we use the per. capita notation, $y_t=\\frac{Y_t}{L_t}$ and $k_t=\\frac{K_t}{L_t}$"
   ]
  },
  {
   "attachments": {},
   "cell_type": "markdown",
   "metadata": {
    "tags": []
   },
   "source": [
    "## Analytical Solution"
   ]
  },
  {
   "attachments": {},
   "cell_type": "markdown",
   "metadata": {},
   "source": [
    "Now that we have specified the basic equations we specify how specific levels per capita are derived. "
   ]
  },
  {
   "cell_type": "code",
   "execution_count": 2,
   "metadata": {},
   "outputs": [
    {
     "data": {
      "image/png": "[encoded data removed]",
      "text/latex": [
       "$\\displaystyle k^{*} = \\left(\\frac{B s}{\\delta + n}\\right)^{- \\frac{1}{\\alpha - 1}}$"
      ],
      "text/plain": [
       "               -1  \n",
       "              ─────\n",
       "              α - 1\n",
       "       ⎛ B⋅s ⎞     \n",
       "k__* = ⎜─────⎟     \n",
       "       ⎝δ + n⎠     "
      ]
     },
     "metadata": {},
     "output_type": "display_data"
    },
    {
     "data": {
      "image/png": "[encoded data removed]",
      "text/latex": [
       "$\\displaystyle y^{*} = B \\left(\\left(\\frac{B s}{\\delta + n}\\right)^{- \\frac{1}{\\alpha - 1}}\\right)^{\\alpha}$"
      ],
      "text/plain": [
       "                       α\n",
       "         ⎛        -1  ⎞ \n",
       "         ⎜       ─────⎟ \n",
       "         ⎜       α - 1⎟ \n",
       "         ⎜⎛ B⋅s ⎞     ⎟ \n",
       "y__* = B⋅⎜⎜─────⎟     ⎟ \n",
       "         ⎝⎝δ + n⎠     ⎠ "
      ]
     },
     "metadata": {},
     "output_type": "display_data"
    }
   ],
   "source": [
    "# Define symbols\n",
    "n, s, B, k, kstar, ystar, alpha, delta = sm.symbols('n s B k k^* y^* alpha delta')\n",
    "\n",
    "# Solow Equation for k\n",
    "Solow_eq = sm.Eq(((s * B * k**alpha - (n + delta) * k) / (1 + n)), 0)\n",
    "\n",
    "# Calculate steady-state value of k\n",
    "k_ss = sm.solve(Solow_eq, k)[0]\n",
    "steady_state_k = sm.Eq(kstar, k_ss)\n",
    "\n",
    "# Calculate steady-state value of y\n",
    "y = B * k**alpha\n",
    "y_ss = y.subs(k, k_ss)\n",
    "steady_state_y = sm.Eq(ystar, y_ss)\n",
    "\n",
    "# Print the steady-state equations for k and y\n",
    "display(steady_state_k)\n",
    "display(steady_state_y)"
   ]
  },
  {
   "attachments": {},
   "cell_type": "markdown",
   "metadata": {},
   "source": [
    "So we see that the steady state value for capital per worker, $k^*$ and $y^*$, written more elegantly, is given as:\n",
    "\n",
    "$k^*=B^{\\frac{1}{1-\\alpha}}\\left(\\frac{s}{n+\\delta}\\right)^{\\frac{1}{1-\\alpha}}$\n",
    "\n",
    "$y^*=B^{\\frac{1}{1-\\alpha}}\\left(\\frac{s}{n+\\delta}\\right)^{\\frac{\\alpha}{1-\\alpha}}$\n",
    "\n"
   ]
  },
  {
   "cell_type": "code",
   "execution_count": 3,
   "metadata": {},
   "outputs": [],
   "source": [
    "# Convert the symbolic steady-state k solution into a Python function\n",
    "k_ss_function = sm.lambdify((alpha, delta, B, n, s), k_ss)"
   ]
  },
  {
   "attachments": {},
   "cell_type": "markdown",
   "metadata": {},
   "source": [
    "Now, k_ss_function can be called with specific values for alpha, delta, B, n, and s.\n",
    "\n",
    "We now move into defining reasonable parameters in our model, and printing the related values of $k^*$ and $y^*$"
   ]
  },
  {
   "cell_type": "code",
   "execution_count": 4,
   "metadata": {},
   "outputs": [],
   "source": [
    "# Define model parameters using plausible empirical values\n",
    "alpha = 1/3\n",
    "n = 0.02\n",
    "s = 0.35\n",
    "B = 1\n",
    "delta = 0.05"
   ]
  },
  {
   "attachments": {},
   "cell_type": "markdown",
   "metadata": {},
   "source": [
    "Now that we have set specific parameters for solving our model, we start to find specfik levels from our model at these parameter values."
   ]
  },
  {
   "cell_type": "code",
   "execution_count": 5,
   "metadata": {},
   "outputs": [
    {
     "name": "stdout",
     "output_type": "stream",
     "text": [
      "k__* = 11.1803398874989\n"
     ]
    }
   ],
   "source": [
    "# Compute the steady-state value for k using the parameter values\n",
    "k_ss_value = k_ss_function(alpha, delta, B, n, s)\n",
    "\n",
    "# Create and display the equation for the steady-state k with the computed value\n",
    "steady_state_k_value = sm.Eq(kstar, k_ss_value)\n",
    "sm.pprint(steady_state_k_value)"
   ]
  },
  {
   "cell_type": "code",
   "execution_count": 6,
   "metadata": {},
   "outputs": [
    {
     "name": "stdout",
     "output_type": "stream",
     "text": [
      "y__* = 2.23606797749979\n"
     ]
    }
   ],
   "source": [
    "# Compute the steady-state value for y using the steady-state k value\n",
    "y_ss_value = B * k_ss_value**alpha\n",
    "\n",
    "# Create the equation for the steady-state y with the computed value\n",
    "steady_state_y_equation = sm.Eq(ystar, y_ss_value)\n",
    "sm.pprint(steady_state_y_equation)"
   ]
  },
  {
   "attachments": {},
   "cell_type": "markdown",
   "metadata": {},
   "source": [
    "## Numerical Solution"
   ]
  },
  {
   "attachments": {},
   "cell_type": "markdown",
   "metadata": {},
   "source": [
    "We now want to solve the model numerically and not analytically, so we use an optimizer to solve our model and we expect the reulsts to be the same as in the analytical solution."
   ]
  },
  {
   "cell_type": "code",
   "execution_count": 7,
   "metadata": {},
   "outputs": [
    {
     "name": "stdout",
     "output_type": "stream",
     "text": [
      "k* = 11.180\n"
     ]
    }
   ],
   "source": [
    "def solow_steady_state_k(n: float, s: float, B: float, alpha: float, delta: float) -> float:\n",
    "    \"\"\"\n",
    "    Finds the solow steady state for capital by using the bisect optimizer from module Scipy\n",
    "\n",
    "    Args :\n",
    "    alpha: Output elasticity wrt capital\n",
    "    delta: Physical capital depreciation rate\n",
    "    s    : savings rate\n",
    "    n    : Population growth\n",
    "    B    : Productivity parameter\n",
    "    \"\"\"\n",
    "\n",
    "    # Define solow euqation\n",
    "    solow_equation = lambda k: s * B * k**alpha - (n + delta) * k\n",
    "    \n",
    "    # optimize\n",
    "    return optimize.bisect(solow_equation, 1, 100)\n",
    "\n",
    "k_star = solow_steady_state_k(n, s, B, alpha, delta)\n",
    "print(f'k* = {k_star:.3f}')"
   ]
  },
  {
   "attachments": {},
   "cell_type": "markdown",
   "metadata": {},
   "source": [
    "The solution is equal to the analytical solution, which implies that the $k^*$ and $y^*$ have the same computed values as in the analytical method."
   ]
  },
  {
   "attachments": {},
   "cell_type": "markdown",
   "metadata": {},
   "source": [
    "We are now going to graphically visualize the solow diagram:"
   ]
  },
  {
   "cell_type": "code",
   "execution_count": 8,
   "metadata": {},
   "outputs": [
    {
     "data": {
      "application/vnd.jupyter.widget-view+json": {
       "model_id": "8720447787c945799d4fb4f769b7f7ad",
       "version_major": 2,
       "version_minor": 0
      },
      "text/plain": [
       "interactive(children=(FloatSlider(value=0.01, description='n', layout=Layout(width='50%'), max=0.1, min=0.01, …"
      ]
     },
     "metadata": {},
     "output_type": "display_data"
    },
    {
     "data": {
      "text/plain": [
       "<function __main__.plot_solow_diagram(k: int, n: float, s: float, B: int, alpha: float, delta: float, kt_xmax: int, kt_vline: float)>"
      ]
     },
     "execution_count": 8,
     "metadata": {},
     "output_type": "execute_result"
    }
   ],
   "source": [
    "# Define function to plot Solow diagram\n",
    "def plot_solow_diagram(k: int, n: float, s: float, B: int, alpha: float, delta: float, kt_xmax: int, kt_vline: float):\n",
    "    # Calculate the growth rates of capital per capita and the diagonal line\n",
    "    k_growth = [s * B * t**alpha for t in range(kt_xmax + 1)]\n",
    "    diagonal = [(n + delta) * t for t in range(kt_xmax + 1)]\n",
    "\n",
    "    # Calculate steady state capital per capita\n",
    "    k_star = ((s*B)/(n+delta))**(1/(1-alpha))\n",
    "\n",
    "    # Configure plot settings\n",
    "    plt.rcParams['axes.facecolor'] = 'white'\n",
    "    plt.figure(figsize=(8, 6))\n",
    "    plt.plot(k_growth, label=r'$sBk_t^{\\alpha}$', color='darkorange')\n",
    "    plt.plot(diagonal, label=r'$(n+\\delta)k_t$', color='black')\n",
    "    plt.axvline(x=k_star, linestyle='--', color='red', label=r'$k*$')\n",
    "    plt.axvline(x=kt_vline, linestyle='--', color='green', label=r'$k_t$')\n",
    "    plt.xlim(0, kt_xmax)\n",
    "    plt.xlabel('Capital per capita, $k_t$')\n",
    "    plt.ylabel('')\n",
    "    plt.legend()\n",
    "    plt.title('Figure 1: Solow Diagram')\n",
    "    plt.grid(True)  # add grid\n",
    "    \n",
    "    # Add arrows to the plot\n",
    "    arrow_len = abs(k_star - kt_vline)\n",
    "    arrow_positions = [0.3, 0.6, 0.8, 0.9, 0.95, 1]\n",
    "    \n",
    "    # If kt_vline is to the left of k_star, flip the direction of the arrows\n",
    "    if kt_vline < k_star:\n",
    "        arrow_len = -arrow_len\n",
    "        arrow_positions = [1 - pos for pos in arrow_positions]\n",
    "    else:\n",
    "        arrow_positions = [1 - pos for pos in arrow_positions]\n",
    "    \n",
    "    arrow_center = min(k_star, kt_vline) + abs(arrow_len) / 2\n",
    "    \n",
    "    # Add each arrow to the plot\n",
    "    for pos in arrow_positions:\n",
    "        arrow_x = arrow_center + arrow_len * (pos - 0.5)\n",
    "        plt.annotate(\n",
    "            '',\n",
    "            xy=(kt_vline, 0), xycoords='data',\n",
    "            xytext=(arrow_x, 0), textcoords='data',\n",
    "            arrowprops=dict(\n",
    "                arrowstyle=\"<-\", color=\"black\", lw=1, mutation_scale=15\n",
    "            )\n",
    "        )\n",
    "\n",
    "    # Display the plot\n",
    "    plt.show()\n",
    "\n",
    "# Create an interactive widget to display the Solow diagram\n",
    "widgets.interact(\n",
    "    plot_solow_diagram,\n",
    "    k=widgets.fixed(0),\n",
    "    alpha=widgets.FloatSlider(description=r'α', min=0, max=0.9, step=0.05, value=0.3, layout=widgets.Layout(width='50%')),\n",
    "    delta=widgets.FloatSlider(description=r'δ', min=0, max=0.1, step=0.01, value=0.01, layout=widgets.Layout(width='50%')),\n",
    "    s=widgets.FloatSlider(description='s', min=0.01, max=0.8, step=0.05, value=0.4, layout=widgets.Layout(width='50%')),\n",
    "    n=widgets.FloatSlider(description='n', min=0.01, max=0.1, step=0.005, value=0.01, layout=widgets.Layout(width='50%')),\n",
    "    B=widgets.fixed(1),\n",
    "    kt_xmax=widgets.IntSlider(description='k_t axis', min=1, max=100, step=10, value=100, layout=widgets.Layout(width='50%')),\n",
    "    kt_vline=widgets.FloatSlider(description='k_t', min=0, max=100, step=0.1, value=20, layout=widgets.Layout(width='50%'))\n",
    ")\n"
   ]
  },
  {
   "attachments": {},
   "cell_type": "markdown",
   "metadata": {},
   "source": [
    "Under the stability condition $n+\\delta >0$, the Solow Model implies that capital intensity converges to a specific level of capital as we specified before as $k^\\star$. From the solow diagram we follow how the economy approaches $k^\\star$ and thereby steady state. Starting from an initial position with $k<k^*$, the economy will grow, as capital pr capita grows due to investment in new capital exceeding depreciation of existing capital. The marginal product will diminish as we approach ss, so the growth rate is slower and slower the closer we get to ss. The higher savings rate or higher productivity means that we approach ss quicker, but higher fertility rate or depreciation rate contributes to a slower approach as capital per capita diminishes as population grows. \n",
    "\n",
    "Moving forward to an extended version of the basic Solow, now we introduce a genereal Solow Model with human capital."
   ]
  },
  {
   "attachments": {},
   "cell_type": "markdown",
   "metadata": {},
   "source": [
    "## Solow Model with Human Capital"
   ]
  },
  {
   "attachments": {},
   "cell_type": "markdown",
   "metadata": {},
   "source": [
    "\\begin{align}\n",
    "Y_t&=K_t^\\alpha H_t^{\\varphi}\\left(A_t L_t\\right)^{1-\\alpha-\\varphi}, \\tag{7} \\\\\n",
    "r_t&=\\alpha\\left(\\frac{K_t}{A_t L_t}\\right)^{\\alpha-1}\\left(\\frac{H_t}{A_t L_t}\\right)^{\\varphi}, \\tag{8} \\\\\n",
    "w_t&=(1-\\alpha)\\left(\\frac{K_t}{A_t L_t}\\right)^\\alpha\\left(\\frac{H_t}{A_t L_t}\\right)^{\\varphi} A_t, \\tag{9} \\\\\n",
    "K_{t+1}-K_t&=s_K Y_t-\\delta K_t, \\tag{10} \\\\\n",
    "H_{t+1}-H_t&=s_H Y_t-\\delta H_t, \\tag{11} \\\\\n",
    "L_{t+1}&=(1+n) L_t, \\tag{12} \\\\\n",
    "A_{t+1}&=(1+g) A_t . \\tag{13}\n",
    "\\end{align}\n",
    "\n",
    "\n",
    "Where $\\tilde k = \\frac{K_t}{A_tL_t}$ and $\\tilde h = \\frac{h_t}{A_tL_t}$"
   ]
  },
  {
   "attachments": {},
   "cell_type": "markdown",
   "metadata": {},
   "source": [
    "In our extended Solow model our production depends on levels of physical capital, labour, productivity and now also human capital. Therefore, human capital is included in the terms for wage rate and interest rate, as these are derivatives of the production function. Also, human capital evolves like capital, being based on the level in the previous period and depreciating as people die and growing as people get educated. Now we also have a growth rate, g, which is growth in technology level. "
   ]
  },
  {
   "attachments": {},
   "cell_type": "markdown",
   "metadata": {},
   "source": [
    "Now we once again want to determine the equations for steady state levels of capital and production."
   ]
  },
  {
   "cell_type": "code",
   "execution_count": 9,
   "metadata": {},
   "outputs": [],
   "source": [
    "#We define all symbols\n",
    "k = sm.symbols('k') #physical capital\n",
    "ktildestar = sm.symbols('ktilde^*') #physical capital in ss\n",
    "ktilde = sm.symbols('ktilde') #physical capital per effective worker\n",
    "htilde = sm.symbols('htilde') #human capital per effective worker\n",
    "htildestar = sm.symbols('htilde^*') #Steady state human capital\n",
    "h = sm.symbols('h') #human capital per worker\n",
    "alpha = sm.symbols('alpha') #outputelasticity wrt physical capital\n",
    "phi = sm.symbols('phi') #outputelasticity wrt human capital\n",
    "delta = sm.symbols('delta') #depreciation rate on both human and physical capital\n",
    "sh = sm.symbols('sh') #investment rate in human capital\n",
    "sk = sm.symbols('sk') #investment rate in physical capital\n",
    "g = sm.symbols('g') #Technology growth rate\n",
    "n = sm.symbols('n') #Population growth"
   ]
  },
  {
   "cell_type": "code",
   "execution_count": 10,
   "metadata": {},
   "outputs": [
    {
     "data": {
      "image/png": "[encoded data removed]",
      "text/latex": [
       "$\\displaystyle \\tilde{k}^{*} = \\left(\\frac{sh^{\\phi} sk^{1 - \\phi}}{\\delta + g n + g + n}\\right)^{\\frac{1}{- \\alpha - \\phi + 1}}$"
      ],
      "text/plain": [
       "                            1     \n",
       "                        ──────────\n",
       "                        -α - φ + 1\n",
       "       ⎛    φ   1 - φ  ⎞          \n",
       "       ⎜  sh ⋅sk       ⎟          \n",
       "k̃__* = ⎜───────────────⎟          \n",
       "       ⎝δ + g⋅n + g + n⎠          "
      ]
     },
     "metadata": {},
     "output_type": "display_data"
    },
    {
     "data": {
      "image/png": "[encoded data removed]",
      "text/latex": [
       "$\\displaystyle \\tilde{h}^{*} = \\left(\\frac{sh^{1 - \\alpha} sk^{\\alpha}}{\\delta + g n + g + n}\\right)^{\\frac{1}{- \\alpha - \\phi + 1}}$"
      ],
      "text/plain": [
       "                            1     \n",
       "                        ──────────\n",
       "                        -α - φ + 1\n",
       "       ⎛    1 - α   α  ⎞          \n",
       "       ⎜  sh     ⋅sk   ⎟          \n",
       "h̃__* = ⎜───────────────⎟          \n",
       "       ⎝δ + g⋅n + g + n⎠          "
      ]
     },
     "metadata": {},
     "output_type": "display_data"
    }
   ],
   "source": [
    "# Define the steady state equations\n",
    "def solow_ktilde_eq(ktilde, htilde, sk, sh, alpha, phi, n, g, delta):\n",
    "    return (sk * np.power(ktilde, alpha) * np.power(htilde, phi) - (n + g + delta + n * g) * ktilde)\n",
    "\n",
    "def solow_htilde_eq(ktilde, htilde, sk, sh, alpha, phi, n, g, delta):\n",
    "    return (sh * np.power(ktilde, alpha) * np.power(htilde, phi) - (n + g + delta + n * g) * htilde)\n",
    "\n",
    "# Define the steady state expressions for ktilde and htilde\n",
    "ktilde_ss_expr = (sk**(1-phi) * sh**phi / (n + g + delta + n * g))**(1/(1 - alpha - phi))\n",
    "htilde_ss_expr = (sk**alpha * sh**(1-alpha) / (n + g + delta + n * g))**(1/(1 - alpha - phi))\n",
    "\n",
    "steady_state_ktilde = sm.Eq(ktildestar, ktilde_ss_expr)\n",
    "steady_state_htilde = sm.Eq(htildestar, htilde_ss_expr)\n",
    "\n",
    "display(steady_state_ktilde, steady_state_htilde)"
   ]
  },
  {
   "attachments": {},
   "cell_type": "markdown",
   "metadata": {},
   "source": [
    "Now that we have the needed equations, we set values for our parameters, so we can calculate specfic values for our endogenous variables."
   ]
  },
  {
   "cell_type": "code",
   "execution_count": 11,
   "metadata": {},
   "outputs": [
    {
     "data": {
      "image/png": "[encoded data removed]",
      "text/latex": [
       "$\\displaystyle \\left( 2.64703301721532, \\  1.98527476291149\\right)$"
      ],
      "text/plain": [
       "(2.6470330172153202, 1.9852747629114904)"
      ]
     },
     "metadata": {},
     "output_type": "display_data"
    }
   ],
   "source": [
    "# Set the values for the parameters\n",
    "sk_val = 0.4\n",
    "sh_val = 0.3\n",
    "alpha_val = 0.4\n",
    "phi_val = 0.3\n",
    "n_val = 0.02\n",
    "g_val = 0.2\n",
    "delta_val = 0.05\n",
    "\n",
    "# Define the equations with the given values for the parameters\n",
    "eq1 = lambda x: solow_ktilde_eq(x[0], x[1], sk_val, sh_val, alpha_val, phi_val, n_val, g_val, delta_val)\n",
    "eq2 = lambda x: solow_htilde_eq(x[0], x[1], sk_val, sh_val, alpha_val, phi_val, n_val, g_val, delta_val)\n",
    "\n",
    "# Initial guess for the solver\n",
    "x0 = np.array([1, 1])\n",
    "\n",
    "# Solve the equations\n",
    "solution = optimize.fsolve(lambda x: [eq1(x), eq2(x)], x0)\n",
    "\n",
    "# Display the steady-state values of ktilde and htilde\n",
    "ktilde_ss, htilde_ss = solution\n",
    "display((ktilde_ss, htilde_ss))"
   ]
  },
  {
   "attachments": {},
   "cell_type": "markdown",
   "metadata": {},
   "source": [
    "We now wish to make an interactive plot of the Solow diagram, including nullclines."
   ]
  },
  {
   "cell_type": "code",
   "execution_count": 12,
   "metadata": {},
   "outputs": [
    {
     "data": {
      "application/vnd.jupyter.widget-view+json": {
       "model_id": "3586bf59fca54b25bac8deab2f7a6875",
       "version_major": 2,
       "version_minor": 0
      },
      "text/plain": [
       "interactive(children=(FloatSlider(value=0.3, description='s_K', max=0.9, min=0.1, step=0.01), FloatSlider(valu…"
      ]
     },
     "metadata": {},
     "output_type": "display_data"
    }
   ],
   "source": [
    "from ipywidgets import interact, FloatSlider\n",
    "\n",
    "def plot_combinations(sk, sh, alpha, phi, n, g, delta):\n",
    "    ktilde_ss = ((sk ** (1 - phi) * sh ** phi) / (n + g + delta + n * g)) ** (1 / (1 - alpha - phi))\n",
    "    htilde_ss = ((sk ** alpha * sh ** (1 - alpha)) / (n + g + delta + n * g)) ** (1 / (1 - alpha - phi))\n",
    "    \n",
    "    ktilde_values = np.linspace(0.01, 2 * ktilde_ss, 100)\n",
    "    htilde_values = np.linspace(0.01, 2 * htilde_ss, 100)\n",
    "    \n",
    "    Ktilde, Htilde = np.meshgrid(ktilde_values, htilde_values)\n",
    "    \n",
    "    delta_ktilde = (1 / ((1 + n) * (1 + g))) * (sk * Ktilde ** alpha * Htilde ** phi - (n + g + delta + n * g) * Ktilde)\n",
    "    delta_htilde = (1 / ((1 + n) * (1 + g))) * (sh * Ktilde ** alpha * Htilde ** phi - (n + g + delta + n * g) * Htilde)\n",
    "    \n",
    "    plt.figure(figsize=(8, 8))\n",
    "    plt.contour(Ktilde, Htilde, delta_ktilde, levels=[0], colors=['blue'])\n",
    "    plt.contour(Ktilde, Htilde, delta_htilde, levels=[0], colors=['red']) \n",
    "    plt.plot([],[])\n",
    "    \n",
    "    plt.scatter(ktilde_ss, htilde_ss, color='green', marker='o', zorder=3)\n",
    "    plt.annotate(\"E\", (ktilde_ss, htilde_ss), textcoords=\"offset points\", xytext=(-10, 5), fontsize=12, color='green', zorder=3)\n",
    "    \n",
    "    from matplotlib.lines import Line2D\n",
    "\n",
    "    plt.xlabel('$\\~{k}_t$')\n",
    "    plt.ylabel('$\\~{h}_t$')\n",
    "    plt.title('Figure 2: Steady state combinations')\n",
    "\n",
    "    custom_lines = [Line2D([0], [0], color=\"blue\", lw=4),\n",
    "                    Line2D([0], [0], color=\"red\", lw=4),\n",
    "                    Line2D([0], [0], marker='o', color=\"green\", markersize=10)]\n",
    "\n",
    "    #fig, ax = plt.subplots()\n",
    "    #lines = ax.plot(data)\n",
    "    plt.legend(custom_lines, ['$\\Delta k_t=0$', '$\\Delta h_t=0$','Equilibrium 1'])\n",
    "    plt.xlim(0, 50)\n",
    "    plt.ylim(0, 50)\n",
    "\n",
    "    plt.grid()\n",
    "    plt.show()\n",
    "\n",
    "# Create sliders for each parameter\n",
    "sk_slider = FloatSlider(min=0.1, max=0.9, step=0.01, value=0.3, description=r's_K')\n",
    "sh_slider = FloatSlider(min=0.1, max=0.9, step=0.01, value=0.3, description=r's_H')\n",
    "alpha_slider = FloatSlider(min=0, max=0.5, step=0.01, value=0.3, description=r'alpha')\n",
    "phi_slider = FloatSlider(min=0, max=0.5, step=0.01, value=0.3, description=r'phi')\n",
    "n_slider = FloatSlider(min=0, max=0.1, step=0.001, value=0.01, description=r'n')\n",
    "g_slider = FloatSlider(min=0, max=0.1, step=0.001, value=0.02, description=r'g')\n",
    "delta_slider = FloatSlider(min=0, max=0.1, step=0.001, value=0.05, description=r'delta')\n",
    "\n",
    "# Create an interactive plot\n",
    "interact(plot_combinations, sk=sk_slider, sh=sh_slider, alpha=alpha_slider, phi=phi_slider, n=n_slider, g=g_slider, delta=delta_slider);\n"
   ]
  },
  {
   "attachments": {},
   "cell_type": "markdown",
   "metadata": {},
   "source": [
    "**Figure 2** has physical capital per effective worker along the x-axis and human capital per effective worker along the y-axis. The red curve represents the combinations of the two where $\\Delta\\tilde h_t=0$, and the blue curve represents the combinations for which $\\Delta\\tilde k_t=0$.\n",
    "\n",
    "In the intersection of the two curves, both changes are equal to zero, implying a steady state combination. This is displayed at the green dot \"E\" in the plot.\n",
    "\n",
    "For every combination that lies above the blue, there will be $\\tilde k_{t+1} - \\tilde k_t>0$ implying a positive growth in physical capital per effective worker, and opposite for when we are below.\n",
    "\n",
    "For every combinations that lies to the right of the red curve, there will be $\\tilde h_{t+1} - \\tilde h_t>0$ implying a positive growth in human capital per effective worker and vice versa."
   ]
  },
  {
   "attachments": {},
   "cell_type": "markdown",
   "metadata": {},
   "source": [
    "# Policy experiement: Permanently increasing the investment rate in human capital $s_H$"
   ]
  },
  {
   "attachments": {},
   "cell_type": "markdown",
   "metadata": {},
   "source": [
    "Now we would like to consider a policy change. If we, e.g., inforce that the government wishes to strengthen education, raising $s_H$ permanently, we get this diagram: "
   ]
  },
  {
   "cell_type": "code",
   "execution_count": 13,
   "metadata": {},
   "outputs": [
    {
     "data": {
      "application/vnd.jupyter.widget-view+json": {
       "model_id": "9e6219ad4cd0499aabbc199ae389d8b7",
       "version_major": 2,
       "version_minor": 0
      },
      "text/plain": [
       "interactive(children=(FloatSlider(value=0.3, description='s_K', max=0.9, min=0.1, step=0.01), FloatSlider(valu…"
      ]
     },
     "metadata": {},
     "output_type": "display_data"
    }
   ],
   "source": [
    "from matplotlib.lines import Line2D\n",
    "\n",
    "def plot_combinations_new(sk, sh, alpha, phi, n, g, delta):\n",
    "    # steady state expressions to find intersections (such that they can be plotted)\n",
    "    ktilde_ss = ((sk ** (1 - phi) * sh ** phi) / (n + g + delta + n * g)) ** (1 / (1 - alpha - phi))\n",
    "    htilde_ss = ((sk ** alpha * sh ** (1 - alpha)) / (n + g + delta + n * g)) ** (1 / (1 - alpha - phi))\n",
    "    ktildenew_ss = ((sk ** (1 - phi) * (sh * 1.3) ** phi) / (n + g + delta + n * g)) ** (1 / (1 - alpha - phi))\n",
    "    htildenew_ss = ((sk ** alpha * (sh * 1.3) ** (1 - alpha)) / (n + g + delta + n * g)) ** (1 / (1 - alpha - phi))\n",
    "    \n",
    "    # create grids\n",
    "    ktilde_values = np.linspace(0.01, 2 * ktilde_ss, 100)\n",
    "    htilde_values = np.linspace(0.01, 2 * htilde_ss, 100)\n",
    "    Ktilde, Htilde = np.meshgrid(ktilde_values, htilde_values)\n",
    "    \n",
    "    # create null-clines\n",
    "    delta_ktilde = (1 / ((1 + n) * (1 + g))) * (sk * Ktilde ** alpha * Htilde ** phi - (n + g + delta + n * g) * Ktilde)\n",
    "    delta_htilde = (1 / ((1 + n) * (1 + g))) * (sh * Ktilde ** alpha * Htilde ** phi - (n + g + delta + n * g) * Htilde)\n",
    "    delta_htildenew = (1 / ((1 + n) * (1 + g))) * (sh * 1.3 * Ktilde ** alpha * Htilde ** phi - (n + g + delta + n * g) * Htilde)\n",
    "\n",
    "    # create the elements (curves, null clines) in the plot\n",
    "    plt.figure(figsize=(8, 8))\n",
    "    plt.contour(Ktilde, Htilde, delta_ktilde, levels=[0], colors=['blue'])\n",
    "    plt.contour(Ktilde, Htilde, delta_htilde, levels=[0], colors=['red']) \n",
    "    plt.contour(Ktilde, Htilde, delta_htildenew, levels=[0], colors=['purple']) \n",
    "    plt.plot([],[],[])\n",
    "    \n",
    "    #SS Initial equilibrium\n",
    "    plt.scatter(ktilde_ss, htilde_ss, color='green', marker='o', zorder=3)\n",
    "    plt.annotate(\"E1\", (ktilde_ss, htilde_ss), textcoords=\"offset points\", xytext=(-10, 5), fontsize=12, color='green', zorder=3)\n",
    "    \n",
    "    #SS New equilibrium\n",
    "    plt.scatter(ktildenew_ss, htildenew_ss, color='green', marker='o', zorder=3)\n",
    "    plt.annotate(\"E2\", (ktildenew_ss, htildenew_ss), textcoords=\"offset points\", xytext=(-10, 5), fontsize=12, color='green', zorder=3)\n",
    "\n",
    "    # labels and titles\n",
    "    plt.xlabel('$\\~{k}_t$')\n",
    "    plt.ylabel('$\\~{h}_t$')\n",
    "    plt.title('Figure x: Increase in investment rate in human capital')\n",
    "\n",
    "    # create legend\n",
    "    custom_lines = [Line2D([0], [0], color=\"blue\", lw=4),\n",
    "                    Line2D([0], [0], color=\"red\", lw=4),\n",
    "                    Line2D([0], [0], color=\"purple\", lw=4),\n",
    "                    Line2D([0], [0], marker='o', color=\"green\", markersize=10),\n",
    "                    Line2D([0], [0], marker='o', color=\"green\", markersize=10)]\n",
    "\n",
    "        \n",
    "    plt.legend(custom_lines, ['$\\Delta k_t=0$', '$\\Delta h_t=0$','$\\Delta h^{new}_t=0$', 'Equilibrium 1', 'Equilibrium 2'])\n",
    "\n",
    "    # axis borders\n",
    "    plt.xlim(0, 50)\n",
    "    plt.ylim(0, 50)\n",
    "\n",
    "    # show plot\n",
    "    plt.grid()\n",
    "    plt.show()\n",
    "\n",
    "# Create sliders for each parameter\n",
    "sk_slider = FloatSlider(min=0.1, max=0.9, step=0.01, value=0.3, description=r's_K')\n",
    "sh_slider = FloatSlider(min=0.1, max=0.9, step=0.01, value=0.3, description=r's_H')\n",
    "alpha_slider = FloatSlider(min=0, max=0.5, step=0.01, value=0.3, description=r'alpha')\n",
    "phi_slider = FloatSlider(min=0, max=0.5, step=0.01, value=0.3, description=r'varphi')\n",
    "n_slider = FloatSlider(min=0, max=0.1, step=0.001, value=0.01, description=r'n')\n",
    "g_slider = FloatSlider(min=0, max=0.1, step=0.001, value=0.02, description=r'g')\n",
    "delta_slider = FloatSlider(min=0, max=0.1, step=0.001, value=0.05, description=r'$\\delta$')\n",
    "\n",
    "# Create an interactive plot\n",
    "interact(plot_combinations_new, sk=sk_slider, sh=sh_slider, alpha=alpha_slider, phi=phi_slider, n=n_slider, g=g_slider, delta=delta_slider);"
   ]
  },
  {
   "attachments": {},
   "cell_type": "markdown",
   "metadata": {},
   "source": [
    "In the first period following the increase in $s_H$, due to more accumulated human capital per effective worker the income will have increased too, implying that the absolute investment in physical capital (fixed $s_K$ times the income) will have increased too. After one period with increased human capital, both physical and human capital will be increasing - even though the investment rate in phsycial capital has not changed.\n"
   ]
  },
  {
   "attachments": {},
   "cell_type": "markdown",
   "metadata": {},
   "source": [
    "### Concluding remarks"
   ]
  },
  {
   "attachments": {},
   "cell_type": "markdown",
   "metadata": {},
   "source": [
    "By developing a model that incorporates the main mechanisms that capture the impact of physical and human capital per worker on the productivity of labor, we conducted a policy experiment to examine the effect of increasing investment in human capital. The investment in human capital has cross-effects, which means that the increase not only led to a higher steady-state level of human capital per effective worker but also a higher level of physical capital per effective worker.\n",
    "\n",
    "These implications demonstrate that an economy is highly responsive to investment rates, highlighting the importance of institutional frameworks that can effectively influence these rates and the need for expert analysis to determine what is best for the economy."
   ]
  }
 ],
 "metadata": {
  "kernelspec": {
   "display_name": "Python 3 (ipykernel)",
   "language": "python",
   "name": "python3"
  },
  "language_info": {
   "codemirror_mode": {
    "name": "ipython",
    "version": 3
   },
   "file_extension": ".py",
   "mimetype": "text/x-python",
   "name": "python",
   "nbconvert_exporter": "python",
   "pygments_lexer": "ipython3",
   "version": "3.9.13"
  },
  "toc-autonumbering": true,
  "vscode": {
   "interpreter": {
    "hash": "47ef90cdf3004d3f859f1fb202523c65c07ba7c22eefd261b181f4744e2d0403"
   }
  }
 },
 "nbformat": 4,
 "nbformat_minor": 4
}
