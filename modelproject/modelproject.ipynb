{
 "cells": [
  {
   "attachments": {},
   "cell_type": "markdown",
   "metadata": {},
   "source": [
    "# VORES TITEL"
   ]
  },
  {
   "attachments": {},
   "cell_type": "markdown",
   "metadata": {},
   "source": [
    "**Motivation for our model project**\n",
    "\n",
    "In our model project we will begin with describing and solving the basic solow model. "
   ]
  },
  {
   "attachments": {},
   "cell_type": "markdown",
   "metadata": {},
   "source": [
    "Imports and set magics:"
   ]
  },
  {
   "cell_type": "code",
   "execution_count": 1,
   "metadata": {},
   "outputs": [],
   "source": [
    "## Importing necessary libraries\n",
    "import numpy as np\n",
    "import sympy as sm\n",
    "from scipy import optimize\n",
    "from IPython.display import display\n",
    "import matplotlib.pyplot as plt\n",
    "import ipywidgets as widgets\n",
    "\n",
    "## For better looking output\n",
    "sm.init_printing(use_unicode=True)\n",
    "\n",
    "## Autoreload modules when code is run\n",
    "%load_ext autoreload\n",
    "%autoreload 2"
   ]
  },
  {
   "attachments": {},
   "cell_type": "markdown",
   "metadata": {},
   "source": [
    "# The basic Solow model"
   ]
  },
  {
   "attachments": {},
   "cell_type": "markdown",
   "metadata": {},
   "source": [
    "$$\n",
    "\\begin{align}\n",
    "Y_t=BK_t^{\\alpha}L_t^{1-\\alpha} \\tag{1} \\\\\n",
    "r_t=\\alpha B\\left(\\frac{K_t}{L_t}\\right)^{\\alpha-1} \\tag{2} \\\\\n",
    "w_t=(1-\\alpha) B\\left(\\frac{K_t}{L_t}\\right)^{\\alpha} \\tag{3} \\\\\n",
    "S_t=sY_t \\tag{4} \\\\\n",
    "K_{t+1}-K_t=S_t-\\delta K_t \\tag{5} \\\\\n",
    "L_{t+1}=(1+n)L_t \\tag{6} \\\\\n",
    "\\end{align}\n",
    "$$\n",
    "\n",
    "Where we use the per. capita notation, $y_t=\\frac{Y_t}{L_t}$ and $k_t=\\frac{K_t}{L_t}$"
   ]
  },
  {
   "attachments": {},
   "cell_type": "markdown",
   "metadata": {
    "tags": []
   },
   "source": [
    "## Analytical Solution"
   ]
  },
  {
   "cell_type": "code",
   "execution_count": 2,
   "metadata": {},
   "outputs": [
    {
     "data": {
      "image/png": "[encoded data removed]",
      "text/latex": [
       "$\\displaystyle k^{*} = \\left(\\frac{B s}{\\delta + n}\\right)^{- \\frac{1}{\\alpha - 1}}$"
      ],
      "text/plain": [
       "               -1  \n",
       "              ─────\n",
       "              α - 1\n",
       "       ⎛ B⋅s ⎞     \n",
       "k__* = ⎜─────⎟     \n",
       "       ⎝δ + n⎠     "
      ]
     },
     "metadata": {},
     "output_type": "display_data"
    },
    {
     "data": {
      "image/png": "[encoded data removed]",
      "text/latex": [
       "$\\displaystyle y^{*} = B \\left(\\left(\\frac{B s}{\\delta + n}\\right)^{- \\frac{1}{\\alpha - 1}}\\right)^{\\alpha}$"
      ],
      "text/plain": [
       "                       α\n",
       "         ⎛        -1  ⎞ \n",
       "         ⎜       ─────⎟ \n",
       "         ⎜       α - 1⎟ \n",
       "         ⎜⎛ B⋅s ⎞     ⎟ \n",
       "y__* = B⋅⎜⎜─────⎟     ⎟ \n",
       "         ⎝⎝δ + n⎠     ⎠ "
      ]
     },
     "metadata": {},
     "output_type": "display_data"
    }
   ],
   "source": [
    "# Define symbols\n",
    "n, s, B, k, kstar, ystar, alpha, delta = sm.symbols('n s B k k^* y^* alpha delta')\n",
    "\n",
    "# Solow Equation for k\n",
    "Solow_eq = sm.Eq(((s * B * k**alpha - (n + delta) * k) / (1 + n)), 0)\n",
    "\n",
    "# Calculate steady-state value of k\n",
    "k_ss = sm.solve(Solow_eq, k)[0]\n",
    "steady_state_k = sm.Eq(kstar, k_ss)\n",
    "\n",
    "# Calculate steady-state value of y\n",
    "y = B * k**alpha\n",
    "y_ss = y.subs(k, k_ss)\n",
    "steady_state_y = sm.Eq(ystar, y_ss)\n",
    "\n",
    "# Print the steady-state equations for k and y\n",
    "display(steady_state_k)\n",
    "display(steady_state_y)"
   ]
  },
  {
   "attachments": {},
   "cell_type": "markdown",
   "metadata": {},
   "source": [
    "So we see that the steady state value for capital per worker, $k^*$ and $y^*$, written more elegantly, is given as:\n",
    "\n",
    "$k^*=B^{\\frac{1}{1-\\alpha}}\\left(\\frac{s}{n+\\delta}\\right)^{\\frac{1}{1-\\alpha}}$\n",
    "\n",
    "$y^*=B^{\\frac{1}{1-\\alpha}}\\left(\\frac{s}{n+\\delta}\\right)^{\\frac{\\alpha}{1-\\alpha}}$\n",
    "\n"
   ]
  },
  {
   "cell_type": "code",
   "execution_count": 3,
   "metadata": {},
   "outputs": [],
   "source": [
    "# Convert the symbolic steady-state k solution into a Python function\n",
    "k_ss_function = sm.lambdify((alpha, delta, B, n, s), k_ss)"
   ]
  },
  {
   "attachments": {},
   "cell_type": "markdown",
   "metadata": {},
   "source": [
    "Now, k_ss_function can be called with specific values for alpha, delta, B, n, and s.\n",
    "\n",
    "We now move into defining reasonable parameters in our model, and printing the related values of $k^*$ and $y^*$"
   ]
  },
  {
   "cell_type": "code",
   "execution_count": 4,
   "metadata": {},
   "outputs": [],
   "source": [
    "# Define model parameters using plausible empirical values\n",
    "alpha = 1/3\n",
    "n = 0.02\n",
    "s = 0.35\n",
    "B = 1\n",
    "delta = 0.05"
   ]
  },
  {
   "cell_type": "code",
   "execution_count": 5,
   "metadata": {},
   "outputs": [
    {
     "name": "stdout",
     "output_type": "stream",
     "text": [
      "k__* = 11.1803398874989\n"
     ]
    }
   ],
   "source": [
    "# Compute the steady-state value for k using the parameter values\n",
    "k_ss_value = k_ss_function(alpha, delta, B, n, s)\n",
    "\n",
    "# Create and display the equation for the steady-state k with the computed value\n",
    "steady_state_k_value = sm.Eq(kstar, k_ss_value)\n",
    "sm.pprint(steady_state_k_value)"
   ]
  },
  {
   "cell_type": "code",
   "execution_count": 6,
   "metadata": {},
   "outputs": [
    {
     "name": "stdout",
     "output_type": "stream",
     "text": [
      "y__* = 2.23606797749979\n"
     ]
    }
   ],
   "source": [
    "# Compute the steady-state value for y using the steady-state k value\n",
    "y_ss_value = B * k_ss_value**alpha\n",
    "\n",
    "# Create the equation for the steady-state y with the computed value\n",
    "steady_state_y_equation = sm.Eq(ystar, y_ss_value)\n",
    "sm.pprint(steady_state_y_equation)"
   ]
  },
  {
   "attachments": {},
   "cell_type": "markdown",
   "metadata": {},
   "source": [
    "## Numerical Solution"
   ]
  },
  {
   "cell_type": "code",
   "execution_count": 11,
   "metadata": {},
   "outputs": [
    {
     "name": "stdout",
     "output_type": "stream",
     "text": [
      "k* = 11.180\n"
     ]
    }
   ],
   "source": [
    "def solow_steady_state_k(n: float, s: float, B: float, alpha: float, delta: float) -> float:\n",
    "    \"\"\"\n",
    "    Finds the solow steady state for capital by using the bisect optimizer from module Scipy\n",
    "\n",
    "    Args :\n",
    "    alpha: Output elasticity wrt capital\n",
    "    delta: Physical capital depreciation rate\n",
    "    s    : savings rate\n",
    "    n    : Population growth\n",
    "    B    : Productivity parameter\n",
    "    \"\"\"\n",
    "    solow_equation = lambda k: s * B * k**alpha - (n + delta) * k\n",
    "    \n",
    "    return optimize.bisect(solow_equation, 1, 100)\n",
    "\n",
    "k_star = solow_steady_state_k(n, s, B, alpha, delta)\n",
    "print(f'k* = {k_star:.3f}')"
   ]
  },
  {
   "attachments": {},
   "cell_type": "markdown",
   "metadata": {},
   "source": [
    "The solution is equal to the analytical solution, which implies that the $k^*$ and $y^*$ have the same computed values."
   ]
  },
  {
   "attachments": {},
   "cell_type": "markdown",
   "metadata": {},
   "source": [
    "We are now going to graphical visualize the solow diagram."
   ]
  },
  {
   "cell_type": "code",
   "execution_count": 21,
   "metadata": {},
   "outputs": [
    {
     "data": {
      "application/vnd.jupyter.widget-view+json": {
       "model_id": "9689a3a2cca84b7bb3361c24e187b36a",
       "version_major": 2,
       "version_minor": 0
      },
      "text/plain": [
       "interactive(children=(FloatSlider(value=0.01, description='n', layout=Layout(width='50%'), max=0.1, min=0.01, …"
      ]
     },
     "metadata": {},
     "output_type": "display_data"
    },
    {
     "data": {
      "text/plain": [
       "<function __main__.plot_solow_diagram(k: int, n: float, s: float, B: int, alpha: float, delta: float, kt_xmax: int, kt_vline: float)>"
      ]
     },
     "execution_count": 21,
     "metadata": {},
     "output_type": "execute_result"
    }
   ],
   "source": [
    "def plot_solow_diagram(k: int, n: float, s: float, B: int, alpha: float, delta: float, kt_xmax: int, kt_vline: float):\n",
    "    k_growth = [s * B * t**alpha for t in range(kt_xmax + 1)]\n",
    "    diagonal = [(n + delta) * t for t in range(kt_xmax + 1)]\n",
    "\n",
    "    k_star = ((s*B)/(n+delta))**(1/(1-alpha))\n",
    "\n",
    "    plt.rcParams['axes.facecolor'] = 'white'\n",
    "    plt.figure(figsize=(8, 6))\n",
    "    plt.plot(k_growth, label=r'$sBk_t^{\\alpha}$', color='darkorange')\n",
    "    plt.plot(diagonal, label=r'$(n+\\delta)k_t$', color='black')\n",
    "    plt.axvline(x=k_star, linestyle='--', color='red', label=r'$k*$')\n",
    "    plt.axvline(x=kt_vline, linestyle='--', color='green', label=r'$k_t$')\n",
    "    plt.xlim(0, kt_xmax)\n",
    "    plt.xlabel('Capital per capita, $k_t$')\n",
    "    plt.ylabel('')\n",
    "    plt.legend()\n",
    "    plt.title('Solow Diagram')\n",
    "    plt.grid(True)  # add grid\n",
    "    \n",
    "# Add arrows\n",
    "    arrow_len = abs(k_star - kt_vline)\n",
    "    arrow_positions = [0.3, 0.6, 0.8, 0.9, 0.95, 1]\n",
    "    \n",
    "    if kt_vline < k_star:\n",
    "        arrow_len = -arrow_len\n",
    "        arrow_positions = [1 - pos for pos in arrow_positions]\n",
    "    else:\n",
    "        arrow_positions = [1 - pos for pos in arrow_positions]\n",
    "    \n",
    "    arrow_center = min(k_star, kt_vline) + abs(arrow_len) / 2\n",
    "    \n",
    "    for pos in arrow_positions:\n",
    "        arrow_x = arrow_center + arrow_len * (pos - 0.5)\n",
    "        plt.annotate(\n",
    "            '',\n",
    "            xy=(kt_vline, 0), xycoords='data',\n",
    "            xytext=(arrow_x, 0), textcoords='data',\n",
    "            arrowprops=dict(\n",
    "                arrowstyle=\"<-\", color=\"black\", lw=1, mutation_scale=15\n",
    "            )\n",
    "        )\n",
    "\n",
    "    plt.show()\n",
    "\n",
    "widgets.interact(\n",
    "    plot_solow_diagram,\n",
    "    k=widgets.fixed(0),\n",
    "    alpha=widgets.FloatSlider(description=r'α', min=0, max=0.9, step=0.05, value=0.3, layout=widgets.Layout(width='50%')),\n",
    "    delta=widgets.FloatSlider(description=r'δ', min=0, max=0.1, step=0.01, value=0.01, layout=widgets.Layout(width='50%')),\n",
    "    s=widgets.FloatSlider(description='s', min=0.01, max=0.8, step=0.05, value=0.4, layout=widgets.Layout(width='50%')),\n",
    "    n=widgets.FloatSlider(description='n', min=0.01, max=0.1, step=0.005, value=0.01, layout=widgets.Layout(width='50%')),\n",
    "    B=widgets.fixed(1),\n",
    "    kt_xmax=widgets.IntSlider(description='k_t axis', min=1, max=100, step=10, value=100, layout=widgets.Layout(width='50%')),\n",
    "    kt_vline=widgets.FloatSlider(description='k_t', min=0, max=100, step=0.1, value=20, layout=widgets.Layout(width='50%'))\n",
    ")\n"
   ]
  },
  {
   "attachments": {},
   "cell_type": "markdown",
   "metadata": {},
   "source": [
    "Blalbalba om solow diagram.\n",
    "\n",
    "Moving forward to an extended version of the basic solow, now moving into a genereal solow model with human capital."
   ]
  },
  {
   "attachments": {},
   "cell_type": "markdown",
   "metadata": {},
   "source": [
    "## Solow model with human capital"
   ]
  },
  {
   "attachments": {},
   "cell_type": "markdown",
   "metadata": {},
   "source": [
    "\\begin{align}\n",
    "Y_t&=K_t^\\alpha H_t^{\\varphi}\\left(A_t L_t\\right)^{1-\\alpha-\\varphi}, \\tag{7} \\\\\n",
    "r_t&=\\alpha\\left(\\frac{K_t}{A_t L_t}\\right)^{\\alpha-1}\\left(\\frac{H_t}{A_t L_t}\\right)^{\\varphi}, \\tag{8} \\\\\n",
    "w_t&=(1-\\alpha)\\left(\\frac{K_t}{A_t L_t}\\right)^\\alpha\\left(\\frac{H_t}{A_t L_t}\\right)^{\\varphi} A_t, \\tag{9} \\\\\n",
    "K_{t+1}-K_t&=s_K Y_t-\\delta K_t, \\tag{10} \\\\\n",
    "H_{t+1}-H_t&=s_H Y_t-\\delta H_t, \\tag{11} \\\\\n",
    "L_{t+1}&=(1+n) L_t, \\tag{12} \\\\\n",
    "A_{t+1}&=(1+g) A_t . \\tag{13}\n",
    "\\end{align}\n",
    "\n",
    "\n",
    "Where $\\tilde k = \\frac{K_t}{A_tL_t}$"
   ]
  },
  {
   "attachments": {},
   "cell_type": "markdown",
   "metadata": {},
   "source": [
    "**Tekst om hvad der egentlig står der**"
   ]
  },
  {
   "cell_type": "code",
   "execution_count": null,
   "metadata": {},
   "outputs": [],
   "source": [
    "#We define all symbols\n",
    "k = sm.symbols('k') #physical capital\n",
    "ktildestar = sm.symbols('ktilde^*') #physical capital\n",
    "ktilde = sm.symbols('ktilde') #physical capital per effective worker\n",
    "htilde = sm.symbols('htilde') #human capital per effective worker\n",
    "htildestar = sm.symbols('htilde^*') #Steady state human capital\n",
    "h = sm.symbols('h') #human capital\n",
    "alpha = sm.symbols('alpha') #return on physical capital\n",
    "phi = sm.symbols('phi') #return on human capital\n",
    "delta = sm.symbols('delta') #depreciation rate on capital\n",
    "sh = sm.symbols('sh') #savings/investment rate in human capital\n",
    "sk = sm.symbols('sk') #savings/investment rate in physical capital\n",
    "g = sm.symbols('g') #growth in technology\n",
    "n = sm.symbols('n') #growth in labour force"
   ]
  },
  {
   "cell_type": "code",
   "execution_count": null,
   "metadata": {},
   "outputs": [
    {
     "data": {
      "image/png": "[encoded data removed]",
      "text/latex": [
       "$\\displaystyle \\tilde{k}^{*} = \\left(\\frac{sh^{\\phi} sk^{1 - \\phi}}{\\delta + g n + g + n}\\right)^{\\frac{1}{- \\alpha - \\phi + 1}}$"
      ],
      "text/plain": [
       "                            1     \n",
       "                        ──────────\n",
       "                        -α - φ + 1\n",
       "       ⎛    φ   1 - φ  ⎞          \n",
       "       ⎜  sh ⋅sk       ⎟          \n",
       "k̃__* = ⎜───────────────⎟          \n",
       "       ⎝δ + g⋅n + g + n⎠          "
      ]
     },
     "metadata": {},
     "output_type": "display_data"
    },
    {
     "data": {
      "image/png": "[encoded data removed]",
      "text/latex": [
       "$\\displaystyle \\tilde{h}^{*} = \\left(\\frac{sh^{1 - \\alpha} sk^{\\alpha}}{\\delta + g n + g + n}\\right)^{\\frac{1}{- \\alpha - \\phi + 1}}$"
      ],
      "text/plain": [
       "                            1     \n",
       "                        ──────────\n",
       "                        -α - φ + 1\n",
       "       ⎛    1 - α   α  ⎞          \n",
       "       ⎜  sh     ⋅sk   ⎟          \n",
       "h̃__* = ⎜───────────────⎟          \n",
       "       ⎝δ + g⋅n + g + n⎠          "
      ]
     },
     "metadata": {},
     "output_type": "display_data"
    }
   ],
   "source": [
    "# Define the steady state equations\n",
    "def solow_ktilde_eq(ktilde, htilde, sk, sh, alpha, phi, n, g, delta):\n",
    "    return (sk * np.power(ktilde, alpha) * np.power(htilde, phi) - (n + g + delta + n * g) * ktilde)\n",
    "\n",
    "def solow_htilde_eq(ktilde, htilde, sk, sh, alpha, phi, n, g, delta):\n",
    "    return (sh * np.power(ktilde, alpha) * np.power(htilde, phi) - (n + g + delta + n * g) * htilde)\n",
    "# Define the steady state expressions for ktilde and htilde\n",
    "ktilde_ss_expr = (sk**(1-phi) * sh**phi / (n + g + delta + n * g))**(1/(1 - alpha - phi))\n",
    "htilde_ss_expr = (sk**alpha * sh**(1-alpha) / (n + g + delta + n * g))**(1/(1 - alpha - phi))\n",
    "\n",
    "steady_state_ktilde = sm.Eq(ktildestar, ktilde_ss_expr)\n",
    "steady_state_htilde = sm.Eq(htildestar, htilde_ss_expr)\n",
    "\n",
    "\n",
    "\n",
    "display(steady_state_ktilde, steady_state_htilde)\n"
   ]
  },
  {
   "cell_type": "code",
   "execution_count": null,
   "metadata": {},
   "outputs": [
    {
     "data": {
      "image/png": "[encoded data removed]",
      "text/latex": [
       "$\\displaystyle \\left( 2.64703301721532, \\  1.98527476291149\\right)$"
      ],
      "text/plain": [
       "(2.6470330172153202, 1.9852747629114904)"
      ]
     },
     "metadata": {},
     "output_type": "display_data"
    }
   ],
   "source": [
    "# Set the values for the parameters\n",
    "sk_val = 0.4\n",
    "sh_val = 0.3\n",
    "alpha_val = 0.4\n",
    "phi_val = 0.3\n",
    "n_val = 0.02\n",
    "g_val = 0.2\n",
    "delta_val = 0.05\n",
    "\n",
    "# Define the equations with the given values for the parameters\n",
    "eq1 = lambda x: solow_ktilde_eq(x[0], x[1], sk_val, sh_val, alpha_val, phi_val, n_val, g_val, delta_val)\n",
    "eq2 = lambda x: solow_htilde_eq(x[0], x[1], sk_val, sh_val, alpha_val, phi_val, n_val, g_val, delta_val)\n",
    "\n",
    "# Initial guess for the solver\n",
    "x0 = np.array([1, 1])\n",
    "\n",
    "# Solve the equations\n",
    "solution = optimize.fsolve(lambda x: [eq1(x), eq2(x)], x0)\n",
    "\n",
    "# Display the steady-state values of ktilde and htilde\n",
    "ktilde_ss, htilde_ss = solution\n",
    "display((ktilde_ss, htilde_ss))"
   ]
  },
  {
   "cell_type": "code",
   "execution_count": null,
   "metadata": {},
   "outputs": [
    {
     "data": {
      "application/vnd.jupyter.widget-view+json": {
       "model_id": "6e09097afabb4b9da50c3b21de6f7707",
       "version_major": 2,
       "version_minor": 0
      },
      "text/plain": [
       "interactive(children=(FloatSlider(value=0.3, description='$s_K$', max=0.9, min=0.1, step=0.01), FloatSlider(va…"
      ]
     },
     "metadata": {},
     "output_type": "display_data"
    }
   ],
   "source": [
    "import numpy as np\n",
    "import matplotlib.pyplot as plt\n",
    "from ipywidgets import interact, FloatSlider\n",
    "\n",
    "def plot_combinations(sk, sh, alpha, phi, n, g, delta):\n",
    "    ktilde_ss = ((sk ** (1 - phi) * sh ** phi) / (n + g + delta + n * g)) ** (1 / (1 - alpha - phi))\n",
    "    htilde_ss = ((sk ** alpha * sh ** (1 - alpha)) / (n + g + delta + n * g)) ** (1 / (1 - alpha - phi))\n",
    "    \n",
    "    ktilde_values = np.linspace(0.01, 2 * ktilde_ss, 100)\n",
    "    htilde_values = np.linspace(0.01, 2 * htilde_ss, 100)\n",
    "    \n",
    "    Ktilde, Htilde = np.meshgrid(ktilde_values, htilde_values)\n",
    "    \n",
    "    delta_ktilde = (1 / ((1 + n) * (1 + g))) * (sk * Ktilde ** alpha * Htilde ** phi - (n + g + delta + n * g) * Ktilde)\n",
    "    delta_htilde = (1 / ((1 + n) * (1 + g))) * (sh * Ktilde ** alpha * Htilde ** phi - (n + g + delta + n * g) * Htilde)\n",
    "    \n",
    "    plt.figure(figsize=(8, 8))\n",
    "    plt.contour(Ktilde, Htilde, delta_ktilde, levels=[0], colors='blue', label=r'$\\Delta\\tilde{k}=0$')\n",
    "    plt.contour(Ktilde, Htilde, delta_htilde, levels=[0], colors='red', label=r'$\\Delta\\tilde{h}=0$')\n",
    "    \n",
    "    plt.scatter(ktilde_ss, htilde_ss, color='green', marker='o', zorder=3)\n",
    "    plt.annotate(\"E\", (ktilde_ss, htilde_ss), textcoords=\"offset points\", xytext=(-10, 5), fontsize=12, color='green', zorder=3)\n",
    "    \n",
    "    plt.xlabel('$\\~{k}_t$')\n",
    "    plt.ylabel('$\\~{h}_t$')\n",
    "    plt.title('Figure x: Steady state combinations')\n",
    "    \n",
    "    plt.xlim(0, 50)\n",
    "    plt.ylim(0, 50)\n",
    "    \n",
    "    plt.legend(['$\\Delta \\~{k} = 0$', '$\\Delta \\~{h} = 0$'], loc='center left')\n",
    "    plt.grid()\n",
    "    plt.show()\n",
    "\n",
    "# Create sliders for each parameter\n",
    "sk_slider = FloatSlider(min=0.1, max=0.9, step=0.01, value=0.3, description=r'$s_K$')\n",
    "sh_slider = FloatSlider(min=0.1, max=0.9, step=0.01, value=0.3, description=r'$s_H$')\n",
    "alpha_slider = FloatSlider(min=0, max=0.5, step=0.01, value=0.3, description=r'$\\alpha$')\n",
    "phi_slider = FloatSlider(min=0, max=0.5, step=0.01, value=0.3, description=r'$\\varphi$')\n",
    "n_slider = FloatSlider(min=0, max=0.1, step=0.001, value=0.01, description=r'$n$')\n",
    "g_slider = FloatSlider(min=0, max=0.1, step=0.001, value=0.02, description=r'$g$')\n",
    "delta_slider = FloatSlider(min=0, max=0.1, step=0.001, value=0.05, description=r'$\\delta$')\n",
    "\n",
    "# Create an interactive plot\n",
    "interact(plot_combinations, sk=sk_slider, sh=sh_slider, alpha=alpha_slider, phi=phi_slider, n=n_slider, g=g_slider, delta=delta_slider);\n"
   ]
  },
  {
   "attachments": {},
   "cell_type": "markdown",
   "metadata": {},
   "source": [
    "**Figure x** has physical capital per effecctive worker along the x-axia and human capital per effective worker along the y-axis. The red curve represents the combinations of the two there $\\Delta\\tilde h_t=0$, and the blue curve represents the combinations for which $\\Delta\\tilde k_t=0$.\n",
    "\n",
    "In the intersection of the two curves, both changes are equal to zero, implying a steady state combination. This is displayed at the green dot \"E\" in the plot.\n",
    "\n",
    "For every combination that lies the red blue, there will be $\\tilde k_{t+1} - \\tilde k_t>0$ implying a positive growth in physical capital per effective worker, and opposite for when we are below."
   ]
  },
  {
   "attachments": {},
   "cell_type": "markdown",
   "metadata": {},
   "source": [
    "### Policy Experiment"
   ]
  },
  {
   "attachments": {},
   "cell_type": "markdown",
   "metadata": {},
   "source": []
  },
  {
   "cell_type": "code",
   "execution_count": null,
   "metadata": {},
   "outputs": [
    {
     "ename": "TypeError",
     "evalue": "loop of ufunc does not support argument 0 of type Mul which has no callable log method",
     "output_type": "error",
     "traceback": [
      "\u001b[1;31m---------------------------------------------------------------------------\u001b[0m\n",
      "\u001b[1;31mAttributeError\u001b[0m                            Traceback (most recent call last)\n",
      "\u001b[1;31mAttributeError\u001b[0m: 'Mul' object has no attribute 'log'\n",
      "\n",
      "The above exception was the direct cause of the following exception:\n",
      "\n",
      "\u001b[1;31mTypeError\u001b[0m                                 Traceback (most recent call last)\n",
      "Cell \u001b[1;32mIn[119], line 52\u001b[0m\n",
      "\u001b[0;32m     49\u001b[0m     yt \u001b[38;5;241m=\u001b[39m Yt\u001b[38;5;241m/\u001b[39mLt\n",
      "\u001b[0;32m     51\u001b[0m     \u001b[38;5;66;03m#We calculate the growth in yt using log\u001b[39;00m\n",
      "\u001b[1;32m---> 52\u001b[0m     growthyt\u001b[38;5;241m.\u001b[39mappend(\u001b[43mnp\u001b[49m\u001b[38;5;241;43m.\u001b[39;49m\u001b[43mlog\u001b[49m\u001b[43m(\u001b[49m\u001b[43myt\u001b[49m\u001b[43m)\u001b[49m\u001b[38;5;241m-\u001b[39mnp\u001b[38;5;241m.\u001b[39mlog(ytm1))\n",
      "\u001b[0;32m     54\u001b[0m \u001b[38;5;66;03m#Create the plot\u001b[39;00m\n",
      "\u001b[0;32m     55\u001b[0m fig \u001b[38;5;241m=\u001b[39m plt\u001b[38;5;241m.\u001b[39mfigure(figsize\u001b[38;5;241m=\u001b[39m(\u001b[38;5;241m13\u001b[39m,\u001b[38;5;241m5\u001b[39m))\n",
      "\n",
      "\u001b[1;31mTypeError\u001b[0m: loop of ufunc does not support argument 0 of type Mul which has no callable log method"
     ]
    }
   ],
   "source": [
    "#The initial values of our variables are defined\n",
    "A0, K0, H0, L0, Y0 = 1, 1, 1, 1, 1\n",
    "\n",
    "\n",
    "#We define the functions using variables for the first period\n",
    "Lt = (1+n)*L0\n",
    "Yt = K0**alpha*H0**phi*A0**(1-alpha-phi)\n",
    "\n",
    "#An empty list is made\n",
    "growthyt = []\n",
    "\n",
    "for i in range(200):\n",
    "    #A permanent shock to sh from period 2\n",
    "    if i <= 1:\n",
    "        sh = 0.1\n",
    "    else:\n",
    "        sh = 0.2\n",
    "        \n",
    "    #Y function in previous period\n",
    "    Ytm1 = Yt\n",
    "    \n",
    "    #L function in previous period\n",
    "    Ltm1 = Lt\n",
    "    \n",
    "    #y function in previous period\n",
    "    ytm1 = 0\n",
    "    ytm1 = Ytm1/Ltm1\n",
    "    \n",
    "    #K function in current period \n",
    "    Kt=sk*Ytm1+(1-delta)*K0\n",
    "    K0=Kt\n",
    "    \n",
    "    #H function in current period\n",
    "    Ht = sh*Ytm1+(1-delta)*H0\n",
    "    H0=Ht\n",
    "    \n",
    "    #A function in current period\n",
    "    At = (1+g)*A0\n",
    "    A0=At\n",
    "    \n",
    "    #L function in current period\n",
    "    Lt = (1+n)*L0\n",
    "    L0=Lt\n",
    "    \n",
    "    #Y function in current period\n",
    "    Yt=Kt**alpha*Ht**phi*At**(1-alpha-phi)\n",
    "    \n",
    "    #y function in current period\n",
    "    yt = Yt/Lt\n",
    "    \n",
    "    #We calculate the growth in yt using log\n",
    "    growthyt.append(np.log(yt)-np.log(ytm1))\n",
    "\n",
    "#Create the plot\n",
    "fig = plt.figure(figsize=(13,5))\n",
    "ax = fig.add_subplot(1,2,1)\n",
    "\n",
    "\n",
    "\n",
    "#We discard the first growth rate since ytm1 doesn't have a well defined value for period 0\n",
    "ax.plot(growthyt[1:], color='#076e62')\n",
    "\n",
    "plt.axhline(growthyt[199],xmax=1,color='gray',linestyle='--')\n",
    "\n",
    "ax.set_xlabel(r'time')\n",
    "ax.set_ylabel(r'growth in $y_t$')\n",
    "ax.set_title('Growth in $y_t$ with a permanent positive shock in $s_H$');"
   ]
  }
 ],
 "metadata": {
  "kernelspec": {
   "display_name": "Python 3 (ipykernel)",
   "language": "python",
   "name": "python3"
  },
  "language_info": {
   "codemirror_mode": {
    "name": "ipython",
    "version": 3
   },
   "file_extension": ".py",
   "mimetype": "text/x-python",
   "name": "python",
   "nbconvert_exporter": "python",
   "pygments_lexer": "ipython3",
   "version": "3.9.13"
  },
  "toc-autonumbering": true,
  "vscode": {
   "interpreter": {
    "hash": "47ef90cdf3004d3f859f1fb202523c65c07ba7c22eefd261b181f4744e2d0403"
   }
  }
 },
 "nbformat": 4,
 "nbformat_minor": 4
}
