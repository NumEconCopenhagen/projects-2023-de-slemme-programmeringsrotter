{
 "cells": [
  {
   "attachments": {},
   "cell_type": "markdown",
   "metadata": {},
   "source": [
    "# VORES TITEL"
   ]
  },
  {
   "attachments": {},
   "cell_type": "markdown",
   "metadata": {},
   "source": [
    "**Motivation for our model project**\n",
    "\n",
    "In our model project we will begin with describing and solving the basic solow model. "
   ]
  },
  {
   "attachments": {},
   "cell_type": "markdown",
   "metadata": {},
   "source": [
    "Imports and set magics:"
   ]
  },
  {
   "cell_type": "code",
   "execution_count": 1,
   "metadata": {},
   "outputs": [],
   "source": [
    "## Importing necessary libraries\n",
    "\n",
    "import numpy as np\n",
    "import sympy as sm\n",
    "from scipy import optimize\n",
    "from sympy import Symbol\n",
    "from sympy.solvers import solve\n",
    "from IPython.display import display\n",
    "import matplotlib.pyplot as plt\n",
    "import ipywidgets as widgets\n",
    "\n",
    "## For better looking output\n",
    "sm.init_printing(use_unicode=True)\n",
    "\n",
    "## Autoreload modules when code is run\n",
    "%load_ext autoreload\n",
    "%autoreload 2\n",
    "\n",
    "## Importing local modules\n",
    "import modelproject"
   ]
  },
  {
   "attachments": {},
   "cell_type": "markdown",
   "metadata": {},
   "source": [
    "# The basic Solow model"
   ]
  },
  {
   "attachments": {},
   "cell_type": "markdown",
   "metadata": {},
   "source": [
    "$$\n",
    "\\begin{align}\n",
    "Y_t=BK_t^{\\alpha}L_t^{1-\\alpha} \\tag{1} \\\\\n",
    "r_t=\\alpha B\\left(\\frac{K_t}{L_t}\\right)^{\\alpha-1} \\tag{2} \\\\\n",
    "w_t=(1-\\alpha) B\\left(\\frac{K_t}{L_t}\\right)^{\\alpha} \\tag{3} \\\\\n",
    "S_t=sY_t \\tag{4} \\\\\n",
    "K_{t+1}-K_t=S_t-\\delta K_t \\tag{5} \\\\\n",
    "L_{t+1}=(1+n)L_t \\tag{6} \\\\\n",
    "\\end{align}\n",
    "$$\n",
    "\n",
    "Where we use the per. capita notation, $y_t=\\frac{Y_t}{L_t}$ and $k_t=\\frac{K_t}{L_t}$"
   ]
  },
  {
   "attachments": {},
   "cell_type": "markdown",
   "metadata": {
    "tags": []
   },
   "source": [
    "## Analytical Solution"
   ]
  },
  {
   "cell_type": "code",
   "execution_count": 7,
   "metadata": {},
   "outputs": [
    {
     "data": {
      "image/png": "[encoded data removed]",
      "text/latex": [
       "$\\displaystyle k^{*} = \\left(\\frac{B s}{\\delta + n}\\right)^{- \\frac{1}{\\alpha - 1}}$"
      ],
      "text/plain": [
       "               -1  \n",
       "              ─────\n",
       "              α - 1\n",
       "       ⎛ B⋅s ⎞     \n",
       "k__* = ⎜─────⎟     \n",
       "       ⎝δ + n⎠     "
      ]
     },
     "metadata": {},
     "output_type": "display_data"
    },
    {
     "data": {
      "image/png": "[encoded data removed]",
      "text/latex": [
       "$\\displaystyle y^{*} = B \\left(\\left(\\frac{B s}{\\delta + n}\\right)^{- \\frac{1}{\\alpha - 1}}\\right)^{\\alpha}$"
      ],
      "text/plain": [
       "                       α\n",
       "         ⎛        -1  ⎞ \n",
       "         ⎜       ─────⎟ \n",
       "         ⎜       α - 1⎟ \n",
       "         ⎜⎛ B⋅s ⎞     ⎟ \n",
       "y__* = B⋅⎜⎜─────⎟     ⎟ \n",
       "         ⎝⎝δ + n⎠     ⎠ "
      ]
     },
     "metadata": {},
     "output_type": "display_data"
    }
   ],
   "source": [
    "import sympy as sm\n",
    "\n",
    "sm.init_printing()\n",
    "\n",
    "# Define symbols\n",
    "n, s, B, k, kstar, ystar, alpha, delta = sm.symbols('n s B k k^* y^* alpha delta')\n",
    "\n",
    "# Solow Equation for k\n",
    "Solow_eq = sm.Eq(((s * B * k**alpha - (n + delta) * k) / (1 + n)), 0)\n",
    "\n",
    "# Solving to get the steady state equations for k and y\n",
    "k_ss = sm.solve(Solow_eq, k)[0]\n",
    "k_ss_factored = sm.factor(k_ss, B)\n",
    "\n",
    "steady_state_k = sm.Eq(kstar, k_ss)\n",
    "\n",
    "# Calculate steady-state value of y\n",
    "y = B * k**alpha\n",
    "y_ss = y.subs(k, k_ss)\n",
    "\n",
    "steady_state_y = sm.Eq(ystar, y_ss)\n",
    "\n",
    "# Print the steady-state equations for k and y\n",
    "display(steady_state_k)\n",
    "display(steady_state_y)"
   ]
  },
  {
   "attachments": {},
   "cell_type": "markdown",
   "metadata": {},
   "source": [
    "So we see that the steady state value for capital per worker, $k^*$ and $y^*$, written more elegantly, is given as:\n",
    "\n",
    "$k^*=B^{\\frac{1}{1-\\alpha}}\\left(\\frac{s}{n+\\delta}\\right)^{\\frac{1}{1-\\alpha}}$\n",
    "\n",
    "$y^*=B^{\\frac{1}{1-\\alpha}}\\left(\\frac{s}{n+\\delta}\\right)^{\\frac{\\alpha}{1-\\alpha}}$\n",
    "\n"
   ]
  },
  {
   "cell_type": "code",
   "execution_count": 8,
   "metadata": {},
   "outputs": [],
   "source": [
    "# Convert the symbolic steady-state k solution into a Python function\n",
    "k_ss_function = sm.lambdify((alpha, delta, B, n, s), k_ss)"
   ]
  },
  {
   "attachments": {},
   "cell_type": "markdown",
   "metadata": {},
   "source": [
    "Now, k_ss_function can be called with specific values for alpha, delta, B, n, and s.\n",
    "\n",
    "We now move into defining reasonable parameters in our model, and printing the related values of $k^*$ and $y^*$"
   ]
  },
  {
   "cell_type": "code",
   "execution_count": 9,
   "metadata": {},
   "outputs": [],
   "source": [
    "# Define model parameters using plausible empirical values\n",
    "alpha = 1/3\n",
    "n = 0.02\n",
    "s = 0.35\n",
    "B = 1\n",
    "delta = 0.05"
   ]
  },
  {
   "cell_type": "code",
   "execution_count": 10,
   "metadata": {},
   "outputs": [
    {
     "name": "stdout",
     "output_type": "stream",
     "text": [
      "k__* = 11.1803398874989\n"
     ]
    }
   ],
   "source": [
    "# Compute the steady-state value for k using the parameter values\n",
    "k_ss_value = k_ss_function(alpha, delta, B, n, s)\n",
    "\n",
    "# Create and display the equation for the steady-state k with the computed value\n",
    "steady_state_k_value = sm.Eq(kstar, k_ss_value)\n",
    "sm.pprint(steady_state_k_value)"
   ]
  },
  {
   "cell_type": "code",
   "execution_count": 11,
   "metadata": {},
   "outputs": [
    {
     "name": "stdout",
     "output_type": "stream",
     "text": [
      "y__* = 2.23606797749979\n"
     ]
    }
   ],
   "source": [
    "# Compute the steady-state value for y using the steady-state k value\n",
    "y_ss_value = B * k_ss_value**alpha\n",
    "\n",
    "# Create the equation for the steady-state y with the computed value\n",
    "steady_state_y_equation = sm.Eq(ystar, y_ss_value)\n",
    "sm.pprint(steady_state_y_equation)"
   ]
  },
  {
   "attachments": {},
   "cell_type": "markdown",
   "metadata": {},
   "source": [
    "## Numerical Solution"
   ]
  },
  {
   "cell_type": "code",
   "execution_count": 13,
   "metadata": {},
   "outputs": [
    {
     "name": "stdout",
     "output_type": "stream",
     "text": [
      "k* = 11.180\n"
     ]
    }
   ],
   "source": [
    "def solow_steady_state_k(n: float, s: float, B: float, alpha: float, delta: float) -> float:\n",
    "    \"\"\"\n",
    "    Args :\n",
    "    alpha: Output elasticity wrt capital\n",
    "    delta: Physical capital depreciation rate\n",
    "    s    : savings rate\n",
    "    n    : Population growth\n",
    "    B    : Productivity parameter\n",
    "    \"\"\"\n",
    "    solow_equation = lambda k: s * B * k**alpha - (n + delta) * k\n",
    "    \n",
    "    return optimize.bisect(solow_equation, 1, 100, full_output=False)\n",
    "\n",
    "k_star = solow_steady_state_k(n, s, B, alpha, delta)\n",
    "print(f'k* = {k_star:.3f}')"
   ]
  },
  {
   "attachments": {},
   "cell_type": "markdown",
   "metadata": {},
   "source": [
    "The solution is equal to the analytical solution, which implies that the $k^*$ and $y^*$ have the same computed values."
   ]
  },
  {
   "attachments": {},
   "cell_type": "markdown",
   "metadata": {},
   "source": [
    "We are now going to graphical visualize the solow diagram."
   ]
  },
  {
   "cell_type": "code",
   "execution_count": 27,
   "metadata": {},
   "outputs": [
    {
     "data": {
      "application/vnd.jupyter.widget-view+json": {
       "model_id": "6a2e9542d5b048efb3707aea72dc0dcb",
       "version_major": 2,
       "version_minor": 0
      },
      "text/plain": [
       "interactive(children=(FloatSlider(value=0.01, description='n', layout=Layout(width='50%'), max=0.1, min=0.01, …"
      ]
     },
     "metadata": {},
     "output_type": "display_data"
    },
    {
     "data": {
      "text/plain": [
       "<function __main__.plot_solow_diagram(k: int, n: float, s: float, B: int, alpha: float, delta: float, time: int)>"
      ]
     },
     "execution_count": 27,
     "metadata": {},
     "output_type": "execute_result"
    }
   ],
   "source": [
    "def plot_solow_diagram(k: int, n: float, s: float, B: int, alpha: float, delta: float, time: int):\n",
    "    k_growth = [s * B * t**alpha for t in range(time + 1)]\n",
    "    diagonal = [(n + delta) * t for t in range(time + 1)]\n",
    "\n",
    "    plt.rcParams['axes.facecolor'] = 'white'\n",
    "    plt.figure(figsize=(8, 6))\n",
    "    plt.plot(k_growth, label=r'$sBk_t^{\\alpha}$', color='tab:orange')\n",
    "    plt.plot(diagonal, label=r'$(n+\\delta)k_t$', color='tab:blue')\n",
    "    plt.xlim(0, time)\n",
    "    plt.ylim(0, diagonal[-1])\n",
    "    plt.xlabel('Capital per capita, $k_t$')\n",
    "    plt.ylabel('Capital per capita, $y_t$')\n",
    "    plt.legend()\n",
    "    plt.title('Solow Diagram')\n",
    "    plt.grid(True)  # add grid\n",
    "    plt.show()\n",
    "\n",
    "widgets.interact(\n",
    "    plot_solow_diagram,\n",
    "    k=widgets.fixed(0),\n",
    "    alpha=widgets.FloatSlider(description=r'α', min=0, max=0.9, step=0.05, value=0.3, layout=widgets.Layout(width='50%')),\n",
    "    delta=widgets.FloatSlider(description=r'δ', min=0, max=0.1, step=0.01, value=0.01, layout=widgets.Layout(width='50%')),\n",
    "    s=widgets.FloatSlider(description='s', min=0.01, max=0.8, step=0.05, value=0.4, layout=widgets.Layout(width='50%')),\n",
    "    n=widgets.FloatSlider(description='n', min=0.01, max=0.1, step=0.005, value=0.01, layout=widgets.Layout(width='50%')),\n",
    "    B=widgets.fixed(1),\n",
    "    time=widgets.IntSlider(description='Time', min=1, max=1000, step=10, value=100, layout=widgets.Layout(width='50%'))\n",
    ")\n"
   ]
  },
  {
   "attachments": {},
   "cell_type": "markdown",
   "metadata": {},
   "source": [
    "Blalbalba om solow diagram.\n",
    "\n",
    "Moving forward to an extended version of the basic solow, now moving into a genereal solow model with human capital."
   ]
  },
  {
   "attachments": {},
   "cell_type": "markdown",
   "metadata": {},
   "source": [
    "## Solow model with human capital"
   ]
  },
  {
   "attachments": {},
   "cell_type": "markdown",
   "metadata": {},
   "source": [
    "\\begin{align}\n",
    "Y_t&=K_t^\\alpha H_t^{\\varphi}\\left(A_t L_t\\right)^{1-\\alpha-\\varphi}, \\tag{7} \\\\\n",
    "r_t&=\\alpha\\left(\\frac{K_t}{A_t L_t}\\right)^{\\alpha-1}\\left(\\frac{H_t}{A_t L_t}\\right)^{\\varphi}, \\tag{8} \\\\\n",
    "w_t&=(1-\\alpha)\\left(\\frac{K_t}{A_t L_t}\\right)^\\alpha\\left(\\frac{H_t}{A_t L_t}\\right)^{\\varphi} A_t, \\tag{9} \\\\\n",
    "K_{t+1}-K_t&=s_K Y_t-\\delta K_t, \\tag{10} \\\\\n",
    "H_{t+1}-H_t&=s_H Y_t-\\delta H_t, \\tag{11} \\\\\n",
    "L_{t+1}&=(1+n) L_t, \\tag{12} \\\\\n",
    "A_{t+1}&=(1+g) A_t . \\tag{13}\n",
    "\\end{align}\n",
    "\n",
    "\n",
    "Where $\\tilde k = \\frac{K_t}{A_tL_t}$"
   ]
  },
  {
   "attachments": {},
   "cell_type": "markdown",
   "metadata": {},
   "source": [
    "**Tekst om hvad der egentlig står der**"
   ]
  },
  {
   "cell_type": "code",
   "execution_count": 81,
   "metadata": {},
   "outputs": [],
   "source": [
    "#We define all symbols\n",
    "k = sm.symbols('k') #physical capital\n",
    "ktilde = sm.symbols('ktilde') #physical capital per effective worker\n",
    "htilde = sm.symbols('htilde') #human capital per effective worker\n",
    "h = sm.symbols('h') #human capital\n",
    "alpha = sm.symbols('alpha') #return on physical capital\n",
    "phi = sm.symbols('phi') #return on human capital\n",
    "delta = sm.symbols('delta') #depreciation rate on capital\n",
    "sh = sm.symbols('sh') #savings/investment rate in human capital\n",
    "sk = sm.symbols('sk') #savings/investment rate in physical capital\n",
    "g = sm.symbols('g') #growth in technology\n",
    "n = sm.symbols('n') #growth in labour force"
   ]
  },
  {
   "cell_type": "code",
   "execution_count": 85,
   "metadata": {},
   "outputs": [],
   "source": [
    "#The we define the steady state equations\n",
    "ktilde, htilde, sk, sh, alpha, phi, n, g, delta = sm.symbols('ktilde htilde sk sh alpha phi n g delta')\n",
    "\n",
    "solow_ktilde = sm.Eq((sk * ktilde**alpha * htilde**phi - (n + g + delta + n * g) * ktilde) / ((1 + n) * (1 + g)), 0)\n",
    "solow_htilde = sm.Eq((sh * ktilde**alpha * htilde**phi - (n + g + delta + n * g) * htilde) / ((1 + n) * (1 + g)), 0)\n"
   ]
  },
  {
   "cell_type": "code",
   "execution_count": 86,
   "metadata": {},
   "outputs": [
    {
     "ename": "NotImplementedError",
     "evalue": "could not solve -ktilde*(delta + g*n + g + n) + ktilde**alpha*sk*(((delta + g*n + g + n)/(ktilde**alpha*sh))**(1/(phi - 1)))**phi",
     "output_type": "error",
     "traceback": [
      "\u001b[1;31m---------------------------------------------------------------------------\u001b[0m",
      "\u001b[1;31mNotImplementedError\u001b[0m                       Traceback (most recent call last)",
      "Cell \u001b[1;32mIn[86], line 1\u001b[0m\n\u001b[1;32m----> 1\u001b[0m sss \u001b[38;5;241m=\u001b[39m \u001b[43msm\u001b[49m\u001b[38;5;241;43m.\u001b[39;49m\u001b[43msolve\u001b[49m\u001b[43m(\u001b[49m\u001b[43m(\u001b[49m\u001b[43msolow_ktilde\u001b[49m\u001b[43m,\u001b[49m\u001b[43m \u001b[49m\u001b[43msolow_htilde\u001b[49m\u001b[43m)\u001b[49m\u001b[43m,\u001b[49m\u001b[43m \u001b[49m\u001b[43m(\u001b[49m\u001b[43mktilde\u001b[49m\u001b[43m,\u001b[49m\u001b[43m \u001b[49m\u001b[43mhtilde\u001b[49m\u001b[43m)\u001b[49m\u001b[43m)\u001b[49m\n\u001b[0;32m      2\u001b[0m display(sss)\n",
      "File \u001b[1;32m~\\anaconda3\\lib\\site-packages\\sympy\\solvers\\solvers.py:1114\u001b[0m, in \u001b[0;36msolve\u001b[1;34m(f, *symbols, **flags)\u001b[0m\n\u001b[0;32m   1112\u001b[0m     solution \u001b[38;5;241m=\u001b[39m _solve(f[\u001b[38;5;241m0\u001b[39m], \u001b[38;5;241m*\u001b[39msymbols, \u001b[38;5;241m*\u001b[39m\u001b[38;5;241m*\u001b[39mflags)\n\u001b[0;32m   1113\u001b[0m \u001b[38;5;28;01melse\u001b[39;00m:\n\u001b[1;32m-> 1114\u001b[0m     solution \u001b[38;5;241m=\u001b[39m _solve_system(f, symbols, \u001b[38;5;241m*\u001b[39m\u001b[38;5;241m*\u001b[39mflags)\n\u001b[0;32m   1116\u001b[0m \u001b[38;5;66;03m#\u001b[39;00m\n\u001b[0;32m   1117\u001b[0m \u001b[38;5;66;03m# postprocessing\u001b[39;00m\n\u001b[0;32m   1118\u001b[0m \u001b[38;5;66;03m###########################################################################\u001b[39;00m\n\u001b[0;32m   1119\u001b[0m \u001b[38;5;66;03m# Restore masked-off objects\u001b[39;00m\n\u001b[0;32m   1120\u001b[0m \u001b[38;5;28;01mif\u001b[39;00m non_inverts:\n",
      "File \u001b[1;32m~\\anaconda3\\lib\\site-packages\\sympy\\solvers\\solvers.py:1995\u001b[0m, in \u001b[0;36m_solve_system\u001b[1;34m(exprs, symbols, **flags)\u001b[0m\n\u001b[0;32m   1993\u001b[0m         got_s\u001b[38;5;241m.\u001b[39madd(s)\n\u001b[0;32m   1994\u001b[0m     \u001b[38;5;28;01mif\u001b[39;00m \u001b[38;5;129;01mnot\u001b[39;00m hit:\n\u001b[1;32m-> 1995\u001b[0m         \u001b[38;5;28;01mraise\u001b[39;00m \u001b[38;5;167;01mNotImplementedError\u001b[39;00m(\u001b[38;5;124m'\u001b[39m\u001b[38;5;124mcould not solve \u001b[39m\u001b[38;5;132;01m%s\u001b[39;00m\u001b[38;5;124m'\u001b[39m \u001b[38;5;241m%\u001b[39m eq2)\n\u001b[0;32m   1996\u001b[0m \u001b[38;5;28;01melse\u001b[39;00m:\n\u001b[0;32m   1997\u001b[0m     result \u001b[38;5;241m=\u001b[39m newresult\n",
      "\u001b[1;31mNotImplementedError\u001b[0m: could not solve -ktilde*(delta + g*n + g + n) + ktilde**alpha*sk*(((delta + g*n + g + n)/(ktilde**alpha*sh))**(1/(phi - 1)))**phi"
     ]
    }
   ],
   "source": [
    "sss = sm.solve((solow_ktilde, solow_htilde), (ktilde, htilde))\n",
    "display(sss)"
   ]
  },
  {
   "cell_type": "code",
   "execution_count": 87,
   "metadata": {},
   "outputs": [],
   "source": [
    "import numpy as np\n",
    "from scipy.optimize import fsolve\n",
    "\n",
    "# Define the Solow equations\n",
    "def solow_ktilde_eq(ktilde, htilde, sk, alpha, phi, n, g, delta):\n",
    "    return (sk * ktilde**alpha * htilde**phi - (n + g + delta + n * g) * ktilde) / ((1 + n) * (1 + g))\n",
    "\n",
    "def solow_htilde_eq(ktilde, htilde, sh, alpha, phi, n, g, delta):\n",
    "    return (sh * ktilde**alpha * htilde**phi - (n + g + delta + n * g) * htilde) / ((1 + n) * (1 + g))"
   ]
  },
  {
   "cell_type": "code",
   "execution_count": 94,
   "metadata": {},
   "outputs": [],
   "source": [
    "# Parameters\n",
    "params = {\n",
    "    'alpha': 0.3,\n",
    "    'phi': 0.7,\n",
    "    'delta': 0.05,\n",
    "    'sh': 0.2,\n",
    "    'sk': 0.2,\n",
    "    'g': 0.01,\n",
    "    'n': 0.01\n",
    "}\n"
   ]
  },
  {
   "cell_type": "code",
   "execution_count": 95,
   "metadata": {},
   "outputs": [],
   "source": [
    "def solow_steady_state(params):\n",
    "    # Unpack parameters\n",
    "    alpha, phi, delta, sh, sk, g, n = params.values()\n",
    "\n",
    "    # Define the system of equations\n",
    "    def equations(variables):\n",
    "        ktilde, htilde = variables\n",
    "        return (\n",
    "            solow_ktilde_eq(ktilde, htilde, sk, alpha, phi, n, g, delta),\n",
    "            solow_htilde_eq(ktilde, htilde, sh, alpha, phi, n, g, delta)\n",
    "        )\n",
    "\n",
    "    # Initial guess for the solver\n",
    "    initial_guess = (1, 1)\n",
    "\n",
    "    # Solve the system of equations\n",
    "    ktilde_ss, htilde_ss = fsolve(equations, initial_guess)\n",
    "\n",
    "    return ktilde_ss, htilde_ss"
   ]
  },
  {
   "cell_type": "code",
   "execution_count": 96,
   "metadata": {},
   "outputs": [
    {
     "name": "stdout",
     "output_type": "stream",
     "text": [
      "Steady state ktilde: 1.0\n",
      "Steady state htilde: 1.0\n"
     ]
    },
    {
     "name": "stderr",
     "output_type": "stream",
     "text": [
      "C:\\Users\\user\\AppData\\Local\\Temp\\ipykernel_20984\\2192290174.py:6: RuntimeWarning: invalid value encountered in double_scalars\n",
      "  return (sk * ktilde**alpha * htilde**phi - (n + g + delta + n * g) * ktilde) / ((1 + n) * (1 + g))\n",
      "C:\\Users\\user\\AppData\\Local\\Temp\\ipykernel_20984\\2192290174.py:9: RuntimeWarning: invalid value encountered in double_scalars\n",
      "  return (sh * ktilde**alpha * htilde**phi - (n + g + delta + n * g) * htilde) / ((1 + n) * (1 + g))\n"
     ]
    }
   ],
   "source": [
    "ktilde_ss, htilde_ss = solow_steady_state(params)\n",
    "print(f'Steady state ktilde: {ktilde_ss}')\n",
    "print(f'Steady state htilde: {htilde_ss}')"
   ]
  },
  {
   "cell_type": "code",
   "execution_count": null,
   "metadata": {},
   "outputs": [],
   "source": []
  },
  {
   "cell_type": "code",
   "execution_count": null,
   "metadata": {},
   "outputs": [],
   "source": []
  },
  {
   "cell_type": "code",
   "execution_count": null,
   "metadata": {},
   "outputs": [],
   "source": []
  }
 ],
 "metadata": {
  "kernelspec": {
   "display_name": "Python 3 (ipykernel)",
   "language": "python",
   "name": "python3"
  },
  "language_info": {
   "codemirror_mode": {
    "name": "ipython",
    "version": 3
   },
   "file_extension": ".py",
   "mimetype": "text/x-python",
   "name": "python",
   "nbconvert_exporter": "python",
   "pygments_lexer": "ipython3",
   "version": "3.9.13"
  },
  "toc-autonumbering": true,
  "vscode": {
   "interpreter": {
    "hash": "47ef90cdf3004d3f859f1fb202523c65c07ba7c22eefd261b181f4744e2d0403"
   }
  }
 },
 "nbformat": 4,
 "nbformat_minor": 4
}
